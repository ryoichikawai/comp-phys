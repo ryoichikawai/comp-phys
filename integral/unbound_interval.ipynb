{
 "cells": [
  {
   "cell_type": "markdown",
   "id": "e7f5069c-6a44-4acf-b7ab-40962f00cae0",
   "metadata": {},
   "source": [
    "(sec:unbound-interval)=\n",
    "# Improper Integrals I: Infinite bound\n"
   ]
  },
  {
   "cell_type": "markdown",
   "id": "21ba1c59-0a95-43e6-9b16-ef5eb8d3cdf5",
   "metadata": {},
   "source": [
    "When infinity is involved in either the integral interval or the integrand, we have an [improper integral](https://en.wikipedia.org/wiki/Improper_integral).  In this section, we deal with the former and the latter type of improper integral is discussed in the next section.\n",
    "\n",
    "If the upper and/or lower limit envolves $\\infty$,  the methods of peicewise intetration won't work since infinite segments must be added up. \n",
    "\n",
    "For example, consider\n",
    "\n",
    "$$\n",
    "\\int_1^\\infty x^{-2}\\, dx\\,.\n",
    "$$\n",
    "\n",
    "Despite the infinite interval this integral converges to $1$.   One might hope that the infinity can be approximated by some large number $L$.  Then, the approxmated integral is\n",
    "\n",
    "$$\n",
    "\\int_1^L x^{-2}\\, dx = 1 - \\frac{1}{L}\n",
    "$$\n",
    "\n",
    "If we want to get four digits of accuracy, $L$ must be larger than $10^{4}$.  If step size $h=10^{-2}$ is used, we have sum up $10^6$ segments.  \n",
    "\n",
    ">**Exercise 3.2.1**:  Evaluate the integral using the trapezoidal rule.\n",
    "\n",
    "The output of the above exercise suggests that this approach is feasible for this simple integral. However, if we need a higher accuracy, the accumulation of round-off error may become an issue. Furthermore, if the integrand is more complicated, it is difficult to find an appropriate upper bound. \n",
    "\n",
    "There are better strategies.  In the following, two approaches are introduced.\n"
   ]
  },
  {
   "cell_type": "markdown",
   "id": "24afab59-7c4f-4dfc-8cde-3fe7fc2ef66a",
   "metadata": {},
   "source": [
    "## Method of variable transformation\n",
    "\n",
    "One way to overcome the above problem is to split the integral to two parts\n",
    "\n",
    "$$\n",
    "\\int_a^\\infty f(x)\\, dx = \\int_a^b f(x)\\, dx + \\int_b^\\infty f(x)\\,dx\n",
    "$$\n",
    "\n",
    "where $b$ is a constant to be chosen.\n",
    "The first term in the right hand side can be integrated by the trapezoidal or the simpson rule. The second term needs to be transformed to a numerically computable form by introducing a new variable $y=\\displaystyle\\frac{1}{x}$. Then, the integral we need to compute is\n",
    "\n",
    "$$\n",
    "\\int_b^\\infty f(x)\\, dx = \\int_0^{1/b} \\frac{1}{y^2}\\, f\\left (\\frac{1}{y} \\right )\\, dy\n",
    "$$\n",
    "\n",
    "Now the infinity disappeared.\n",
    "However, the new form is not necessarily trouble free since the integrand may not be defined at the lower bound  (divided-by-zero error). If we can evaluate $\\displaystyle\\lim_{y \\rightarrow 0} \\frac{1}{y^2} f\\left (\\frac{1}{y} \\right )$ analytically by hand, then standard methods such as the Simpson method works if an appropriate $b$ is chosen.\n"
   ]
  },
  {
   "cell_type": "markdown",
   "id": "b8d640b3-cb16-4a71-aa93-cb8e5dbe9e8d",
   "metadata": {},
   "source": [
    "**Example 3.2.1**  Evcaluate $\\displaystyle\\int_0^\\infty \\frac{1}{x^2+1} dx$.  The exact answer is known to be $\\pi/2$.\n",
    "\n",
    "$$\n",
    "\\int_0^\\infty \\frac{1}{x^2+1} dx = \\int_0^b \\frac{1}{x^2+1} dx + \\int_0^{1/b} \\frac{1}{y^2}\\frac{1}{\\frac{1}{y^2}+1} dy = \\int_0^b \\frac{1}{x^2+1} dx + \\int_0^{1/b} \\frac{1}{y^2+1} dy\n",
    "$$\n",
    "\n",
    "Now we conveniently choose $b=1$.  Then, the two seprate integrals become ideitical.  Hence,\n",
    "\n",
    "$$\n",
    "\\int_0^\\infty \\frac{1}{x^2+1} dx = \\int_0^1 \\frac{2}{x^2+1} dx\n",
    "$$\n",
    "\n",
    "Now, we integrate this using the Simson's rule."
   ]
  },
  {
   "cell_type": "code",
   "execution_count": 1,
   "id": "c90f35ee-e45e-4900-bb4d-c2ebdc8870a9",
   "metadata": {
    "scrolled": true,
    "tags": []
   },
   "outputs": [
    {
     "name": "stdout",
     "output_type": "stream",
     "text": [
      "simpson = 1.5707963267948768\n",
      "  exact = 1.5707963267948966\n",
      "  error = -1.9761969838327786e-14\n"
     ]
    }
   ],
   "source": [
    "import numpy as np\n",
    "import scipy.integrate as integrate\n",
    "N=100\n",
    "x = np.linspace(0,1,N+1)\n",
    "\n",
    "f = 2./(x**2+1)\n",
    "s=integrate.simpson(f,x=x)\n",
    "error=s-np.pi/2\n",
    "print(\"simpson =\",s)\n",
    "print(\"  exact =\",np.pi/2.)\n",
    "print(\"  error =\",error)"
   ]
  },
  {
   "cell_type": "markdown",
   "id": "1e7fa84a-a026-448d-885b-050aef269abc",
   "metadata": {},
   "source": [
    "We obtain 14 digits of precision."
   ]
  },
  {
   "cell_type": "markdown",
   "id": "152d1a0c-d1e1-48d6-8f33-9097e35ddcd1",
   "metadata": {},
   "source": [
    "There is another variable transformation for $\\int_0^\\infty f(x) dx$.  Using $x = (1-y)/y$ and its inverse $y = 1/(x+1)$\n",
    "\n",
    "$$\n",
    "\\int_0^\\infty f(x) \\, dx = \\int_0^1 \\frac{1}{y^2} f\\left(\\frac{1-y}{y}\\right)\\, dy\n",
    "$$\n",
    "\n",
    "This is not necessary a better approach than the previous one. One advantage is that we don't have to devide the interval. In fact, many canned routines such as scipy.integrate.quad uses this method.  So, you may want to try this approach first.  If not satisfactory, use the previous one."
   ]
  },
  {
   "cell_type": "markdown",
   "id": "a2eec4b5-6661-4ab5-9d01-1f62e4a50550",
   "metadata": {},
   "source": [
    "> **Exercise 3.2.2:**  Solve Exercise 3.2.1 using this method. Is there any improvment in the accuracy?"
   ]
  },
  {
   "cell_type": "markdown",
   "id": "da9bbffe-f026-40b9-a7fa-10d8fa8fa569",
   "metadata": {},
   "source": [
    "## Gaussian Quadratures\n",
    "\n",
    "There amazing methods, known as [Gaussian quadrature](https://en.wikipedia.org/wiki/Gaussian_quadrature).  Some of them are quite useful for physics as shown in Appication section.  In the following, we introduce two of them [Gauss-Laggeurre quadrature](https://en.wikipedia.org/wiki/Gauss%E2%80%93Laguerre_quadrature) and\n",
    "[Gauss–Hermite quadrature](https://en.wikipedia.org/wiki/Gauss%E2%80%93Hermite_quadrature).\n"
   ]
  },
  {
   "cell_type": "markdown",
   "id": "037168d4-bd93-4d45-9ee5-68858977d02a",
   "metadata": {},
   "source": [
    "### Gauss-Lagguerre quadrature\n",
    "\n",
    "the Gaussian-Laguerre Quadrature approximate the following form of integral as a simple weighted sum:\n",
    "\n",
    "$$\n",
    "\\int_0^\\infty f(x) e^{-x} \\, dx \\approx \\sum_{i=1}^{n} w_i f(x_i)\n",
    "$$\n",
    "\n",
    "where the bscissa $x_i$ is the $i$-th root of Laguerre polynomial $L_n(x)$ and the weight $w_i$ is given by\n",
    "\n",
    "$$\n",
    "w_i = \\frac{x_i}{(n+1)^2[L_{n+1}(x_i)]^2}\n",
    "$$\n",
    "\n",
    "Amazingly, $n$ can be as small as 4 to get a resonable approximation despite that the integral interval is infinite. It is almost a miracle that the sum of several terms approximate the improper integral.  Now, a question is if this method can be used in the absence of the exponential function.  Suppose that we want to evalute $\\int_0^\\infty g(x)\\, dx$. Can we do the following?\n",
    "\n",
    "$$\n",
    "\\int_0^\\infty g(x)\\, dx = \\int_0^\\infty g(x) e^{x} e^{-x}\\, dx \\approx \\sum_{i=1}^{n} w_i g(x_i) e^{x_i}\n",
    "$$\n",
    "It looks cheating.  It is known to work in some cases but fails in many other cases.  There is no guarntee.\n",
    "\n",
    "The following code generates the abscissas and the weights for any ginve $n$ with 20 digits of precision. See Chapter xxx for root finding methods and Chapter yyy for special functions."
   ]
  },
  {
   "cell_type": "code",
   "execution_count": 2,
   "id": "54c0eb32-5ce2-429b-aeba-8897a79b0869",
   "metadata": {
    "tags": []
   },
   "outputs": [
    {
     "name": "stdout",
     "output_type": "stream",
     "text": [
      "  i             x_i                       w_i           \n",
      "  0  3.2254768961939231180e-1  6.0315410434163360164e-1\n",
      "  1  1.7457611011583465757e+0  3.5741869243779968664e-1\n",
      "  2  4.5366202969211279833e+0  3.8887908515005384272e-2\n",
      "  3  9.3950709123011331292e+0  5.3929470556132745010e-4\n"
     ]
    }
   ],
   "source": [
    "# We use sympy package\n",
    "from sympy import symbols, poly, laguerre\n",
    "\n",
    "# this function computes abscissas and weights for ginve n\n",
    "def laguerre_weights_roots(n):\n",
    "    x = symbols(\"x\")\n",
    "    roots = poly(laguerre(n, x)).all_roots()\n",
    "    x_i = [rt.evalf(20) for rt in roots]\n",
    "    w_i = [(rt / ((n + 1) * laguerre(n + 1, rt)) ** 2).evalf(20) for rt in roots]\n",
    "    return x_i, w_i\n",
    "\n",
    "# set the number of abscissas\n",
    "n=4\n",
    "\n",
    "# compute all abscissas and weights\n",
    "[x,w]=laguerre_weights_roots(n)\n",
    "\n",
    "# print out the results\n",
    "print(\" {0:^3} {1:^25} {2:^25}\".format(\"i\",\"x_i\",\"w_i\"))\n",
    "for i in range(n):\n",
    "    print(\"{0:3d} {1:25.19e} {2:25.19e}\".format(i,x[i],w[i]))"
   ]
  },
  {
   "cell_type": "code",
   "execution_count": 3,
   "id": "4c53d115-d77a-4403-b40d-cc9569e79540",
   "metadata": {
    "scrolled": true,
    "tags": []
   },
   "outputs": [
    {
     "name": "stdout",
     "output_type": "stream",
     "text": [
      "[0.32254768961939231180, 1.7457611011583465757, 4.5366202969211279833, 9.3950709123011331292]\n",
      "[0.32254769 1.7457611  4.5366203 ]\n",
      "[ 0.31698389  0.98473267 -0.98459241]\n"
     ]
    }
   ],
   "source": [
    "print(x)\n",
    "import numpy as np\n",
    "y=np.array([x[0], x[1], x[2]],dtype=float)\n",
    "print(y)\n",
    "\n",
    "print(np.sin(y))"
   ]
  },
  {
   "cell_type": "markdown",
   "id": "b1c4f991-b7b7-47c1-b366-125be99f0236",
   "metadata": {},
   "source": [
    "**Example 3.2.2**  Let us evaluate $\\int_0^\\infty \\sin(b x) e^{-a x}\\, dx$.  The exact anser is $\\frac{b}{a^2 + b^2}$. We try $a=b=1$.  Then, the answer should be $0.5$."
   ]
  },
  {
   "cell_type": "code",
   "execution_count": 4,
   "id": "86c59c53-ea6b-45ab-966d-c75ac865ae2a",
   "metadata": {
    "tags": []
   },
   "outputs": [
    {
     "name": "stdout",
     "output_type": "stream",
     "text": [
      " Exact=5.000000000000e-01\n",
      " Gauss=4.999877537353e-01\n",
      " Error=1.224626470031e-05\n"
     ]
    }
   ],
   "source": [
    "import numpy as np\n",
    "\n",
    "# Here we use the table of the abscissas and weights\n",
    "# instread of calculating them.\n",
    "# Smetime this is mor convenient.\n",
    "x=np.array([1.7027963230510100e-1, 9.0370177679937991e-1,\n",
    "            2.2510866298661307,    4.2667001702876588,\n",
    "            7.0459054023934657,    1.0758516010180995e+1,\n",
    "            1.5740678641278005e+1, 2.2863131736889264e+1])\n",
    "\n",
    "w=np.array([3.6918858934163753e-1, 4.1878678081434296e-1,\n",
    "            1.7579498663717181e-1, 3.3343492261215652e-2,\n",
    "            2.7945362352256725e-3, 9.0765087733582131e-5,\n",
    "            8.4857467162725315e-7, 1.0480011748715104e-9])\n",
    "\n",
    "gauss=(w*np.sin(x)).sum()\n",
    "exact=1/2.\n",
    "\n",
    "print(\" Exact={0:18.12e}\\n Gauss={1:18.12e}\\n Error={2:18.12e}\".format(exact,  gauss, abs(exact-gauss)))\n"
   ]
  },
  {
   "cell_type": "markdown",
   "id": "186c8a24-dbd3-42b7-ac32-0e44209bd6ee",
   "metadata": {},
   "source": [
    "**Example 3.2.3**\n",
    "\n"
   ]
  },
  {
   "cell_type": "markdown",
   "id": "7bcc23a5-f21b-4f8d-a3e4-f1cf1963fc39",
   "metadata": {},
   "source": [
    "Considering we used only 8 points, five digits agreement is quite good.\n",
    "\n",
    "> **Exercise:**  Try $n=4$ and find how good or bad it is.\n"
   ]
  },
  {
   "cell_type": "markdown",
   "id": "3a77ec1c-1423-48e9-bff3-2532d97c848e",
   "metadata": {},
   "source": [
    "### Gauss-Hermite quadrature\n",
    "\n",
    "Another popular Gaussian quadrature is [Gauss-Hermite quadrature](https://en.wikipedia.org/wiki/Gauss%E2%80%93Hermite_quadrature) which approximates the following improper integral:\n",
    "\n",
    "$$\n",
    "\\int_{-\\infty}^\\infty f(x) e^{-x^2}\\, dx \\approx \\sum_{i=1}^n w_i \\left[f(x_i)+f(-x_i) \\right]\n",
    "$$\n",
    "\n",
    "where the bscissa $x_i$ is the $i$-th root of Hermite polynomial $H_n(x)$ and the weight $w_i$ is given by\n",
    "\n",
    "$$\n",
    "w_i = \\frac{2^{n-1} n! \\sqrt{\\pi}}{n^2[H_{n-1}(x_i)]^2}\n",
    "$$\n",
    "\n",
    "The following code generates the abscissas and the weights for any ginve  with 20 digits of precision. See Chapter xxx for root finding methods and Chapter yyy for special functions."
   ]
  },
  {
   "cell_type": "code",
   "execution_count": 5,
   "id": "27b92b2c-d1d6-467e-9720-f7ea283857c3",
   "metadata": {
    "tags": []
   },
   "outputs": [
    {
     "name": "stdout",
     "output_type": "stream",
     "text": [
      "  i             x_i                       w_i           \n",
      "  0 -2.9306374202572440192e+0  1.9960407221136761921e-4\n",
      "  1 -1.9816567566958429259e+0  1.7077983007413475456e-2\n",
      "  2 -1.1571937124467801947e+0  2.0780232581489187954e-1\n",
      "  3 -3.8118699020732211685e-1  6.6114701255824129103e-1\n",
      "  4  3.8118699020732211685e-1  6.6114701255824129103e-1\n",
      "  5  1.1571937124467801947e+0  2.0780232581489187954e-1\n",
      "  6  1.9816567566958429259e+0  1.7077983007413475456e-2\n",
      "  7  2.9306374202572440192e+0  1.9960407221136761921e-4\n"
     ]
    }
   ],
   "source": [
    "from sympy import *\n",
    "\n",
    "def hermite_weights_roots(n):\n",
    "    x = symbols('x')\n",
    "    roots = poly(hermite(n, x)).all_roots()\n",
    "    x_i = [rt.evalf(20) for rt in roots]\n",
    "    w_i = [(2**(n-1) * factorial(n) * sqrt(pi) / (n * hermite(n-1, rt))**2).evalf(20) for rt in roots]\n",
    "    return x_i, w_i\n",
    "\n",
    "n=8\n",
    "[x,w]=hermite_weights_roots(n)\n",
    "\n",
    "print(\" {0:^3} {1:^25} {2:^25}\".format(\"i\",\"x_i\",\"w_i\"))\n",
    "for i in range(n):\n",
    "    print(\"{0:3d} {1:25.19e} {2:25.19e}\".format(i,x[i],w[i]))"
   ]
  },
  {
   "cell_type": "markdown",
   "id": "bd53435f-d49f-4e5f-8e57-acc89500a23f",
   "metadata": {},
   "source": [
    "**Example 3.2.2**  Let us evaluate $\\int_{-\\infty}^\\infty \\cos(x) e^{-x^2}\\, dx$.  The exact answer is $\\sqrt{\\pi}e^{-1/4}$. "
   ]
  },
  {
   "cell_type": "code",
   "execution_count": 6,
   "id": "486f0d6e-b780-4b5f-aad3-3d82a412c19a",
   "metadata": {
    "tags": []
   },
   "outputs": [
    {
     "name": "stdout",
     "output_type": "stream",
     "text": [
      " Exact=1.380388447043e+00\n",
      " Gauss=1.380388447031e+00\n",
      " Error=1.184230491447e-11\n"
     ]
    }
   ],
   "source": [
    "import numpy as np\n",
    "\n",
    "# We use 8-point method.\n",
    "x=np.array([-2.9306374202572440192, -1.9816567566958429259,\n",
    "            -1.1571937124467801947, -0.3811869902073221168,\n",
    "             0.3811869902073221168,  1.1571937124467801947,\n",
    "             1.9816567566958429259,  2.9306374202572440192])\n",
    "\n",
    "w=np.array([1.9960407221136761921e-4, 1.7077983007413475456e-2,\n",
    "            2.0780232581489187954e-1, 6.6114701255824129103e-1,\n",
    "            6.6114701255824129103e-1, 2.0780232581489187954e-1,\n",
    "            1.7077983007413475456e-2, 1.9960407221136761921e-4])\n",
    "\n",
    "gauss=(w*np.cos(x)).sum()\n",
    "exact=np.sqrt(np.pi)* np.exp(-1./4.)\n",
    "\n",
    "print(\" Exact={0:18.12e}\\n Gauss={1:18.12e}\\n Error={2:18.12e}\".format(exact,  gauss, abs(exact-gauss)))"
   ]
  },
  {
   "cell_type": "markdown",
   "id": "7cd4212f-f942-4ffc-826b-e2aae61c3c59",
   "metadata": {},
   "source": [
    "The agreement is quite good.\n",
    "\n"
   ]
  },
  {
   "cell_type": "code",
   "execution_count": null,
   "id": "0f1dc4d0-9291-4679-90c4-dfefbf63adce",
   "metadata": {},
   "outputs": [],
   "source": []
  }
 ],
 "metadata": {
  "kernelspec": {
   "display_name": "book",
   "language": "python",
   "name": "book"
  },
  "language_info": {
   "codemirror_mode": {
    "name": "ipython",
    "version": 3
   },
   "file_extension": ".py",
   "mimetype": "text/x-python",
   "name": "python",
   "nbconvert_exporter": "python",
   "pygments_lexer": "ipython3",
   "version": "3.12.11"
  }
 },
 "nbformat": 4,
 "nbformat_minor": 5
}
