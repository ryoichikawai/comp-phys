{
 "cells": [
  {
   "cell_type": "markdown",
   "id": "da51a63d-5583-407d-b378-f461b0805f94",
   "metadata": {},
   "source": [
    "(app:scattering-angle)=\n",
    "# Scattering by the Yukawa potential"
   ]
  },
  {
   "cell_type": "markdown",
   "id": "73ad5c87-25d0-4248-b521-b890aa547bbd",
   "metadata": {},
   "source": [
    "A particle elastically collides with another particle through a spherical potential $U(r)$ where $r$ is the distance between the particles.  As we discussed in {numref}`app:closet-approach`, the scattering angle is given by $\\theta = \\pi - 2 \\phi$ where\n",
    "\n",
    "$$\n",
    "\\phi = \\int_{r_0}^{\\infty} \\frac{b}{r^2} \\frac{1}{\\sqrt{1 - \\displaystyle\\frac{b^2}{r^2}-\\displaystyle\\frac{U(r)}{E}}} dr\\, .\n",
    "$$(eq:scattering-angle1)\n",
    "\n",
    "We already developed a numerical method to find the closest distance $r_0$ in {numref}`app:closet-approach`.  However, we are still not quite ready to evaluate the integral because it is doubly improper.  First, the upper integral limit is infinity.  Secondly, the integrand diverges at the closest distance.\n",
    "\n",
    "\n",
    "The former issue can be solved by the standard method discussed in {numref}`sec:unbound-interval`.\n",
    "Introducing a variable $u = \\displaystyle\\frac{1}{r}$. Eq. {eq}`eq:scattering-angle1` is transformed to\n",
    "\n",
    "$$\n",
    "\\phi = \\int_0^{u_0} \\frac{b}{\\sqrt{1-b^2 u^2 -\\frac{U(1/u)}{E}}}\\;  du\n",
    "$$(eq:scattering-angle2)\n",
    "\n",
    "where the upper integral limit is $u_0=1/r_0$.  You might worry about $U(1/u)$ at $u=0$.  The interaction potential usually vanishes when two particles are separated by the infinite distance.  Hence, $\\displaystyle\\lim_{u\\rightarrow 0} U(1/u) = 0$.  There seems no difficulty with respect to the first improperness.\n",
    "\n",
    "The second improperness is a bit more complicated. We need to resolve the issue on a case-by-case basis.  Let use try to find the scattering angle for the Yukawa potential used in the nuclear physics (also known as screened Coulomb potential in the condensed matter physics):\n",
    "\n",
    "$$\n",
    "U(r) = \\frac{k}{r} e^{-r/a}\n",
    "$$\n",
    "\n",
    "where $k$ and $a$ are constants indicating the strength  and the range of the interaction, respectively.  The scattering angle for this potential is given by the following integral:\n",
    "\n",
    "$$\n",
    "\\phi = \\int_0^{u_0} \\frac{b}{\\sqrt{1-b^2 u^2 -\\frac{u e^{-1/u a}}{E}}}\\;  du\n",
    "$$(eq:scattering-angle-Y)\n",
    "\n",
    "To remove the singularity, we must find an analytically solvable integral that has the same singularity as in Eq. {eq}`eq:scattering-angle-Y`.  That seems difficult but possible.  We recall that In the Rathurford scattering taught in a classical mechanics (or modern physics) course{cite}`Goldstein2001`.  It is a scattering by a Coulomb potential $U_c(r)=C/r$ where $C$ is a constant to be determined. The scattering angle for the Coulomb potential is given by a similar integral\n",
    "\n",
    "$$\n",
    "\\phi = \\int_0^{u_0} \\frac{b}{\\sqrt{1-b^2 u^2 -\\frac{C u}{E}}}  du\n",
    "$$(eq:scattering-angle-C)\n",
    "\n",
    "It turns out that the integration can be done analytically and the solution is\n",
    "\n",
    "$$\n",
    "\\phi= \\sin^{-1}\\left(\\frac{2 b^2 u_0 E + C}{\\sqrt{C^2+4 b^2 E^2}}\\right) - \\sin^{-1}\\left(\\frac{C}{\\sqrt{C^2+4 b^2 E^2}}\\right)\n",
    "$$\n",
    "\n",
    "Now, we need to make the two integrals Eqs. {eq}`eq:scattering-angle-Y)` and {eq}`eq:scattering-angle-C` have the same singularity,   that is\n",
    "\n",
    "$$\n",
    "1-b^2 u_0^2 -\\frac{u_0 e^{-1/u_0 a}}{E} = 1-b^2 u_0^2 -\\frac{C u_0}{E}\n",
    "$$\n",
    "\n",
    "which is satisfied if $C=e^{-1/u_0 a}$.\n",
    "\n",
    "At last, we are ready to calculate the scattering angle for the Yukawa potential.  We numerically evaluate the non singular part of integral, which is the difference between the two scatterings, \n",
    "\n",
    "$$\n",
    "\\phi = \\int_0^{u_0} \\frac{b}{\\sqrt{1-b^2 u^2 -\\frac{u e^{-1/u a}}{E}}} - \\frac{b}{\\sqrt{1-b^2 u^2 -\\frac{C u}{E}}} du \n",
    "$$\n",
    "\n",
    "Then, add the analytic solution of the Rathurford scattering."
   ]
  },
  {
   "cell_type": "code",
   "execution_count": null,
   "id": "6c9124a2-01f6-49fe-9d2c-201b0805946f",
   "metadata": {},
   "outputs": [],
   "source": []
  }
 ],
 "metadata": {
  "kernelspec": {
   "display_name": "jbook",
   "language": "python",
   "name": "jbook"
  },
  "language_info": {
   "codemirror_mode": {
    "name": "ipython",
    "version": 3
   },
   "file_extension": ".py",
   "mimetype": "text/x-python",
   "name": "python",
   "nbconvert_exporter": "python",
   "pygments_lexer": "ipython3",
   "version": "3.10.13"
  }
 },
 "nbformat": 4,
 "nbformat_minor": 5
}
