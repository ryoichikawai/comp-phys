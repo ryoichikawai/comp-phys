{
 "cells": [
  {
   "cell_type": "markdown",
   "id": "8ae7f8b6-87c5-46f6-899e-bee4170ce831",
   "metadata": {},
   "source": [
    "(sec-integral-rectangle)=\n",
    "# Retangular rule"
   ]
  },
  {
   "cell_type": "markdown",
   "id": "cbe1779f-de2e-48a5-8983-17af66048e2e",
   "metadata": {},
   "source": [
    "We want to integrate a function $f(x)$ from $a$ to $b$.\n",
    "Similarly to the numerical derivative problems, there are two different cases.  In one case, a closed form expression of the function is known and we can evaluate the function value at any point of $x \\in [a,b]$.  In the other case, the function values are given as a finite sequence $f_n = f(x_n), n=0, \\cdots, N$ and the analytical expression of the function is unknown. In this section, we focus on the former case and the latter case will be discussed in a later chapter.\n",
    "\n",
    "```{figure} int-rectangle.png\n",
    "---\n",
    "name: recutangular integration rule\n",
    "---\n",
    "Integraltion by the recutangular rule is illustrated.  The integral is the sum of the area of all boxes shown in the diagram.\n",
    "```"
   ]
  },
  {
   "cell_type": "code",
   "execution_count": null,
   "id": "80c6ce5d-639e-4d8f-8976-142d326b8a56",
   "metadata": {},
   "outputs": [],
   "source": []
  }
 ],
 "metadata": {
  "kernelspec": {
   "display_name": "jbook",
   "language": "python",
   "name": "jbook"
  },
  "language_info": {
   "codemirror_mode": {
    "name": "ipython",
    "version": 3
   },
   "file_extension": ".py",
   "mimetype": "text/x-python",
   "name": "python",
   "nbconvert_exporter": "python",
   "pygments_lexer": "ipython3",
   "version": "3.10.13"
  }
 },
 "nbformat": 4,
 "nbformat_minor": 5
}
