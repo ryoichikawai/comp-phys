{
 "cells": [
  {
   "cell_type": "markdown",
   "id": "7dff69f8-ef92-40ad-92cb-7c3274e5ae7a",
   "metadata": {},
   "source": [
    "(sec:improper_integrals)=\n",
    "# Improper Integrals"
   ]
  },
  {
   "cell_type": "markdown",
   "id": "8a6bf184-ccf4-4c08-93f2-d212afa7e0ca",
   "metadata": {},
   "source": [
    "When an integral has an unbound interval or its integrand contains singularities, the integral is [_improper_](https://en.wikipedia.org/wiki/Improper_integral).  In either cases, _infinity_ is involved. The standards method discussed in {numref}`sec:piecewise-integral` does not work for such integrals.  For example, consider\n",
    "\n",
    "$$\n",
    "\\int_0^\\infty \\frac{1}{x^2+1} dx\n",
    "$$\n",
    "\n",
    "The standard methods replace it with a sum of infinitely many piecewise integrals.  There are certain tricks to overcome the difficulty.   Furthermore, there are magical methods for certain types of integrals, known as Gausssian quadrature.  The issue of the unbound interval is discussed in `{numref}`sec:unbound_interval`.\n",
    "\n",
    "When the integrand diverges at a certain point, the integral also diverges in most cases.  However, there is integrable singularities.  For example,\n",
    "\n",
    "$$\n",
    "\\int_0^1 \\frac{1}{\\sqrt{x}}  dx  = \\frac{1}{2}\n",
    "$$\n",
    "\n",
    "which has a singularity at $x=0$.  Nevertheless, the integral is finite."
   ]
  },
  {
   "cell_type": "code",
   "execution_count": null,
   "id": "76494bc5-2e75-4b63-b033-5dcd2aac230a",
   "metadata": {},
   "outputs": [],
   "source": []
  },
  {
   "cell_type": "code",
   "execution_count": null,
   "id": "c5804201-e6c7-4921-81ec-198ff3d3ce62",
   "metadata": {},
   "outputs": [],
   "source": []
  }
 ],
 "metadata": {
  "kernelspec": {
   "display_name": "jbook",
   "language": "python",
   "name": "jbook"
  },
  "language_info": {
   "codemirror_mode": {
    "name": "ipython",
    "version": 3
   },
   "file_extension": ".py",
   "mimetype": "text/x-python",
   "name": "python",
   "nbconvert_exporter": "python",
   "pygments_lexer": "ipython3",
   "version": "3.10.13"
  }
 },
 "nbformat": 4,
 "nbformat_minor": 5
}
