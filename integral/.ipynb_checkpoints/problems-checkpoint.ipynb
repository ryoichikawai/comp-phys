{
 "cells": [
  {
   "cell_type": "markdown",
   "id": "d9add849-2ff1-4dd5-86b9-29692b3e799d",
   "metadata": {},
   "source": [
    "(sec_int_problems)=\n",
    "# Problems"
   ]
  },
  {
   "cell_type": "markdown",
   "id": "a3ec4a98-c037-4a9c-bb4c-b8797b0af67c",
   "metadata": {},
   "source": [
    "**3.1** Integrate $f(x)=x^2 \\sin(x)$ from $x=0$ to $x=4 \\pi$ using rectangular and trapezoid rules.  Exact integral is $-16 \\pi^2$.  Do you see any difference between the two methods?  If not, why?"
   ]
  },
  {
   "cell_type": "markdown",
   "id": "d7e5f5d8-6d9b-48c9-b607-136dcd844027",
   "metadata": {},
   "source": [
    "---\n",
    "\n",
    "**3.2**  Numerically integrate $f(x)=\\displaystyle\\frac{\\sin(x)}{1+x^2}$ from $x=0$ to $x=\\pi$ using your favorite method.\n",
    "Analytical solution by Mathematica is \n",
    "\n",
    "$$\n",
    "\\begin{eqnarray}\n",
    " \\int_0^\\pi \\frac{\\sin(x)}{1+x^2} dx &=&  \\frac{e}{4} \\left[-2 \\text{Ci}(i)+\\text{Ci}(i-\\pi )+\\text{Ci}(i+\\pi )+2 \\text{Shi}(1)+i \\text{Si}(i-\\pi )+i \\text{Si}(i+\\pi )\\right ] \\nonumber \\\\ \n",
    "\t&&+\\frac{1}{4e} \\left [2 \\text{Ci}(i)-\\text{Ci}(i-\\pi )-\\text{Ci}(i+\\pi )+2 \\text{Shi}(1)+i \\text{Si}(i-\\pi )+i \\text{Si}(i+\\pi ) \\right ]\\end{eqnarray}\n",
    "$$\n",
    "\n",
    "where Ci, Si, and Shi are trigonometric integral functions.\n",
    "The answer should be real but the result contains imaginary unit.  It is not obvious that the imaginary parts are canceled out. This expression is too complicated.  Analytical solutions are not always useful.  Furthermore, these trigonometric integrals must be numerically evaluated.  So, why don't we evaluate the original integral numerically from the beginning? \n",
    "\n",
    "The numerical result from Mathematica is $0.716086 + 4.08428 \\times 10^{-17} i$.  The imaginary part is supposed to be zero but it was not fully cancelled out due to the round-off error.  You should be able to do better than Mathematica.\n"
   ]
  },
  {
   "cell_type": "markdown",
   "id": "9f5353c4-988d-4314-b780-931aacfec53d",
   "metadata": {},
   "source": [
    "---\n",
    "\n",
    "**3.3** The energy density of blackbody radiation at temperature $T$ is given by $u(T) = \\displaystyle\\frac{8 \\pi (k T)^4}{(h c)^3} J$\n",
    "where $h$, $c$, and $k$ are Plank constant\\cite{Griffiths}, speed of light, and Boltzmann constant\\cite{Blundell}.\n",
    "The factor $J$ is a dimensionless constant determined by integral: \n",
    "\n",
    "$$\n",
    "J = \\int_0^\\infty \\frac{x^3}{e^x  - 1} \\, dx\n",
    "$$\n",
    "\n",
    "This integral can be analytically calculated and the answer is  $J = \\frac{\\pi^4}{15}$.  \n",
    "Integrate it numerically and compare the result with the exact value.  \n",
    "\n",
    "*Hint* Note that the integrand can be written as $f(x) e^{-x}$ where $f(x)=\\displaystyle\\frac{x^3}{1  - e^{-x}}$.  If $f(x)$ behaves nicely, you may be able to use the Gauss-Lagurre quadrature.\n",
    "Indeed $f(x) \\rightarrow x^3$ as $x \\rightarrow \\infty$ and thus $f(x)$ behaves like a polynomial.  Then, the Gaussian quadrature is expected to generate a good result. \n",
    "\n"
   ]
  },
  {
   "cell_type": "code",
   "execution_count": null,
   "id": "af08d964-cd1c-47e8-8b90-27bc20eaf6aa",
   "metadata": {},
   "outputs": [],
   "source": []
  }
 ],
 "metadata": {
  "kernelspec": {
   "display_name": "jbook",
   "language": "python",
   "name": "jbook"
  },
  "language_info": {
   "codemirror_mode": {
    "name": "ipython",
    "version": 3
   },
   "file_extension": ".py",
   "mimetype": "text/x-python",
   "name": "python",
   "nbconvert_exporter": "python",
   "pygments_lexer": "ipython3",
   "version": "3.10.13"
  }
 },
 "nbformat": 4,
 "nbformat_minor": 5
}
