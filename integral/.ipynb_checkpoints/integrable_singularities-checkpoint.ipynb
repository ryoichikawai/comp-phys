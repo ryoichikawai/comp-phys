{
 "cells": [
  {
   "cell_type": "markdown",
   "id": "346ba152-93c6-407d-8672-35bc39701fa0",
   "metadata": {},
   "source": [
    "(sec:integrable-singularities)=\n",
    "# Improper Integrals II:  Integrable Singularities"
   ]
  },
  {
   "cell_type": "markdown",
   "id": "922b90a1-dfc0-4911-b5ba-e2e413361d3a",
   "metadata": {},
   "source": [
    "If the integrand has integrable singularities such as $\\displaystyle\\frac{1}{\\sqrt{x}}$ within the integral interval, standard methods fail. Such improper integrals are ubiquitous in physics.  A common method is to isolate the singularity and integrate it analytically.  Then, we integrate the remaining part by a numerical method.  \n",
    "\n",
    "Consider an improper integral\n",
    "\n",
    "$$\n",
    "\\int_0^1 \\frac{1}{(1+x)\\sqrt{x}} dx = \\frac{\\pi}{2}\n",
    "$$(eq:int-singularity)\n",
    "\n",
    "This integral is finite despite that the integrand diverges at $x=0$. In order to find the type of singularity, Let us look at the integrand near $x=0$. Using the positive infinitesimal $\\epsilon$, the integrand can be expanded as\n",
    "\n",
    "$$\n",
    "\\frac{1}{(1+\\epsilon)\\sqrt{\\epsilon}} \\sim \\frac{1-\\epsilon}{\\sqrt{\\epsilon}} = \\frac{1}{\\sqrt{\\epsilon}}- \\sqrt{\\epsilon}\n",
    "$$\n",
    "\n",
    "Hence, the singularity is $\\displaystyle\\frac{1}{\\sqrt{\\epsilon}}$ which we can integrate analytically. By subtracting the singularity from the integral, we obtain a regular integral:\n",
    "\n",
    "$$\n",
    "\\int_0^1 \\left [ \\frac{1}{(1+x)\\sqrt{x}}\n",
    " - \\frac{1}{\\sqrt{x}} \\right ] dx  = - \\int_0^1 \\frac{\\sqrt{x}}{1+x} dx = \\frac{\\pi}{2} - 2\n",
    "$$(eq:int-no-singularity)\n",
    "\n",
    "Note that the new integrand has no singularity and thus can be integrated by a standard method.   To get the opriginal integral, we just add back\n",
    "\n",
    "$$\n",
    "\\int_0^1 \\frac{1}{\\sqrt{x}} dx = 2\n",
    "$$\n",
    "\n",
    "and obtain $\\frac{\\pi}{2}$.   As an exercise, we numerically carry out the above procedure.  First, we plot the integrand before and after the singularity is removed."
   ]
  },
  {
   "cell_type": "code",
   "execution_count": 1,
   "id": "c0c50619-1de8-4a6b-8c07-58c97c991493",
   "metadata": {},
   "outputs": [
    {
     "data": {
      "image/png": "[encoded data removed]",
      "text/plain": [
       "<Figure size 500x400 with 1 Axes>"
      ]
     },
     "metadata": {},
     "output_type": "display_data"
    }
   ],
   "source": [
    "import numpy as np\n",
    "import matplotlib.pyplot as plt\n",
    "\n",
    "N=200\n",
    "\n",
    "# evaluation points. x=0 is excluded.\n",
    "x=np.linspace(0.01,1,N)\n",
    "\n",
    "f0=1/np.sqrt(x)\n",
    "f1=1/(1+x)/np.sqrt(x)\n",
    "f2=f1-f0\n",
    "\n",
    "plt.figure(figsize=(5,4))\n",
    "plt.plot(x,f1,'-k',label=\"with singularity\")\n",
    "plt.plot(x,f0,'--r',label=\"singular part\")\n",
    "plt.plot(x,f2,'-b',label=\"non-singular part\")\n",
    "plt.axhline(y = 0, color = '0.8', linestyle = '-')\n",
    "plt.legend(loc=1)\n",
    "plt.show()"
   ]
  },
  {
   "cell_type": "markdown",
   "id": "18cbde1f-8516-40db-9df5-70562fd50f36",
   "metadata": {},
   "source": [
    "The black line shows the original integrand  {eq}`eq:int-singularity` and the red dashed line is the singular part.  The two curves coincide near the singularity.  The difference between them (the blue line) is finite and smooth, can be numerically integrated by a piecewise integration method.\n",
    "\n",
    "Next we evaluate the integral.   The singular part is analytically integrated and added to the numerical integration of the non-singular part."
   ]
  },
  {
   "cell_type": "code",
   "execution_count": 2,
   "id": "5843cfce-3c6c-4555-b4b9-b3a87a7a87f5",
   "metadata": {},
   "outputs": [
    {
     "name": "stdout",
     "output_type": "stream",
     "text": [
      "     Numerical =  1.57083\n",
      "   Theoretical =  1.57080\n",
      "Absolute Error =  0.00003\n"
     ]
    }
   ],
   "source": [
    "import numpy as np\n",
    "from scipy.integrate import simpson\n",
    "\n",
    "N=201\n",
    "\n",
    "# x is included\n",
    "x=np.linspace(0,1,N)\n",
    "\n",
    "# x=0 is temporarily removed\n",
    "x[0]=1\n",
    "\n",
    "y=1/(1+x)/np.sqrt(x) - 1/np.sqrt(x)\n",
    "\n",
    "# evaluate the integrand at x=0\n",
    "x[0]=0\n",
    "y[0]=0\n",
    "\n",
    "s = simpson(y,x=x)\n",
    "\n",
    "\n",
    "# add the singular part\n",
    "numerical=s+2\n",
    "theoretical=np.pi/2\n",
    "\n",
    "print(\"     Numerical = {0:8.5f}\".format(numerical))\n",
    "print(\"   Theoretical = {0:8.5f}\".format(theoretical))\n",
    "print(\"Absolute Error = {0:8.5f}\".format(abs(numerical-theoretical)))"
   ]
  },
  {
   "cell_type": "markdown",
   "id": "66f027fc-06aa-4b48-a0ec-542b556dd5d1",
   "metadata": {},
   "source": [
    "A good agreement is obtained.  \n",
    "\n",
    "In general, $\\mathcal{I}=\\displaystyle\\int_a^b \\frac{f(x)}{\\sqrt{x-a}} dx$ can be integrated as\n",
    "\n",
    "$$\n",
    "\\mathcal{I} = \\int_a^b \\frac{f(x)-f(a)}{\\sqrt{x-a}} dx + \\int_a^b \\frac{f(a)}{\\sqrt{x-a}} dx = \\int_a^b \\frac{f(x)-f(a)}{\\sqrt{x-a}} dx + 2 f(a) \\sqrt{b-a}.\n",
    "$$"
   ]
  },
  {
   "cell_type": "markdown",
   "id": "70475db1-aa30-41f9-9e82-6dc83de0a86c",
   "metadata": {},
   "source": [
    "**Example** {numref}`%s <sec:integrable-singularities>`.1\n",
    "\n",
    "Write a code to evaluate $\\displaystyle\\int_{-1}^{1} \\frac{P_n(x)}{\\sqrt{1-x}} dx $ where $P_n(x)$ is the Legendre polynomial of degree $n$.  The exact answer is known to be $\\displaystyle\\frac{2\\sqrt{2}}{2n+1}$.\n",
    "\n",
    "The singular part can be integrated as $\\displaystyle\\int_{-1}^{1} \\frac{P_n(1)}{\\sqrt{1-x}} dx = 2 \\sqrt{2}$. The non-singular part is\n",
    "\n",
    "$$\n",
    "\\int_{-1}^{1} \\frac{P_n(x) - P_n(1)}{\\sqrt{1-x}} dx.\n",
    "$$\n",
    "\n"
   ]
  },
  {
   "cell_type": "code",
   "execution_count": 3,
   "id": "8ca4c83f-ccd1-4dd1-a318-771465084c84",
   "metadata": {},
   "outputs": [
    {
     "name": "stdout",
     "output_type": "stream",
     "text": [
      "     Numerical =  0.56593\n",
      "   Theoretical =  0.56569\n",
      "Absolute Error =  0.00024\n"
     ]
    }
   ],
   "source": [
    "import numpy as np\n",
    "from scipy.integrate import simpson\n",
    "from scipy.special import legendre\n",
    "\n",
    "# choose the degree of the polynomial\n",
    "n=2\n",
    "\n",
    "# define the Legendre polynomial\n",
    "L=legendre(n)\n",
    "\n",
    "N=201\n",
    "x=np.linspace(-1,1,N)\n",
    "\n",
    "# avoid x=1\n",
    "x[N-1]=0\n",
    "y=(L(x)-L(1))/np.sqrt(1-x)\n",
    "\n",
    "# manually calculate x=1\n",
    "x[N-1]=1\n",
    "y[N-1]=0\n",
    "\n",
    "s=simpson(y,x=x)\n",
    "\n",
    "# adding the singular part back\n",
    "numerical=s+2*np.sqrt(2)\n",
    "theoretical=2*np.sqrt(2)/(2*n+1)\n",
    "\n",
    "print(\"     Numerical = {0:8.5f}\".format(numerical))\n",
    "print(\"   Theoretical = {0:8.5f}\".format(theoretical))\n",
    "print(\"Absolute Error = {0:8.5f}\".format(abs(numerical-theoretical)))"
   ]
  },
  {
   "cell_type": "markdown",
   "id": "d8b482c2-4f48-4600-bd6e-fe97085caa02",
   "metadata": {},
   "source": [
    "The agreement with  the theory is quite good."
   ]
  },
  {
   "cell_type": "markdown",
   "id": "f49b99ed-2e61-4efb-8127-cef48ab23dc0",
   "metadata": {},
   "source": [
    "\n",
    "___\n",
    "\n",
    "Updated on 4/16/2024 by R. Kawai"
   ]
  },
  {
   "cell_type": "markdown",
   "id": "6e583165-afe7-4add-bffe-3628ea5c221b",
   "metadata": {},
   "source": []
  }
 ],
 "metadata": {
  "kernelspec": {
   "display_name": "book",
   "language": "python",
   "name": "book"
  },
  "language_info": {
   "codemirror_mode": {
    "name": "ipython",
    "version": 3
   },
   "file_extension": ".py",
   "mimetype": "text/x-python",
   "name": "python",
   "nbconvert_exporter": "python",
   "pygments_lexer": "ipython3",
   "version": "3.12.11"
  }
 },
 "nbformat": 4,
 "nbformat_minor": 5
}
