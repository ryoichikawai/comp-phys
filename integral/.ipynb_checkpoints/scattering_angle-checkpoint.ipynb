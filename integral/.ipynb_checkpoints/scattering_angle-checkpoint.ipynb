{
 "cells": [
  {
   "cell_type": "markdown",
   "id": "da51a63d-5583-407d-b378-f461b0805f94",
   "metadata": {},
   "source": [
    "(app:scattering-angle)=\n",
    "# Scattering by the Yukawa potential"
   ]
  },
  {
   "cell_type": "markdown",
   "id": "73ad5c87-25d0-4248-b521-b890aa547bbd",
   "metadata": {},
   "source": [
    "A particle elastically collides with another particle through a spherical potential $U(r)$ where $r$ is the distance between the particles.  As we discussed in {numref}`app:closet-approach`, the scattering angle is given by $\\theta = \\pi - 2 \\phi$ where\n",
    "\n",
    "$$\n",
    "\\phi = \\int_{r_0}^{\\infty} \\frac{b}{r^2} \\frac{1}{\\sqrt{1 - \\displaystyle\\frac{b^2}{r^2}-\\displaystyle\\frac{U(r)}{E}}} dr\\, .\n",
    "$$(eq:scattering-angle1)\n",
    "\n",
    "We already developed a numerical method to find the closest distance $r_0$ in {numref}`app:closet-approach`.  However, we are still not quite ready to evaluate the integral because it is doubly improper.  First, the upper integral limit is infinity.  Secondly, the integrand diverges at the closest distance.\n",
    "\n",
    "\n",
    "The former issue can be solved by the standard method discussed in {numref}`sec:unbound-interval`.\n",
    "Introducing a variable $u = \\displaystyle\\frac{1}{r}$. Eq. {eq}`eq:scattering-angle1` is transformed to\n",
    "\n",
    "$$\n",
    "\\phi = \\int_0^{u_0} \\frac{b}{\\sqrt{1-b^2 u^2 -\\frac{U(1/u)}{E}}}\\;  du\n",
    "$$(eq:scattering-angle2)\n",
    "\n",
    "where the upper integral limit is $u_0=1/r_0$.  You might worry about $U(1/u)$ at $u=0$.  The interaction potential usually vanishes when two particles are separated by the infinite distance.  Hence, $\\displaystyle\\lim_{u\\rightarrow 0} U(1/u) = 0$.  There seems no difficulty with respect to the first improperness.\n",
    "\n",
    "The second improperness is a bit more complicated. We need to resolve the issue on a case-by-case basis.  Let use try to find the scattering angle for the Yukawa potential used in the nuclear physics (also known as screened Coulomb potential in the condensed matter physics):\n",
    "\n",
    "$$\n",
    "U(r) = \\frac{k}{r} e^{-r/a}\n",
    "$$\n",
    "\n",
    "where $k$ and $a$ are constants indicating the strength  and the range of the interaction, respectively.  The scattering angle for this potential is given by the following integral:\n",
    "\n",
    "$$\n",
    "\\phi_Y = \\int_0^{u_0} \\frac{b}{\\sqrt{1-b^2 u^2 -\\frac{u k e^{-1/u a}}{E}}}  du\n",
    "$$(eq:scattering-angle-Y)\n",
    "\n",
    "To remove the singularity, we must find an analytically solvable integral that has the same singularity as in Eq. {eq}`eq:scattering-angle-Y`.  That seems difficult but possible.  We recall that In the Rutherford scattering taught in a classical mechanics (or modern physics) course{cite}`Goldstein2001`.  It is a scattering by a Coulomb potential $U_c(r)=C/r$ where $C$ is a constant to be determined. The scattering angle for the Coulomb potential is given by a similar integral\n",
    "\n",
    "$$\n",
    "\\phi_C = \\int_0^{u_0} \\frac{b}{\\sqrt{1-b^2 u^2 -\\frac{C u}{E}}}  du\n",
    "$$(eq:scattering-angle-C)\n",
    "\n",
    "It turns out that the integration can be done analytically and the solution is\n",
    "\n",
    "$$\n",
    "\\phi_C= \\frac{\\pi}{2} - \\tan^{-1}\\left(\\frac{C}{2 b E}\\right)\n",
    "$$\n",
    "\n",
    "Now, we need to make the two integrals Eqs. {eq}`eq:scattering-angle-Y` and {eq}`eq:scattering-angle-C` have the same singularity,   that is\n",
    "\n",
    "$$\n",
    "1-b^2 u_0^2 -\\frac{u_0 k e^{-1/u_0 a}}{E} = 1-b^2 u_0^2 -\\frac{C u_0}{E}\n",
    "$$\n",
    "\n",
    "which is satisfied if $C=k e^{-1/u_0 a}$.\n",
    "\n",
    "At last, we are ready to calculate the scattering angle for the Yukawa potential.  We numerically evaluate the non singular part of integral, which is the difference between the two scatterings, \n",
    "\n",
    "$$\n",
    "\\Delta \\phi = \\phi_Y - \\phi_C = \\int_0^{u_0} \\frac{b}{\\sqrt{1-b^2 u^2 -\\frac{u e^{-1/u a}}{E}}} - \\frac{b}{\\sqrt{1-b^2 u^2 -\\frac{C u}{E}}} du \n",
    "$$\n",
    "\n",
    "By adding the analytic solution of the Rutherford scattering, we obtain\n",
    "\n",
    "$$\n",
    "\\phi_Y = \\Delta \\phi + \\phi_C.\n",
    "$$"
   ]
  },
  {
   "cell_type": "markdown",
   "id": "68a43f8d-bf30-4056-b69e-69ee430bb76b",
   "metadata": {},
   "source": [
    "To see if the above method is reasonable, we plot the integrands."
   ]
  },
  {
   "cell_type": "code",
   "execution_count": 1,
   "id": "ac06fd35-4216-4ddf-b34a-bfc36d73ccc7",
   "metadata": {},
   "outputs": [
    {
     "ename": "ModuleNotFoundError",
     "evalue": "No module named 'numpy'",
     "output_type": "error",
     "traceback": [
      "\u001b[0;31m---------------------------------------------------------------------------\u001b[0m",
      "\u001b[0;31mModuleNotFoundError\u001b[0m                       Traceback (most recent call last)",
      "Cell \u001b[0;32mIn[1], line 1\u001b[0m\n\u001b[0;32m----> 1\u001b[0m \u001b[38;5;28;01mimport\u001b[39;00m \u001b[38;5;21;01mnumpy\u001b[39;00m \u001b[38;5;28;01mas\u001b[39;00m \u001b[38;5;21;01mnp\u001b[39;00m\n\u001b[1;32m      2\u001b[0m \u001b[38;5;28;01mimport\u001b[39;00m \u001b[38;5;21;01mmatplotlib\u001b[39;00m\u001b[38;5;21;01m.\u001b[39;00m\u001b[38;5;21;01mpyplot\u001b[39;00m \u001b[38;5;28;01mas\u001b[39;00m \u001b[38;5;21;01mplt\u001b[39;00m\n\u001b[1;32m      3\u001b[0m \u001b[38;5;28;01mfrom\u001b[39;00m \u001b[38;5;21;01mscipy\u001b[39;00m\u001b[38;5;21;01m.\u001b[39;00m\u001b[38;5;21;01moptimize\u001b[39;00m \u001b[38;5;28;01mimport\u001b[39;00m newton\n",
      "\u001b[0;31mModuleNotFoundError\u001b[0m: No module named 'numpy'"
     ]
    }
   ],
   "source": [
    "import numpy as np\n",
    "import matplotlib.pyplot as plt\n",
    "from scipy.optimize import newton\n",
    "\n",
    "# parameters for the potential\n",
    "# strength of the interaction\n",
    "k = 1\n",
    "# range\n",
    "a = 1\n",
    "\n",
    "# define integrands.  \n",
    "# dynamical parameters b and E must be defined before calling them\n",
    "# integrand for the Yukawa potential\n",
    "def fY(u):\n",
    "    return b/np.sqrt(1 - b**2 * u**2 - u*k*np.exp(-1/(u*a))/E)\n",
    "    \n",
    "# integrand for the Coulomb potential\n",
    "def fC(u):\n",
    "    return b/np.sqrt(1 - b**2 * u**2 - u*k*np.exp(-1/(u0*a))/E)\n",
    "\n",
    "def df(u):\n",
    "    return fY(u)-fC(u)\n",
    "    \n",
    "# the inverse of the closest approach\n",
    "def umax(q):\n",
    "    def f(u):\n",
    "        return 1 - b**2 * u**2 - u*k*np.exp(-1/(u*a))/E\n",
    "    return newton(f,q)\n",
    "\n",
    "# set impact parameter\n",
    "b=0.5*a\n",
    "print(\"impact parameter  b = {0:8.5f}\".format(b))\n",
    "# set collision energy\n",
    "E=1.0\n",
    "print(\"collision energy  E = {0:8.5f}\".format(E))\n",
    "# find the closest approach\n",
    "u0=umax(b)\n",
    "print(\"closest approach r0 = {0:8.5f}\".format(1/u0))\n",
    "\n",
    "# set number of data points\n",
    "N = 1000\n",
    "\n",
    "# set evaluation points (avoid the divide-by-zero error)\n",
    "u=np.linspace(0.01,u0-0.01,N)\n",
    "\n",
    "plt.figure(figsize=(12,4))\n",
    "plt.subplot(1,2,1)\n",
    "\n",
    "plt.plot(u,fY(u),'-k',label=\"Yukawa\")\n",
    "plt.plot(u,fC(u),'-r',label=\"Coulomb\")\n",
    "plt.xlabel(\"u\")\n",
    "plt.ylabel(\"integrand\")\n",
    "plt.axvline(x = u0, color = '0.8', linestyle = '--')\n",
    "plt.text(1.2,0.5,r\"$u_0$\")\n",
    "plt.legend(loc=2)\n",
    "\n",
    "plt.subplot(1,2,2)\n",
    "plt.plot(u,fY(u)-fC(u),'-k')\n",
    "plt.xlabel(\"u\")\n",
    "plt.ylabel(\"non-sigular part\")\n",
    "plt.axvline(x = u0, color = '0.8', linestyle = '--')\n",
    "plt.text(1.2,-0.05,r\"$u_0$\")\n",
    "\n",
    "plt.show()"
   ]
  },
  {
   "cell_type": "markdown",
   "id": "1587fc74-dd00-45da-88f5-18b19cb679b4",
   "metadata": {},
   "source": [
    "The left panel shows two integrands which have the same singularity at $u_0$.  The right panel shows the difference of the two integrands, which we numerically integrate .  Although the singularity is removed, the curve has steep change near $u_0$. It is better to use an adaptive method."
   ]
  },
  {
   "cell_type": "code",
   "execution_count": 45,
   "id": "e9b1985a-bb1a-4cd4-98fd-63a51485e086",
   "metadata": {},
   "outputs": [
    {
     "name": "stdout",
     "output_type": "stream",
     "text": [
      "-0.11108108216656981\n",
      "62.00807116067912 degree\n"
     ]
    }
   ],
   "source": [
    "from scipy.integrate import quad, simpson\n",
    "\n",
    "# nonsingular part\n",
    "f=df(u)\n",
    "dphi=simpson(f,x=u)\n",
    "\n",
    "# Ratherford scattering\n",
    "C=k*np.exp(-1/(a*u0))\n",
    "phiC=np.arcsin((2*b**2*u0*E+C)/np.sqrt(C**2+4*b**2*E**2)) - np.arcsin(C/np.sqrt(C**2+4*b**2*E**2))\n",
    "\n",
    "# sacttering angle for Yukawa potential\n",
    "phiY = phiC + dphi\n",
    "thetaY = np.pi - 2*phiY\n",
    "print(dphi)\n",
    "print(thetaY*180/np.pi,\"degree\")"
   ]
  },
  {
   "cell_type": "code",
   "execution_count": 64,
   "id": "68fdbb17-7381-4901-8397-e5d917550be3",
   "metadata": {},
   "outputs": [
    {
     "data": {
      "text/plain": [
       "[<matplotlib.lines.Line2D at 0x7fdf91de6aa0>]"
      ]
     },
     "execution_count": 64,
     "metadata": {},
     "output_type": "execute_result"
    },
    {
     "data": {
      "image/png": "[encoded data removed]",
      "text/plain": [
       "<Figure size 640x480 with 1 Axes>"
      ]
     },
     "metadata": {},
     "output_type": "display_data"
    }
   ],
   "source": [
    "\n",
    "bi=np.linspace(0.0,3.0,101)\n",
    "theta=[]\n",
    "theta.append(np.pi)\n",
    "\n",
    "for i in range(1,101):\n",
    "    b=bi[i]\n",
    "    u0=umax(b)\n",
    "    u=np.linspace(0.0,u0,N)\n",
    "    u[0]=0.05\n",
    "    u[N-1]=u0-0.05\n",
    "    f=df(u)\n",
    "    f[0]=0\n",
    "    f[N-1]=0.0\n",
    "    u[0]=0\n",
    "    u[N-1]=u0\n",
    "    dphi=simpson(f,x=u)\n",
    "\n",
    "    C=k*np.exp(-1/(a*u0))\n",
    "    phiC=np.pi/2 - np.arctan(C/(2*b*E))\n",
    "\n",
    "    phiY = phiC + dphi\n",
    "    theta.append(np.pi - 2*phiY)\n",
    "\n",
    "plt.plot(bi,theta)"
   ]
  },
  {
   "cell_type": "code",
   "execution_count": null,
   "id": "21760df6-1f59-4480-bec2-008e10420531",
   "metadata": {},
   "outputs": [],
   "source": []
  }
 ],
 "metadata": {
  "kernelspec": {
   "display_name": "jbook",
   "language": "python",
   "name": "jbook"
  },
  "language_info": {
   "codemirror_mode": {
    "name": "ipython",
    "version": 3
   },
   "file_extension": ".py",
   "mimetype": "text/x-python",
   "name": "python",
   "nbconvert_exporter": "python",
   "pygments_lexer": "ipython3",
   "version": "3.10.13"
  }
 },
 "nbformat": 4,
 "nbformat_minor": 5
}
