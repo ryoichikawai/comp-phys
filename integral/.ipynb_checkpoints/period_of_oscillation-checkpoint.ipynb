{
 "cells": [
  {
   "cell_type": "markdown",
   "id": "a6c9e4c2-00c2-4af2-9ce0-3c717a9a363a",
   "metadata": {},
   "source": [
    "(app:oscillation_period)=\n",
    "# The Period of Classical Oscillation"
   ]
  },
  {
   "cell_type": "code",
   "execution_count": 5,
   "id": "bfb6db7a-298a-4ae2-8045-b5119f3c073c",
   "metadata": {
    "tags": []
   },
   "outputs": [
    {
     "data": {
      "text/plain": [
       "3.141592653589793"
      ]
     },
     "execution_count": 5,
     "metadata": {},
     "output_type": "execute_result"
    }
   ],
   "source": [
    "import math\n",
    "\n",
    "math.pi"
   ]
  },
  {
   "cell_type": "code",
   "execution_count": 6,
   "id": "b8c0ef54-5706-4ade-9400-2b9c68edaffb",
   "metadata": {
    "tags": []
   },
   "outputs": [
    {
     "data": {
      "text/plain": [
       "0.5403023058681398"
      ]
     },
     "execution_count": 6,
     "metadata": {},
     "output_type": "execute_result"
    }
   ],
   "source": [
    "del math\n",
    "\n",
    "from math import cos\n",
    "\n",
    "cos(1)\n"
   ]
  },
  {
   "cell_type": "code",
   "execution_count": null,
   "id": "5ad02689-0347-418e-a478-3875f928f4a0",
   "metadata": {},
   "outputs": [],
   "source": []
  }
 ],
 "metadata": {
  "kernelspec": {
   "display_name": "jbook",
   "language": "python",
   "name": "jbook"
  },
  "language_info": {
   "codemirror_mode": {
    "name": "ipython",
    "version": 3
   },
   "file_extension": ".py",
   "mimetype": "text/x-python",
   "name": "python",
   "nbconvert_exporter": "python",
   "pygments_lexer": "ipython3",
   "version": "3.10.13"
  }
 },
 "nbformat": 4,
 "nbformat_minor": 5
}
