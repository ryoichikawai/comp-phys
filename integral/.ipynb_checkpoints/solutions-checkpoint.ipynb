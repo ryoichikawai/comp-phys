{
 "cells": [
  {
   "cell_type": "markdown",
   "id": "9a23ed43-c862-468f-a1cb-5db32d9d590e",
   "metadata": {
    "tags": []
   },
   "source": [
    "(sec:int_exercises)=\n",
    "# Exercise solutions"
   ]
  },
  {
   "cell_type": "markdown",
   "id": "61160c40-90cc-4dab-81e6-0f56c1ac126f",
   "metadata": {},
   "source": [
    "**3.2.1**"
   ]
  },
  {
   "cell_type": "code",
   "execution_count": 1,
   "id": "af54bf24-af68-4d80-b762-94b431975aac",
   "metadata": {
    "tags": []
   },
   "outputs": [
    {
     "data": {
      "text/plain": [
       "np.float64(0.9999166630003239)"
      ]
     },
     "execution_count": 1,
     "metadata": {},
     "output_type": "execute_result"
    }
   ],
   "source": [
    "import numpy as np\n",
    "import scipy.integrate as integrate\n",
    "N = 1000000\n",
    "L = 10000.\n",
    "h = L/N\n",
    "x = np.linspace(1,L,N+1)\n",
    "f = 1./x**2\n",
    "integrate.trapezoid(f,x=x)"
   ]
  },
  {
   "cell_type": "markdown",
   "id": "fad25e7c-a4f3-4b2c-bf33-4b3eb65d6819",
   "metadata": {},
   "source": [
    "**3.2.2**\n",
    "\n",
    "Using the transformation $x=(1-y)/y$,\n",
    "\n",
    "$$\n",
    "\\int_0^\\infty \\frac{1}{x^2+1} \\, dx = \\int_0^1 \\frac{1}{2y^2-2y+1}\\, dy\n",
    "$$\n",
    "\n",
    "Evalute the right hand side using the Simpson's rule with $h=0.01$."
   ]
  },
  {
   "cell_type": "code",
   "execution_count": 2,
   "id": "ef5eb5e9-6783-416d-881f-c59bc8bbd372",
   "metadata": {
    "tags": []
   },
   "outputs": [
    {
     "name": "stdout",
     "output_type": "stream",
     "text": [
      "simpson = 1.570796326793627\n",
      "  exact = 1.5707963267948966\n",
      "  error = -1.269651050961329e-12\n"
     ]
    }
   ],
   "source": [
    "import numpy as np\n",
    "import scipy.integrate as integrate\n",
    "\n",
    "N=100\n",
    "h=1./N\n",
    "\n",
    "y = np.linspace(0,1,N+1)\n",
    "f = 1.0/(2*y**2 - 2*y + 1)\n",
    "integral=integrate.simpson(f,x=y)\n",
    "error=integral-np.pi/2\n",
    "print(\"simpson =\",integral)\n",
    "print(\"  exact =\",np.pi/2.)\n",
    "print(\"  error =\",error)"
   ]
  },
  {
   "cell_type": "markdown",
   "id": "cec797f6-5aec-4019-b626-f31772bac500",
   "metadata": {},
   "source": [
    "Notice that the error is slightly bigger than the result of Example 3.2.1."
   ]
  },
  {
   "cell_type": "markdown",
   "id": "a0523d19-4576-4a1b-a6e3-de02d1cc9754",
   "metadata": {},
   "source": [
    "**3.2.3**"
   ]
  },
  {
   "cell_type": "code",
   "execution_count": 3,
   "id": "b45e46a7-d462-4c48-ad59-77ffc44e6db5",
   "metadata": {
    "tags": []
   },
   "outputs": [
    {
     "name": "stdout",
     "output_type": "stream",
     "text": [
      "(0.5000000000000002, 1.4875911973447031e-08)\n"
     ]
    }
   ],
   "source": [
    "import numpy as np\n",
    "import scipy.integrate as integrate\n",
    "\n",
    "def f(x):\n",
    "    return np.sin(x)*np.exp(-x)\n",
    "\n",
    "gauss=integrate.quad(f,0,np.inf)\n",
    "\n",
    "print(gauss)"
   ]
  },
  {
   "cell_type": "code",
   "execution_count": 4,
   "id": "40ee4b1b-fc8b-4cd5-a897-49cf229fbeea",
   "metadata": {},
   "outputs": [
    {
     "name": "stdout",
     "output_type": "stream",
     "text": [
      " Exact=5.000000000000e-01\n",
      " Gauss=5.048792794602e-01\n",
      " Error=4.879279460199e-03\n"
     ]
    }
   ],
   "source": [
    "import numpy as np\n",
    "\n",
    "# We use 4-point method.\n",
    "x=np.array([3.2254768961939231180e-1, 1.7457611011583465757,\n",
    "            4.5366202969211279833,    9.3950709123011331292])\n",
    "\n",
    "w=np.array([6.0315410434163360164e-1, 3.5741869243779968664e-1,\n",
    "            3.8887908515005384272e-2, 5.3929470556132745010e-4])    \n",
    "\n",
    "gauss=(w*np.sin(x)).sum()\n",
    "exact=1/2.\n",
    "\n",
    "print(\" Exact={0:18.12e}\\n Gauss={1:18.12e}\\n Error={2:18.12e}\".format(exact,  gauss, abs(exact-gauss)))"
   ]
  },
  {
   "cell_type": "markdown",
   "id": "e9577c66-2044-4f02-83ed-f2865842d61b",
   "metadata": {},
   "source": [
    "We got only 2 digits of precision.  It is still remarkable considering the function is evaluated only at four points over infinite interval."
   ]
  }
 ],
 "metadata": {
  "kernelspec": {
   "display_name": "book",
   "language": "python",
   "name": "book"
  },
  "language_info": {
   "codemirror_mode": {
    "name": "ipython",
    "version": 3
   },
   "file_extension": ".py",
   "mimetype": "text/x-python",
   "name": "python",
   "nbconvert_exporter": "python",
   "pygments_lexer": "ipython3",
   "version": "3.12.11"
  }
 },
 "nbformat": 4,
 "nbformat_minor": 5
}
