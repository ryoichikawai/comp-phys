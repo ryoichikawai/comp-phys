{
 "cells": [
  {
   "cell_type": "markdown",
   "id": "5229a11a-4cc7-43d1-bf7a-a621ec66d4b7",
   "metadata": {
    "tags": []
   },
   "source": [
    "(ch:integral)=\n",
    "# Numerical Integration"
   ]
  },
  {
   "cell_type": "markdown",
   "id": "2af30061-7d3c-4f3b-b329-1d79a415f0a0",
   "metadata": {},
   "source": [
    "Like derivatives, integrals are also common mathematical tools used in physics.  While derivatives suffer from catastrofic cancellation due to the subtraction of two similar values, numerical integration is a bit more robust than numerical derivative since integration is essentiall addition.  However, the huge repetition of additions incur significant round-off errors as discussed in.  A good algorithm uses less addition without the expense of accuracy.  First, a simple method (rectangle rule) is used to demonstrate a basic idea of numerical integration.  Like forward finite difference method of numerical derivative, this method is not accurate enough for practical use.  However, a simple modification (trapezoidal rule), similar to mean finite difference method of numerical derivative, improves the accuracy.  More advanced methods (Simpson rule) will be introduced.\n",
    "\n",
    "Improper integral needs special attention.   For example, when integral limits involve infinity like $\\displaystyle\\int_0^\\infty f(x) dx$,  most numerical integration methods require infinitely many addition, which cannot be done.  Another example is the case where integrand has integrable singularities like $\\displaystyle\\frac{1}{\\sqrt{x}}$.  Since we cannot evaluate the function value at $x=0$, the common numerical methods fail.  There is no systematic resolution to these problems.  We need to deal with them on case-by-case basis.  Several common practices will be introduced in this chapter.\n",
    "In addition, a magic method called Gaussian quadrature, which gives rather accurate results for certain types of integrals just by computing several points, will be discussed."
   ]
  }
 ],
 "metadata": {
  "kernelspec": {
   "display_name": "book",
   "language": "python",
   "name": "book"
  },
  "language_info": {
   "codemirror_mode": {
    "name": "ipython",
    "version": 3
   },
   "file_extension": ".py",
   "mimetype": "text/x-python",
   "name": "python",
   "nbconvert_exporter": "python",
   "pygments_lexer": "ipython3",
   "version": "3.12.11"
  }
 },
 "nbformat": 4,
 "nbformat_minor": 5
}
