{
 "cells": [
  {
   "cell_type": "markdown",
   "id": "a6c9e4c2-00c2-4af2-9ce0-3c717a9a363a",
   "metadata": {},
   "source": [
    "# The Period of Classical Oscillasion"
   ]
  },
  {
   "cell_type": "code",
   "execution_count": 5,
   "id": "bfb6db7a-298a-4ae2-8045-b5119f3c073c",
   "metadata": {
    "tags": []
   },
   "outputs": [
    {
     "data": {
      "text/plain": [
       "3.141592653589793"
      ]
     },
     "execution_count": 5,
     "metadata": {},
     "output_type": "execute_result"
    }
   ],
   "source": [
    "import math\n",
    "\n",
    "math.pi"
   ]
  },
  {
   "cell_type": "code",
   "execution_count": 6,
   "id": "b8c0ef54-5706-4ade-9400-2b9c68edaffb",
   "metadata": {
    "tags": []
   },
   "outputs": [
    {
     "data": {
      "text/plain": [
       "0.5403023058681398"
      ]
     },
     "execution_count": 6,
     "metadata": {},
     "output_type": "execute_result"
    }
   ],
   "source": [
    "del math\n",
    "\n",
    "from math import cos\n",
    "\n",
    "cos(1)\n"
   ]
  },
  {
   "cell_type": "code",
   "execution_count": 7,
   "id": "e1fdd315-0c3f-4d8b-998d-c5cd8adfeb0c",
   "metadata": {
    "tags": []
   },
   "outputs": [
    {
     "ename": "NameError",
     "evalue": "name 'cos' is not defined",
     "output_type": "error",
     "traceback": [
      "\u001b[0;31m---------------------------------------------------------------------------\u001b[0m",
      "\u001b[0;31mNameError\u001b[0m                                 Traceback (most recent call last)",
      "Cell \u001b[0;32mIn[7], line 3\u001b[0m\n\u001b[1;32m      1\u001b[0m \u001b[38;5;28;01mdel\u001b[39;00m cos\n\u001b[0;32m----> 3\u001b[0m \u001b[43mcos\u001b[49m(\u001b[38;5;241m1\u001b[39m)\n",
      "\u001b[0;31mNameError\u001b[0m: name 'cos' is not defined"
     ]
    }
   ],
   "source": [
    "del cos\n",
    "\n",
    "cos(1)"
   ]
  },
  {
   "cell_type": "code",
   "execution_count": null,
   "id": "5ad02689-0347-418e-a478-3875f928f4a0",
   "metadata": {},
   "outputs": [],
   "source": []
  }
 ],
 "metadata": {
  "kernelspec": {
   "display_name": "jbook",
   "language": "python",
   "name": "jbook"
  },
  "language_info": {
   "codemirror_mode": {
    "name": "ipython",
    "version": 3
   },
   "file_extension": ".py",
   "mimetype": "text/x-python",
   "name": "python",
   "nbconvert_exporter": "python",
   "pygments_lexer": "ipython3",
   "version": "3.10.13"
  }
 },
 "nbformat": 4,
 "nbformat_minor": 5
}
