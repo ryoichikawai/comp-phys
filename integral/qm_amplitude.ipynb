{
 "cells": [
  {
   "cell_type": "markdown",
   "id": "36e98166-cbdd-4bd5-9242-6326f712a395",
   "metadata": {},
   "source": [
    "(app:probability-amplitude)=\n",
    "# Quantum Probability Amplitude"
   ]
  },
  {
   "cell_type": "code",
   "execution_count": null,
   "id": "7ab98fc7-e0d9-4c27-ab58-cb80e61f3aa7",
   "metadata": {},
   "outputs": [],
   "source": []
  }
 ],
 "metadata": {
  "kernelspec": {
   "display_name": "jbook",
   "language": "python",
   "name": "jbook"
  },
  "language_info": {
   "codemirror_mode": {
    "name": "ipython",
    "version": 3
   },
   "file_extension": ".py",
   "mimetype": "text/x-python",
   "name": "python",
   "nbconvert_exporter": "python",
   "pygments_lexer": "ipython3",
   "version": "3.10.13"
  }
 },
 "nbformat": 4,
 "nbformat_minor": 5
}
