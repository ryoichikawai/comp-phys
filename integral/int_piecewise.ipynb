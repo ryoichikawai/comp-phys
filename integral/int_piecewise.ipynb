{
 "cells": [
  {
   "cell_type": "markdown",
   "id": "8ae7f8b6-87c5-46f6-899e-bee4170ce831",
   "metadata": {},
   "source": [
    "(sec-int-piecewise)=\n",
    "# Piecewise integration"
   ]
  },
  {
   "cell_type": "markdown",
   "id": "1cea4b3c-6183-4226-a158-2abcd9da5da2",
   "metadata": {},
   "source": []
  },
  {
   "cell_type": "markdown",
   "id": "cbe1779f-de2e-48a5-8983-17af66048e2e",
   "metadata": {},
   "source": [
    "We want to integrate a function $f(x)$ from $a$ to $b$.\n",
    "Similarly to the numerical derivative problems, there are two different cases.  In one case, a closed form expression of the function is known and we can evaluate the function value at any point of $x \\in [a,b]$.  In the other case, the function values are given as a finite sequence $f_n = f(x_n), n=0, \\cdots, N$ and the analytical expression of the function is unknown. In this section, we focus on the former case and the latter case will be discussed in a later chapter.\n",
    "\n",
    "\n",
    "\n",
    "```{figure} int_rectangle.png\n",
    ":name: fig_int_rectangle\n",
    "The forward (left) and backward (right) recutangular rules are illustrated.  The integral is the sum of the shadowed area of all boxes shown in the diagrams.\n",
    "```"
   ]
  },
  {
   "cell_type": "markdown",
   "id": "299af0fc-6c05-4ee3-bfe0-8b36c3894215",
   "metadata": {},
   "source": [
    "## Rectangular methods\n",
    "\n",
    "We begin with the Rieman's definition of integral:\n",
    "\n",
    "$$\n",
    "\\int_{a}^{b} f(x) dx = \\lim_{N \\rightarrow \\infty} \\sum_{n=0}^{N-1} f(x_n)\\, h  = \\lim_{N \\rightarrow \\infty} \\sum_{n=1}^{N} f(x_n)\\, h\n",
    "$$\n",
    "\n",
    "where $h =(b-a)/N$ and $x_n=a + n\\, h$.   Note that $h$ depends on $N$.  Numerical methods do not understand this kind of limit since it ends up with $\\infty \\times 0$.  Beside, summing infinitely many terms costs infinite CPU time.  We hope that sufficiently large $N$ (i.e., sufficiently small $h>0$) gives a value close to the exact integral. This is the rectangular rule.  There are two ways to form a set of boxes. In the forward rectangular method, the left edge of the rectangle matches to the curve. See the left panel of Fig. {numref}`fig_int_rectangle`.  Mathematically, it is expressed as\n",
    "\n",
    "$$\n",
    "\\int_{a}^{b} f(x) dx \\approx  \\sum_{n=0}^{N-1} f(x_n)\\, h .\n",
    "$$(eq_int_fwd_rectangle)\n",
    "\n",
    "Similarly, in the backward rectangular method (the right panel of Fig. {numref}`fig_int_rectangle`) , the right edge of the rectangle matches the curve and thus we have\n",
    "\n",
    "$$\n",
    "\\int_{a}^{b} f(x) dx \\approx  \\sum_{n=1}^{N} f(x_n)\\, h .\n",
    "$$(eq_int_bwd_rectangle)\n",
    "\n",
    "In the rectangular method, the curve is approximated by piecewise constants: for $x \\in (x_n,x_{n+1}), f(x)=c_n$.  Then, each piece is integrated analytically, that is \n",
    "\n",
    "$$\n",
    "\\int_{x_n}^{x_{n+1}} f(x) dx = \\int_{x_n}^{x_{n+1}} c_n dx = c_n (x_{n+1}-x_i) = c_n h\\, .\n",
    "$$\n",
    "\n",
    "The forward rectangular method used $c_n = f(x_n)$ and the backward rectangular method $c_n = f(x_{n+1})$."
   ]
  },
  {
   "cell_type": "markdown",
   "id": "8cece8cb-1b7b-4458-b638-b2d670d19bfc",
   "metadata": {},
   "source": [
    "```{admonition} Alrgorithm 3.1.1:  Forward rectangular rule\n",
    "\n",
    "1. Set $s=0.0$ where $s$ should be double (float64).\n",
    "2. Repeat steps 4-6 for $n=0$ to $n=N-1$:\n",
    "3. $x=a+n*h$.\n",
    "4. $s=s+f(x)$.\n",
    "5. Go back to step 4 and repeat with new $n$.\n",
    "6. The integral is given by $s*h$.\n",
    "\n",
    "```"
   ]
  },
  {
   "cell_type": "markdown",
   "id": "bcbfa4b6-3194-41a2-95c3-8fbd6d66568a",
   "metadata": {},
   "source": [
    "As seen in Fig. {numref}`fig_int_rectangle` the rectangular method seems not accurate. To analyze the accuracy, we consider a small integral interval from $x_{n}$ to $x_{n+1}=x_n+h$.  Expanding the integral with respect to $h$ (See Appendix \\ref{ap:int_expand}),  the integral is expressed as power series of $h$:\n",
    "\n",
    "$$\n",
    "\\int_{x_{n}}^{x_{n}+h} f(x) dx = f(x_n) h + f'(x_n) \\frac{h^2}{2} + f''(x_n) \\frac{h^3}{3!} + + f^{(3)}(x_n) \\frac{h^4}{4!} + \\mathcal{O}(h^5)\\,.\n",
    "$$(eq_int_expand)\n",
    "\n",
    "Then, the whole integral in the forward scheme is expressed as\n",
    "\n",
    "$$\n",
    "\\int_a^b f(x) dx = \\sum_{n=0}^{N-1} \\int_{x_{n}}^{x_{n}+h} f(x) dx =  \\sum_{n=0}^{N-1} \\left [f(x_n) h + f'(x_n) \\frac{h^2}{2} + \\mathcal{O}(h^3) \\right ]\n",
    "$$\n",
    "\n",
    "By neglecting $h^2$ and higher orders, we obtain the rectangular rule.\n",
    "Therefore, the error of the rectangular rule is the order of $h^2$ per segment.  Since there are $N$ segments, the total error is\n",
    "order of $h^2 N = (b-a) h$.  Hence, the total error is the order of $h$.  You might think that if a very small value of $h$ is used the error is negligible. Unfortunately, the round-off error gets too large when $N$ is too large (See Example x.x.x). In practice, this method is rarely used."
   ]
  },
  {
   "cell_type": "markdown",
   "id": "2cb02f33-d354-4817-9630-103cab8cd9b1",
   "metadata": {},
   "source": [
    "## Trapezoidal rule\n",
    "\n",
    "Istead of approximating with piecewise constant lines, fitting each segment of the curve with a linear function.  For $x \\in [x_n, x_{n+1}]$, we approximate function $f(x)$ with a linear equation $a x + b$ such that $f(x_n)= a x_n + b$ and $f(x_{n+1}) = a x_{n+1}+b$.  Then, the area below the linear line, which is a trapezoid, approximates the integral of the segment.  See Fig. {numref}`fig_int_trapezoid`  Hence,\n",
    "\n",
    "$$\n",
    "\\int_{x_n}^{x_{n+1}} f(x) dx \\approx \\frac{h}{2}[f(x_n)+f(x_{n+1})]\\,.\n",
    "$$\n",
    "\n",
    "Adding all segments, we obtain\n",
    "\n",
    "$$\n",
    "\\int_{a}^{b} f(x) dx \\approx \\sum_{n=0}^{N-1} \\frac{h}{2}[f(x_n)+f(x_{n+1})] = \\frac{h}{2} [f(a) + f(b)] + \\sum_{n=1}^{N-1} f(x_n)\n",
    "$$(eq_int_trapezoid)\n",
    "\n",
    "Notice that this formula is equivalen to the average of the forward and backward rectangular methods.   Note also that the difference between the trapezoidal rule and the rectangular rule is only how the end points $f(a)$ and $f(b)$ are treated.  \n",
    "\n",
    "```{figure} int_trapezoid.png\n",
    ":name: fig_int_trapezoid\n",
    "The trapezoidal rule is illustrated.  The integral is approximated by the shadowed area of all trapezoids shown in the diagrams.\n",
    "```"
   ]
  },
  {
   "cell_type": "markdown",
   "id": "962e1c6d-f99c-4fc7-8ab6-f840704b4a9d",
   "metadata": {},
   "source": [
    "Let us find the order of error by substituting the forward finite difference method, $f'(x_n) = \\displaystyle\\frac{f(x_n+h)-f(x_n)}{h}+\\mathcal{O}(h)$ into Eq. {eq}`eq_int_expand`:\n",
    "\n",
    "$$\n",
    "\\int_{x_n}^{x_{n+1}} f(x) dx = f(x_n) h + f'(x_n)\\frac{h^2}{2} + \\mathcal{O}(h^3) = \\frac{f(x_n)+f(x_{i+n})}{2} h + \\mathcal{O}(h^3)\\,.\n",
    "$$(eq_error_trapezoid)\n",
    "\n",
    "If $h^3$ and higher orders is ignored, we obtain the trapezoid rule.  Hence, the trapezoidal rule is locally accurate up to $h^2$, better than the rectangular rule.  The total error is the order of $h^3 N =(b-a) h^2$.  The trapezoidal method is commonly used due to its simplicity and reasonable accuracy. Interestingly, if the function vanishes at the integral limits, $f(a)=f(b)=0$, then the rectangular rule produces exactly the same result as the trapezoidal rule. "
   ]
  },
  {
   "cell_type": "markdown",
   "id": "dea8bd20-7e18-46ed-9a65-35fc25b3efec",
   "metadata": {},
   "source": [
    "```{admonition} Alrgorithm 3.1.2:  Trapezoidal rule\n",
    "\n",
    "1. Set the step length: $h=\\displaystyle\\frac{b-a}{N}$\n",
    "2. Set $s=0.5*(f(a)+f(b))$ where $s$ should be double (float64).\n",
    "3. Repeat steps 4-6 for $n=1$ to $n=N-1$:\n",
    "4. $x=a+n*h$.\n",
    "5. $s=s+f(x)$. \n",
    "6. Go back to step 4 and repeat with new $n$.\n",
    "7. The integral is given by $s*h$.\n",
    "```"
   ]
  },
  {
   "cell_type": "markdown",
   "id": "f2aa7c6a-97ac-49c3-83c3-01663074757f",
   "metadata": {},
   "source": [
    "## Simpson rule\n"
   ]
  }
 ],
 "metadata": {
  "kernelspec": {
   "display_name": "jbook",
   "language": "python",
   "name": "jbook"
  },
  "language_info": {
   "codemirror_mode": {
    "name": "ipython",
    "version": 3
   },
   "file_extension": ".py",
   "mimetype": "text/x-python",
   "name": "python",
   "nbconvert_exporter": "python",
   "pygments_lexer": "ipython3",
   "version": "3.10.13"
  }
 },
 "nbformat": 4,
 "nbformat_minor": 5
}
