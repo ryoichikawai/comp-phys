{
 "cells": [
  {
   "cell_type": "markdown",
   "id": "9a23ed43-c862-468f-a1cb-5db32d9d590e",
   "metadata": {
    "tags": []
   },
   "source": [
    "(sec_int_exercises)=\n",
    "# Exercise solutions"
   ]
  },
  {
   "cell_type": "markdown",
   "id": "61160c40-90cc-4dab-81e6-0f56c1ac126f",
   "metadata": {},
   "source": [
    "**3.2.1**"
   ]
  },
  {
   "cell_type": "code",
   "execution_count": 10,
   "id": "af54bf24-af68-4d80-b762-94b431975aac",
   "metadata": {
    "tags": []
   },
   "outputs": [
    {
     "data": {
      "text/plain": [
       "0.9999166630003236"
      ]
     },
     "execution_count": 10,
     "metadata": {},
     "output_type": "execute_result"
    }
   ],
   "source": [
    "import numpy as np\n",
    "import scipy.integrate as integrate\n",
    "N = 1000000\n",
    "L = 10000.\n",
    "h = L/N\n",
    "x = np.linspace(1,L,N+1)\n",
    "f = 1./x**2\n",
    "integrate.trapezoid(f,x=x)"
   ]
  },
  {
   "cell_type": "code",
   "execution_count": null,
   "id": "40ee4b1b-fc8b-4cd5-a897-49cf229fbeea",
   "metadata": {},
   "outputs": [],
   "source": []
  }
 ],
 "metadata": {
  "kernelspec": {
   "display_name": "jbook",
   "language": "python",
   "name": "jbook"
  },
  "language_info": {
   "codemirror_mode": {
    "name": "ipython",
    "version": 3
   },
   "file_extension": ".py",
   "mimetype": "text/x-python",
   "name": "python",
   "nbconvert_exporter": "python",
   "pygments_lexer": "ipython3",
   "version": "3.10.13"
  }
 },
 "nbformat": 4,
 "nbformat_minor": 5
}
