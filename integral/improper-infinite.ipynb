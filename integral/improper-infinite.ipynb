{
 "cells": [
  {
   "cell_type": "markdown",
   "id": "e7f5069c-6a44-4acf-b7ab-40962f00cae0",
   "metadata": {},
   "source": [
    "(sec-int-improper1)=\n",
    "# Improper Integral I: Infinite interval\n"
   ]
  },
  {
   "cell_type": "markdown",
   "id": "21ba1c59-0a95-43e6-9b16-ef5eb8d3cdf5",
   "metadata": {},
   "source": [
    "If the upper limit is $\\infty$ or the lower limit is $-\\infty$,  the methods of peicewise intetration won't work since infinite segments must be added up. \n",
    "\n",
    "For example, consider\n",
    "\n",
    "$$\n",
    "\\int_1^\\infty \\frac{1}{x^2}\\, dx\n",
    "$$\n",
    "\n",
    "Despite the infinite interval this integral converges to $1$.   One might hope that the infinity can be approximated by some large number $L$.  Then, the approxmated integral is\n",
    "\n",
    "$$\n",
    "\\int_1^L \\frac{1}{x^2}\\, dx = 1 - \\frac{1}{L}\n",
    "$$\n",
    "\n",
    "If we want to get four digits of accuracy, $L$ must be larger than $10^{4}$.  If step size $h=10^{-2}$ is used, we have $10^6$ segments to sum up.  This is feasible for this simple integral.\n",
    "\n",
    ">**Exercise 3.2.1**:  Evaluate the integral using the trapezoidal rule.\n",
    "\n",
    "However, if we need a higher accuracy, the accumulation of round-off may become an issue. Furthermore, if the integrand is more complicated, it is difficult to find an appropriate upper bound. \n",
    "\n",
    "There are better strategies.  In the following, two approaches are introduced.\n",
    "\n",
    "\n",
    "\n",
    "One way to overcome this problem is to split the integral to two parts\n",
    "\\begin{equation}\n",
    "\\int_0^\\infty f(x) \\dd{x} = \\int_0^a f(x) \\dd{x} + \\int_a^\\infty f(x) \\dd{x}\n",
    "\\end{equation}\n",
    "where $a$ is a positive constant.\n",
    "The first term in the right hand side can be integrated by the trapezoidal or simpson rule. The second term needs to be transformed to a numerically computable form by introducing a new variable $t=\\displaystyle\\frac{1}{x}$. Then, the integral we need to compute is\n",
    "\\begin{equation}\n",
    "\\int_a^\\infty f(x) \\dd{x} = \\int_0^{1/a} \\frac{1}{t^2}\\, f\\left (\\frac{1}{t} \\right ) \\dd{t}\n",
    "\\end{equation}\n",
    "The integral in the right hand side can be integrated by a standard method. However, the new form is not necessarily trouble free since the integrand is not defined at the lower bound (divided-by-zero error).  If we can evaluate $\\lim_{t \\rightarrow 0} 1/t^2 f(1/t)$ analytically by hand (we will discuss more detail about this in the next section.), then standard methods such as the Simpson method works.   \n"
   ]
  },
  {
   "cell_type": "markdown",
   "id": "24afab59-7c4f-4dfc-8cde-3fe7fc2ef66a",
   "metadata": {},
   "source": [
    "## Method of variable transformation\n",
    "\n",
    "One way to overcome the above problem is to split the integral to two parts\n",
    "\n",
    "$$\n",
    "\\int_a^\\infty f(x)\\, dx = \\int_a^b f(x)\\, dx + \\int_b^\\infty f(x)\\,dx\n",
    "$$\n",
    "\n",
    "where $b$ is a constant to be chosen.\n",
    "The first term in the right hand side can be integrated by the trapezoidal or the simpson rule. The second term needs to be transformed to a numerically computable form by introducing a new variable $y=\\displaystyle\\frac{1}{x}$. Then, the integral we need to compute is\n",
    "\n",
    "$$\n",
    "\\int_b^\\infty f(x)\\, dx = \\int_0^{1/b} \\frac{1}{y^2}\\, f\\left (\\frac{1}{y} \\right )\\, dy\n",
    "$$\n",
    "\n",
    "Now the infinity disappeared.\n",
    "However, the new form is not necessarily trouble free since the integrand may not be defined at the lower bound  (divided-by-zero error). If we can evaluate $\\lim_{y \\rightarrow 0} 1/y^2 f(1/y)$ analytically by hand, then standard methods such as the Simpson method works if an appropriate $b$ is chosen.\n"
   ]
  },
  {
   "cell_type": "markdown",
   "id": "b8d640b3-cb16-4a71-aa93-cb8e5dbe9e8d",
   "metadata": {},
   "source": [
    "**Example 3.2.1**  Evcaluate $\\displaystyle\\int_0^\\infty \\frac{1}{x^2+1} dx$.  he exact answer is known to be $\\pi/2$.\n",
    "\n",
    "$$\n",
    "\\int_0^\\infty \\frac{1}{x^2+1} dx = \\int_0^b \\frac{1}{x^2+1} dx + \\int_0^{1/b} \\frac{1}{y^2}\\frac{1}{\\frac{1}{y^2}+1} dy = \\int_0^b \\frac{1}{x^2+1} dx + \\int_0^{1/b} \\frac{1}{y^2+1} dy\n",
    "$$\n",
    "\n",
    "Now we conveniently choose $b=1$.  Then, the two seprate integrals become ideitical.  Hence,\n",
    "\n",
    "$$\n",
    "\\int_0^\\infty \\frac{1}{x^2+1} dx = \\int_0^1 \\frac{2}{x^2+1} dx\n",
    "$$"
   ]
  },
  {
   "cell_type": "code",
   "execution_count": 13,
   "id": "c90f35ee-e45e-4900-bb4d-c2ebdc8870a9",
   "metadata": {
    "tags": []
   },
   "outputs": [
    {
     "name": "stdout",
     "output_type": "stream",
     "text": [
      "trapezoid  = 1.5707879934615645\n",
      "abs. error = -8.333333332055659e-06\n"
     ]
    }
   ],
   "source": [
    "import numpy as np\n",
    "import scipy.integrate as integrate\n",
    "N=100\n",
    "x = np.linspace(0,1,N+1)\n",
    "f = 2./(x**2+1)\n",
    "s=integrate.trapezoid(f,x=x)\n",
    "error=s-np.pi/2\n",
    "print(\"trapezoid  =\",s)\n",
    "print(\"abs. error =\",error)"
   ]
  },
  {
   "cell_type": "markdown",
   "id": "1e7fa84a-a026-448d-885b-050aef269abc",
   "metadata": {},
   "source": [
    "The first five digits agrees with the exact value with as small as 100 segments."
   ]
  },
  {
   "cell_type": "markdown",
   "id": "da9bbffe-f026-40b9-a7fa-10d8fa8fa569",
   "metadata": {},
   "source": [
    "## Gaussian Quadratures"
   ]
  },
  {
   "cell_type": "code",
   "execution_count": null,
   "id": "de9e78b2-eaa0-4504-9c1a-7c0cd9d31158",
   "metadata": {},
   "outputs": [],
   "source": []
  }
 ],
 "metadata": {
  "kernelspec": {
   "display_name": "jbook",
   "language": "python",
   "name": "jbook"
  },
  "language_info": {
   "codemirror_mode": {
    "name": "ipython",
    "version": 3
   },
   "file_extension": ".py",
   "mimetype": "text/x-python",
   "name": "python",
   "nbconvert_exporter": "python",
   "pygments_lexer": "ipython3",
   "version": "3.10.13"
  }
 },
 "nbformat": 4,
 "nbformat_minor": 5
}
