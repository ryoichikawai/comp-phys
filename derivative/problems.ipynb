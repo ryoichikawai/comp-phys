{
 "cells": [
  {
   "cell_type": "markdown",
   "id": "bbba28c7-5c90-4898-bef0-7196dfc6ba64",
   "metadata": {},
   "source": [
    "(sec-diff-problems)=\n",
    "# Problems"
   ]
  },
  {
   "cell_type": "markdown",
   "id": "54db2a9a-bfba-4d4f-97f6-21ad1184df6e",
   "metadata": {},
   "source": [
    "**2.1** Evaluate the first order derivative of $\\sin(x)$ for interval $(0,2\\pi)$ with tolerance 0.0001 at $x=\\frac{\\pi}{4}$, $\\frac{\\pi}{2}$, and $\\pi$. What value of $h$ is needed to satisfy the tolerance at each point?   Is the optimal $h$ independent of $x$? \n",
    "\n",
    "---\n",
    "\n",
    "**2.2** Evaluate the second order derivative of $f(x)=\\displaystyle\\frac{1}{12} x^4$ at $x=1$ usig $h=1, 0.1, 0.01, \\cdots, 10^{-10}$.\n",
    "\n",
    "(1) First use the three-poiojt method. Compare the result with the exact derivative ($f''(x) = x^2$) and plot the error as a function of $h$. \n",
    "\n",
    "(2) Try also the five-point method and evaluate the error.  You will find unexpectedly good result even for relatively large values of $h$.   Can you explain why the error is so small in this case?\n"
   ]
  },
  {
   "cell_type": "markdown",
   "id": "3ee862e3-7b2d-4fe8-a1f6-db4bcb89d784",
   "metadata": {},
   "source": [
    "\n",
    "---\n",
    "\n",
    "Last modified on 2/14/2024 by R. Kawai"
   ]
  }
 ],
 "metadata": {
  "kernelspec": {
   "display_name": "book",
   "language": "python",
   "name": "book"
  },
  "language_info": {
   "codemirror_mode": {
    "name": "ipython",
    "version": 3
   },
   "file_extension": ".py",
   "mimetype": "text/x-python",
   "name": "python",
   "nbconvert_exporter": "python",
   "pygments_lexer": "ipython3",
   "version": "3.12.11"
  }
 },
 "nbformat": 4,
 "nbformat_minor": 5
}
