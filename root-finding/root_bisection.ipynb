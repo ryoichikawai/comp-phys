{
 "cells": [
  {
   "cell_type": "markdown",
   "id": "2dbf9dee-b20d-4380-9f94-2e4d87587ca4",
   "metadata": {},
   "source": [
    "(sec_bisection)=\n",
    "# Bisection Method"
   ]
  },
  {
   "cell_type": "code",
   "execution_count": 26,
   "id": "628076e6-f38c-4592-affc-2b2016ef932c",
   "metadata": {},
   "outputs": [
    {
     "name": "stdout",
     "output_type": "stream",
     "text": [
      "root= 1.0000000e+00, f(x)=  0.00000000e+00, iteration=  11\n",
      "root= 3.0000000e+00, f(x)=  0.00000000e+00, iteration=   9\n",
      "root= 5.0000000e+00, f(x)=  0.00000000e+00, iteration=  14\n"
     ]
    }
   ],
   "source": [
    "# continued from the previous code cell\n",
    "# a bracket obtained in the previous code cell is used here\n",
    "\n",
    "def bisection(x1,x2,rtol,nmax):\n",
    "# function that finds a root in a given bracket\n",
    "# input: x1, x2 = bracket\n",
    "#        rtol = tolerance for f(x)\n",
    "#        nmax = maximum itertation\n",
    "# output: array of the followings:\n",
    "#        root = root found by the bisection method\n",
    "#        func = the function value at the root\n",
    "#           n = the number of iteration\n",
    "#\n",
    "    f1 = f(x1)\n",
    "    f2 = f(x2)\n",
    "\n",
    "    # iteration counter\n",
    "    n=0\n",
    "\n",
    "    # mid point\n",
    "    xm = (x1+x2)/2.0\n",
    "    fm = f(xm)\n",
    "\n",
    "    while abs(fm) > rtol and n < nmax:\n",
    "        if f1*fm < 0:  # root in the lower half\n",
    "            x2=xm\n",
    "            f2=fm\n",
    "        else:          # root in the upper half\n",
    "            x1=xm\n",
    "            f1=fm\n",
    "\n",
    "        xm = (x1+x2)/2.0      # new mid point\n",
    "        fm = f(xm)\n",
    "        n+=1\n",
    "\n",
    "    return [xm, fm ,n]\n",
    "\n",
    "# main routine starts here\n",
    "\n",
    "# set a tolerance\n",
    "rtol = 1.e-6\n",
    "\n",
    "# setr maximum iteration\n",
    "nmax = 100\n",
    "   \n",
    "for k in range(3):\n",
    "    [root, func, n]=bisection(xL[k],xU[k],rtol,nmax)\n",
    "    print(\"root= {0:10.7e}, f(x)= {1:15.8e}, iteration= {2:3d}\".format(root, func, n))\n"
   ]
  },
  {
   "cell_type": "markdown",
   "id": "f64205cc-2bf8-4695-902e-675fb5c447dc",
   "metadata": {
    "jupyter": {
     "source_hidden": true
    }
   },
   "source": [
    "In this section, a simple but robust root-finding algorithm called the bisection method. This method reuires a initial bracket.  Thus, the first step is to _bracket_ the target root $x^*$ between $x_L$ and $x_U$ such that $x_L < x^* < x_U$.  It is important that there is only one root between $x_L$ and $x_U$.  It turns out that this is not an trivial task for computer. Human eyes can find the bracket easily by plotting the function.  Therefore, the best practice is to plot the function and bracket the target root by visual inspection.  However, in some cases it is desirable to have a robust numerical method to find the bracket. For example,  when root finding is required many times during long computer simulation, you can't stop the simulation to visually inspect the bracket.   There are simple algorithms of finding the bracket but unfortunately no method guarantees the outcome.   In this chapter, we assume that the bracket is done by direct visual inspection.\n",
    "\n",
    "Any iterative method needs a criteria to stop the iteration. Ultimately, we stop it when the error is smaller than the tolerance.  However, in practice we never know the exact error.  If we knew it, we have the exact root! Therefore, we must carefully choose an ending criteria.\n"
   ]
  },
  {
   "cell_type": "markdown",
   "id": "32768a7b-e8b4-427e-a71b-d7a29f140437",
   "metadata": {},
   "source": [
    "## Bracketing a root\n",
    "\n",
    "Pick two different points, $x_1$ and $x_2$.  If $f(x_1) f(x_2) < 0$, there must be at least one root between $x$1 and $x_2$.  It does not say that there is only one.  There may be any odd number of roots.  On the other hand, if $f(x_1) f(x_2) > 0$, then either no root or even number of roots between $x_1$ and $x_2$.  If $x_1 - x_2$ is small enough, we hope that there is only one root for the former case and no root in the latter case. But this is just a home and no guarantee.  Let use choose thet two point not far from each other such that $x_2 > x_1$ and $f(x_1) f(x_2) > 0$.  Assuming there is not root between the two points, we gradually reduce $x_1$ or increase $x_2$ until $f(x_1) f(x_2)$ change the sign.  At the end, $x_1$ and $x_2$ are the bracket."
   ]
  },
  {
   "cell_type": "markdown",
   "id": "b3a9345c-5189-49de-ba76-3718f2fc5bb1",
   "metadata": {},
   "source": [
    "**Example**  Bracket all positive roots of $x^3 - 9 x^2 +23 x - 15$."
   ]
  },
  {
   "cell_type": "code",
   "execution_count": 1,
   "id": "38caf515-2817-4c9b-905e-e78a5292017e",
   "metadata": {},
   "outputs": [
    {
     "name": "stdout",
     "output_type": "stream",
     "text": [
      "found a bracket. [9.25600e-01, 1.58096e+00]\n",
      "found a bracket. [2.50656e+00, 3.16192e+00]\n",
      "found a bracket. [4.74288e+00, 5.79146e+00]\n",
      "reached xmax\n"
     ]
    }
   ],
   "source": [
    "import numpy as np\n",
    "\n",
    "\n",
    "def f(x):\n",
    "    return x**3-9*x**2+23*x-15\n",
    "\n",
    "# search root between xmax and 0\n",
    "xmax=10.0\n",
    "\n",
    "# initial step size\n",
    "dx = 0.1\n",
    "\n",
    "# create empty array\n",
    "xL=[]\n",
    "xU=[]\n",
    "    \n",
    "# initial two points\n",
    "x1 = 0.0\n",
    "x2 = x1+dx\n",
    "\n",
    "while x2< xmax:\n",
    "    \n",
    "    if f(x1)*f(x2)>0:\n",
    "        # no root yet\n",
    "        # expand the upper bound\n",
    "        x3 = x2+ 1.6 *(x2-x1)\n",
    "        x1 = x2\n",
    "        x2 = x3\n",
    "        \n",
    "    else:\n",
    "        # found a bracket\n",
    "        xL.append(x1)\n",
    "        xU.append(x2)\n",
    "        print(\"found a bracket. [{0:8.5e}, {1:8.5e}]\".format(x1,x2))\n",
    "\n",
    "        # reset the two points for next bracket\n",
    "        x1 = x2\n",
    "        x2 = x1+dx\n",
    "\n",
    "print(\"reached xmax\")"
   ]
  },
  {
   "cell_type": "markdown",
   "id": "4a16c1e2-eddd-4302-b8df-30556d395753",
   "metadata": {},
   "source": [
    "Noting that $x^3 - 9 x^2 +23 x - 15 = (x-1)(x-3)(x-5)$,  there are three positive roots.  The above code successfully fond the three brackets.  You can also find the brackets easily by plotting the function.  In the following plotting, the lower and upper bounds of each bracket are indicated by blue and green lines respectively. The roots shown as black dots are inside the bracket."
   ]
  },
  {
   "cell_type": "code",
   "execution_count": 4,
   "id": "e9bb3444-bce2-4e9b-83e5-7a254f1f61bb",
   "metadata": {},
   "outputs": [
    {
     "data": {
      "image/png": "[encoded data removed]",
      "text/plain": [
       "<Figure size 400x300 with 1 Axes>"
      ]
     },
     "metadata": {},
     "output_type": "display_data"
    }
   ],
   "source": [
    "# continued from the previous code cell\n",
    "\n",
    "import matplotlib.pyplot as plt\n",
    "\n",
    "x=np.linspace(0,7,201)\n",
    "y=f(x)\n",
    "\n",
    "plt.figure(figsize=(4,3))\n",
    "plt.plot(x,y)\n",
    "plt.plot([1,3,5],[0,0,0],'*k')\n",
    "plt.xlabel(r\"$x$\")\n",
    "plt.ylabel(r\"$f(x)$\")\n",
    "plt.axhline(y = 0, color = '0.8', linestyle = '--')\n",
    "\n",
    "for k in range(3):\n",
    "    plt.axvline(x = xL[k], color='b', linestyle = '-')\n",
    "    plt.axvline(x = xU[k], color='g', linestyle = '-')"
   ]
  },
  {
   "cell_type": "markdown",
   "id": "d96a9ca3-d1c2-460c-8e71-e8032169170f",
   "metadata": {},
   "source": [
    "## Bisection Method\n",
    "\n",
    "The bisection method is simple and robust.  Howeve, it may consume more cpu time than other approaches.\n",
    "Starting with an initial bracket, the bracket is narrowed by a half. Repeating this procedure until the bracket becomes so narrow that the the lower and upper limits of the bracket is almost identical.  Then, its midpoint is the root with a desired accuracy. Consider  a n initial bracket $[x_L,x_U]$. The mid point $x_M$ between  $x_L$ and $x_U$ divide the bracket into two smaller intervals $[x_L,x_M]$ and $[x_M,x_U]$.  One of the interval brackets the root.  If $f(x_L) f(x_M) < 0$, the root must be between $x_L$ and $x_M$.  Now we have a new bracket $[x_L,x_M]$.  Otherwise, the root must be between $x_M$ and $x_U$, which is the new bracket.  Repeating this procedure, the root is isolated in a small region. Noting that the error cannot be bigger than $x_U-x_L$ and thus the iteration is terminated when $x_U-x_L < \\text{xtol}$. Instead of the absolute error, we can use relative error, for example $(x_U-x_L)< rtol X_M$.  \n",
    "\n",
    "Alternatively, we can use the tolerance based on the function value.  If the function value is close enough to 0, that is $|f(x_M)| < \\text{ftol}$, we stop the iteration. When the slop of the curve near the root is small, xtol works better.  In the opposite case, ftol is better. cannot It is better to set the maximum number of iteration just in case the termination condition never be satisfied.\n",
    "\n",
    "Figure {numref}`fig-bisection` demonstrates how the bisection method works."
   ]
  },
  {
   "cell_type": "markdown",
   "id": "c6271a09-1857-4779-9fb1-62c71f0d7cfd",
   "metadata": {},
   "source": [
    "```{figure} bisection.png\n",
    "---\n",
    "height: 300px\n",
    "name: fig-bisection\n",
    "---\n",
    "Bisection method. Starting with an initial bracket $(x_0, x_1)$, the bracket is halved at each iteration to $(x_2,x_1)$, $(x_2,x_3)$, $(x_2, x_4)$, $(x_5, x_4)$, $\\cdots$.  Notice that $x_5$ is already quite close to the root.\n",
    "```"
   ]
  },
  {
   "cell_type": "markdown",
   "id": "894473e0-ab74-4207-8f4c-1d373e6efc57",
   "metadata": {},
   "source": [
    "```{admonition} Algorithm: Bisection Method\n",
    "\n",
    "1. Get a initial bracket $x_L$ and $x_U$ and a tolerance xtol or rtol.\n",
    "2. Make it sure that $f(x_L) f(x_U) <0$.  Otherwise, stop and check the initial bracket.\n",
    "3. Evaluate the function at the mid point $x_M = \\frac{1}{2}(x_L+x_U)$.\n",
    "4. If $x_U - x_L< xtol$ or $|f(x_M)|< ftol, $x_M$ is the root and stop here.  Otherwise continue.\n",
    "5. If $f(x_L) f(x_M) < 0$, then the root is between $x_L$ and $x_M$.  Let $x_U=x_M$ and go to step 3.  Otherwise continue.\n",
    "6. The root must be between $x_M$ and $x_U$.  Let $x_L=x_M$ and go to Step 3.\n",
    "\n",
    "```"
   ]
  },
  {
   "cell_type": "markdown",
   "id": "25a0a84a-bb66-4605-b4bb-0723e3d12c79",
   "metadata": {},
   "source": [
    "**Example**  We solve $x^3 - 9 x^2 +23 x - 15=0$.  The roots are already bracketed in the previous example.   We use rtol."
   ]
  },
  {
   "cell_type": "code",
   "execution_count": 31,
   "id": "f2db5ac7-bfa7-4c83-a2f2-db574027f964",
   "metadata": {},
   "outputs": [
    {
     "name": "stdout",
     "output_type": "stream",
     "text": [
      "root= 1.0000000e+00, f(x)=  0.00000000e+00, iteration=  11\n",
      "root= 3.0000000e+00, f(x)=  0.00000000e+00, iteration=   9\n",
      "root= 5.0000000e+00, f(x)=  0.00000000e+00, iteration=  14\n"
     ]
    }
   ],
   "source": [
    "# continued from the previous code cell\n",
    "# a bracket obtained in the previous code cell is used here\n",
    "\n",
    "def bisection(x1,x2,ftol,nmax):\n",
    "# function that finds a root in a given bracket\n",
    "# input: x1, x2 = bracket\n",
    "#        ftol = tolerance for f(x)\n",
    "#        nmax = maximum itertation\n",
    "# output: array of the followings:\n",
    "#        root = root found by the bisection method\n",
    "#        func = the function value at the root\n",
    "#           n = the number of iteration\n",
    "#\n",
    "    f1 = f(x1)\n",
    "    f2 = f(x2)\n",
    "\n",
    "    # iteration counter\n",
    "    n=0\n",
    "\n",
    "    # mid point\n",
    "    xm = (x1+x2)/2.0\n",
    "    fm = f(xm)\n",
    "\n",
    "    while abs(fm) > ftol and n < nmax:\n",
    "        if f1*fm < 0:  # root in the lower half\n",
    "            x2=xm\n",
    "            f2=fm\n",
    "        else:          # root in the upper half\n",
    "            x1=xm\n",
    "            f1=fm\n",
    "\n",
    "        xm = (x1+x2)/2.0      # new mid point\n",
    "        fm = f(xm)\n",
    "        n+=1\n",
    "\n",
    "    return [xm, fm ,n]\n",
    "\n",
    "# main routine starts here\n",
    "\n",
    "# set a tolerance\n",
    "ftol = 1.e-6\n",
    "\n",
    "# setr maximum iteration\n",
    "nmax = 100\n",
    "   \n",
    "for k in range(3):\n",
    "    [root, func, n]=bisection(xL[k],xU[k],ftol,nmax)\n",
    "    print(\"root= {0:10.7e}, f(x)= {1:15.8e}, iteration= {2:3d}\".format(root, func, n))\n"
   ]
  },
  {
   "cell_type": "markdown",
   "id": "25c19065-3f0a-42e3-916d-9e58be71f6f9",
   "metadata": {},
   "source": [
    "> **Exercise**  Do the same calculation with xtol. Try to get the most accurate results with a small tolerance. Which tolerance is better for this function, xtol or rtol?"
   ]
  },
  {
   "cell_type": "markdown",
   "id": "71b7db28-b3e7-417e-ad8d-9c53106c0d85",
   "metadata": {},
   "source": [
    "## Canned routine"
   ]
  },
  {
   "cell_type": "markdown",
   "id": "bba0fb25-1e3f-432a-8414-7308ad6ab3ed",
   "metadata": {},
   "source": [
    "Once we understood the algorithm, it is a bit safer to use a canned routine.  `scipy.optimize` provides `bisect`.  The default tolerance is xtol $=2 \\times 10^{-12}$ and rtol$=8.881784197001252 \\times 10^{-16}$. We can change it using the option `xtol=` and/or `rtol=`.  When both are specified, the iteration stops as soon as one of the conditions is satisfied.  By default the iteration is limited to 100 but can be changed with option \"maxiter=\"."
   ]
  },
  {
   "cell_type": "code",
   "execution_count": 30,
   "id": "9ee94bfb-5a54-4620-8519-300ef3758adb",
   "metadata": {},
   "outputs": [
    {
     "name": "stdout",
     "output_type": "stream",
     "text": [
      "root with xtol= 3.000000e+00\n",
      "root with rtol= 3.000000e+00\n"
     ]
    }
   ],
   "source": [
    "# continued from the previous code cells\n",
    "\n",
    "from scipy.optimize import bisect\n",
    "\n",
    "# using xtol\n",
    "r=bisect(f,xL[1],xU[1],xtol=1e-6)\n",
    "print(\"root with xtol= {0:12.6e}\".format(r))\n",
    "\n",
    "# using rtol\n",
    "r=bisect(f,xL[1],xU[1],rtol=1e-6)\n",
    "print(\"root with rtol= {0:12.6e}\".format(r))"
   ]
  },
  {
   "cell_type": "markdown",
   "id": "5d187201-65a5-4c16-a045-904e05f5a4b8",
   "metadata": {},
   "source": [
    "> _Exercise:_   Knowing that $x^3 - 4 x^2 + x - 6$ has only one negative root, find it by the bisection method."
   ]
  },
  {
   "cell_type": "markdown",
   "id": "9522b091-ebda-4ba8-8c9d-16e564fba3bf",
   "metadata": {},
   "source": [
    "\n",
    "___\n",
    "\n",
    "Last modified on 3/13/2024 by R. Kawai"
   ]
  },
  {
   "cell_type": "code",
   "execution_count": null,
   "id": "e6c15f55-5801-4078-9c3d-91c0230a34db",
   "metadata": {},
   "outputs": [],
   "source": []
  }
 ],
 "metadata": {
  "kernelspec": {
   "display_name": "jbook",
   "language": "python",
   "name": "jbook"
  },
  "language_info": {
   "codemirror_mode": {
    "name": "ipython",
    "version": 3
   },
   "file_extension": ".py",
   "mimetype": "text/x-python",
   "name": "python",
   "nbconvert_exporter": "python",
   "pygments_lexer": "ipython3",
   "version": "3.10.13"
  }
 },
 "nbformat": 4,
 "nbformat_minor": 5
}
