{
 "cells": [
  {
   "cell_type": "markdown",
   "id": "00781396-17fd-454d-8a58-5f7322a3e316",
   "metadata": {},
   "source": [
    "# The Closest Approach in a Scattering"
   ]
  },
  {
   "cell_type": "markdown",
   "id": "d6399406-e9d6-45e3-896a-66a41256d678",
   "metadata": {},
   "source": [
    "```{figure} scattering-diagram.png\n",
    "---\n",
    "height: 300px\n",
    "name: fig_scattering\n",
    "---\n",
    "A diagram of classical scattering.\n",
    "```"
   ]
  },
  {
   "cell_type": "code",
   "execution_count": null,
   "id": "a06a43fc-24f9-4c7a-81c6-de8325f440d3",
   "metadata": {},
   "outputs": [],
   "source": []
  }
 ],
 "metadata": {
  "kernelspec": {
   "display_name": "jbook",
   "language": "python",
   "name": "jbook"
  },
  "language_info": {
   "codemirror_mode": {
    "name": "ipython",
    "version": 3
   },
   "file_extension": ".py",
   "mimetype": "text/x-python",
   "name": "python",
   "nbconvert_exporter": "python",
   "pygments_lexer": "ipython3",
   "version": "3.10.0"
  }
 },
 "nbformat": 4,
 "nbformat_minor": 5
}
