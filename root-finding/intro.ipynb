{
 "cells": [
  {
   "cell_type": "markdown",
   "id": "68539588-ac5b-4299-8e7a-cc36c2c0ffb1",
   "metadata": {},
   "source": [
    "(ch_root_finding)=\n",
    "# Root Finding"
   ]
  },
  {
   "cell_type": "markdown",
   "id": "fdebfbd9-d396-4bf9-85dc-0cefd786a6a9",
   "metadata": {},
   "source": [
    "Finding roots of a function is a ubiquitous mathematical procedure in physics. For example, an equilibrium position of a particle in a potential field is determined as the place where the net force is zero, i.e., $U'(x)=0$. In many cases, the equation is transcendental and no analytical solution is available. Even when analytical solutions are known, numerical evaluation of them may suffer from the round-off error.  In this chapter,  we discuss how to find a root of a given equation $f(x)$ within acceptable error $\\epsilon$ (tolerance). There are various methods depending on available information. If the derivative of the function is known, some methods definitely utilize it. Other methods do not require the derivative and use other information.  We need to choose a good algorithm for a given situation."
   ]
  },
  {
   "cell_type": "code",
   "execution_count": null,
   "id": "0df40c83-2718-4fbc-a93f-727d20422394",
   "metadata": {},
   "outputs": [],
   "source": []
  }
 ],
 "metadata": {
  "kernelspec": {
   "display_name": "jbook",
   "language": "python",
   "name": "jbook"
  },
  "language_info": {
   "codemirror_mode": {
    "name": "ipython",
    "version": 3
   },
   "file_extension": ".py",
   "mimetype": "text/x-python",
   "name": "python",
   "nbconvert_exporter": "python",
   "pygments_lexer": "ipython3",
   "version": "3.10.0"
  }
 },
 "nbformat": 4,
 "nbformat_minor": 5
}
