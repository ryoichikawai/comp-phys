{
 "cells": [
  {
   "cell_type": "markdown",
   "id": "65510814-b108-459b-981a-eed0ee0e5e4f",
   "metadata": {},
   "source": [
    "(sec_newton_raphson)=\n",
    "# Newton-Raphson method"
   ]
  },
  {
   "cell_type": "markdown",
   "id": "bc397f2c-f45e-4fca-b241-78f348d22e8b",
   "metadata": {},
   "source": [
    "The key step of iterative methods is how to propose a new candidate of root based on the previous candidates.  The derivative of the function provides can be a good resource to construct the  next candidate. Suppose that the $n$-th candidate $x_n$ was not good enough. What informnation can be used  to propose a new candidate?  The slope of the function should provide a useful information.  The Neton-Raphson and secant methods, both utilize the derivative function to propose a better candidate,."
   ]
  },
  {
   "cell_type": "markdown",
   "id": "aad80fc4-07f3-440a-a947-4084b5318e54",
   "metadata": {},
   "source": [
    "## Newton-Raphson method\n",
    "\n",
    "We approximate the function using Taylor expansion around $x_n$ as follows:\n",
    "\n",
    "$$\n",
    "f(x) \\approx f(x_n) + f'(x_n) (x-x_n) \n",
    "$$(eq-taylor-1)\n",
    "\n",
    "Then, the original equation $f(x)=0$ is approximated by\n",
    "\n",
    "$$\n",
    "f(x_n) + f'(x_n) (x-x_n) = 0\n",
    "$$\n",
    "\n",
    "The root of this equation is the next candidate, that is\n",
    "\n",
    "$$\n",
    "x_{n+1} = x_n - \\frac{f(x_n)}{f'(x_n)}\n",
    "$$(eq-newton-raphson)\n",
    "\n",
    "which should be closer to the root than $x_n$ as Fig. {numref}`fig-newton-raphson` illustrate.  Repeating this procedure, $x_n$ approaches the root rather quickly.\n",
    "\n",
    "We need a reasonable criteria for terminating the iteration. Let us denote the root as $x^*$. From Eq. {eq}`eq-taylor-1` we have\n",
    "\n",
    "$$\n",
    "f(x^*) = f(x_n) + (x^*-x_n) f'(x_n)\n",
    "$$\n",
    "\n",
    "By definition, $f(x^*)=0$.  Then, the error is estimated as $|x^*-x_n| =  \\left | \\displaystyle\\frac{f(x_n)}{f'(x_n)} \\right | = |x_{n+1}-x_n|$.  Hence, we stop the iteration when $|x_{n+1}-x_n| < \\text{tolerance}$.\n",
    "\n",
    "Note that this method does not require initial bracketing.  However, \n",
    "this method works great only if the initial point is sufficiently close to the root. Otherwise it is not guaranteed to converge to the target root.  It might reach another root which you are not looking for. \n",
    "In order to avoid this failure, find a rough estimate of root using the bisection method and switch to the Newton-Raphson method for the further improvement.  While the bisection method is relatively robust many iterations are needed.  On the other hand, the Newton-Raphson method converges faster.  Therefore, such a hybrid method make a sense. \n"
   ]
  },
  {
   "cell_type": "markdown",
   "id": "4c639fc0-1db7-462b-bbc1-34cd1a38c6c1",
   "metadata": {},
   "source": [
    "```{figure} newton_raphson.png\n",
    "---\n",
    "height: 300px\n",
    "name: fig-newton-raphson\n",
    "---\n",
    "The Newton-Raphson method. The straight line tangent to the curve at the current candidate $x_n$ is used to find a new imroved candidate $x_{n+1}$.  If $x_n$ is already close to the root, this procedure rapidly converges to it.\n",
    "```"
   ]
  },
  {
   "cell_type": "markdown",
   "id": "47b7eb65-9c01-462a-ae0a-6261af4c171a",
   "metadata": {},
   "source": [
    "```{admonition} Algorithm: Newton-Raphson\n",
    "\n",
    "1. Set a tolerance $rtol$.\n",
    "2. Choose an initial guess $x_{0}$ and let $n=0$.\n",
    "3. Estimate a new candidate by $x_{n+1} = x_n - \\displaystyle\\frac{f(x_n)}{f'(x)}$.\n",
    "4. If $|f(x_{n+1})| < rtol$, then $x_{n+1}$ is the root.  Stop the iteration.\n",
    "5. If not, increment $n$ and repeat from step 3.\n",
    "\n",
    "```"
   ]
  },
  {
   "cell_type": "markdown",
   "id": "c39716e8-f411-45ab-a1bc-522cd412d0aa",
   "metadata": {},
   "source": [
    "**Example**  We solve $x^3 - 9 x^2 +23 x - 15=0$. again but with the Newton-Raphson method this time."
   ]
  },
  {
   "cell_type": "code",
   "execution_count": 1,
   "id": "15573b3e-4fba-410c-bfbd-a847ff5ab51a",
   "metadata": {},
   "outputs": [
    {
     "name": "stdout",
     "output_type": "stream",
     "text": [
      "root= 1.0000000e+00, f(x)= -3.55271368e-15, iteration=   9\n"
     ]
    }
   ],
   "source": [
    "import numpy as np\n",
    "\n",
    "def func(x):\n",
    "    return [x**3-9*x**2+23*x-15, 3*x**2 - 18*x + 23]\n",
    "\n",
    "# set tolerance\n",
    "rtol = 1.e-8\n",
    "\n",
    "# set the initial candiate\n",
    "x = 4.1\n",
    "\n",
    "# set the maximum itertation\n",
    "nmax = 100\n",
    "\n",
    "\n",
    "# Newton-Raphson method\n",
    "n = 0\n",
    "[fx,dfx] = func(x)\n",
    "\n",
    "while abs(fx) > rtol and n < nmax:\n",
    "    x = x - fx/dfx\n",
    "    [fx,dfx] = func(x)\n",
    "    n+=1\n",
    "\n",
    "print(\"root= {0:10.7e}, f(x)= {1:15.8e}, iteration= {2:3d}\".format(x, fx, n))"
   ]
  },
  {
   "cell_type": "markdown",
   "id": "4454c3e1-3a31-4778-b857-dd86372d58fa",
   "metadata": {},
   "source": [
    "In this example, the Newtoin-Raphson itertation started from $x=4.1$.  The nearest root to the starting point is $5$ and the second nearest $3$.  However, it found the root at $x=1$.  The following plot shows that the tangent line (red line) at the initial point crosses the $x$ axis around $x=-4$.  Then, the nearest root to it is $1$.  As you can see that the root found by the Newton-Raphson method is not necessarily the nearest to the initial point. If we want to get a p[articular root, we use the bisection method for first several iteration and switch to the Newton-Raphson method. "
   ]
  },
  {
   "cell_type": "code",
   "execution_count": 2,
   "id": "ea4f2638-1679-4dec-bad4-1f1dc2e5417a",
   "metadata": {},
   "outputs": [
    {
     "data": {
      "text/plain": [
       "<matplotlib.lines.AxLine at 0x7f4a9dc50b30>"
      ]
     },
     "execution_count": 2,
     "metadata": {},
     "output_type": "execute_result"
    },
    {
     "data": {
      "image/png": "[encoded data removed]",
      "text/plain": [
       "<Figure size 400x300 with 1 Axes>"
      ]
     },
     "metadata": {},
     "output_type": "display_data"
    }
   ],
   "source": [
    "import numpy as np\n",
    "import matplotlib.pyplot as plt\n",
    "\n",
    "def f(x):\n",
    "    return x**3-9*x**2+23*x-15\n",
    "\n",
    "def df(x):\n",
    "    return 3*x**2 - 18*x + 23\n",
    "    \n",
    "x=np.linspace(-4,6,201)\n",
    "y=f(x)\n",
    "\n",
    "plt.figure(figsize=(4,3))\n",
    "plt.plot(x,y)\n",
    "plt.plot([1,3,5],[0,0,0],'*k')\n",
    "plt.ylim(-5,5)\n",
    "plt.xlabel(r\"$x$\")\n",
    "plt.ylabel(r\"$f(x)$\")\n",
    "\n",
    "plt.axhline(y = 0, color = '0.8', linestyle = '--')\n",
    "\n",
    "x0=4.1\n",
    "fx=f(x0)\n",
    "dfx=df(x0)\n",
    "\n",
    "plt.axline((x0, fx), slope=dfx, color=\"red\", linestyle='-')"
   ]
  },
  {
   "cell_type": "markdown",
   "id": "55c5e121-6ea6-419c-a176-56105207db22",
   "metadata": {},
   "source": [
    "## Secant Method\n",
    "\n",
    "The Newton-Raphson method requires the analytic expression of the first order derivative, which limits the range of applications. However, the same idea can be used without the analytic expression.  If we replace the analytic derivative with the numerical derivative (see Chapter {numref}`chap_derivative` ), the Newton-Raphson procedure still works.  Using the backward finite difference method, the recursive equation {eq}`eq-newton-raphson` becomes\n",
    "\n",
    "$$\n",
    "x_{n+1} = x_n - \\frac{x_{n}-x_{n-1}}{f(x_n)-f(x_{n-1})} f(x_n)\n",
    "$$\n",
    "\n",
    "This method is commonly known as the secant method. Use the bisection method before starting the secant method to ensure the convergence.\n",
    "\n",
    "One problem is that this method needs two points to start the iteration. However, this is not a big issue since we can pick any point close to the initial guess. If the root is already bracketed between $a$ and $b$, use $x_1 = x_0 + \\Delta$ with $\\Delta \\ll b-a$. If the secant method is preceded by the bisection method, use the final bracket from the bisection calculation.  Then, $\\Delta = (b-a)/10$ is good enough."
   ]
  },
  {
   "cell_type": "markdown",
   "id": "243ba5c1-c85a-45e4-beca-381cc959016a",
   "metadata": {},
   "source": [
    "```{admonition} Algorithm: Secant\n",
    "1. Set a tolerance $xtol$ or $ftol$. \n",
    "2. Choose two initial points $x_0$ and $x_1 = x_0 + \\delta$.\n",
    "3. Reset thne counter $n=1$\n",
    "4. Estimate a new candidate by $x_{n+1} = x_n - \\displaystyle\\frac{x_n-x_{n-1}}{f(x_n)-f(x_{n-1})} f(x_n)$.\n",
    "5. If $|x_{n+1}-x_n| < xtol$ and/or $f(x_{n+1}) < ftol$, then $x_{n+1}$ is the root.  Stop the iteration.\n",
    "6. Otherwise, increment $n$ and go to step 4.\n",
    "```"
   ]
  },
  {
   "cell_type": "markdown",
   "id": "0d8b1fe9-7eb9-409c-b2e4-fe652faa60da",
   "metadata": {},
   "source": [
    "**Example**  We solve $x^3 - 9 x^2 +23 x - 15=0$ one more time but with the secant method this time."
   ]
  },
  {
   "cell_type": "code",
   "execution_count": 3,
   "id": "4d63891b-cec3-485c-889d-f3e82b0ba751",
   "metadata": {},
   "outputs": [
    {
     "name": "stdout",
     "output_type": "stream",
     "text": [
      "root= 5.0000000e+00, f(x)= -1.61861635e-11, iteration=   8\n"
     ]
    }
   ],
   "source": [
    "import numpy as np\n",
    "\n",
    "def f(x):\n",
    "    return x**3-9*x**2+23*x-15\n",
    "\n",
    "# set tolerance\n",
    "ftol = 1.e-8\n",
    "\n",
    "# set the initial candidate\n",
    "x1 = 4.0\n",
    "x2 = 4.1\n",
    "\n",
    "# set the maximum iteration\n",
    "nmax = 100\n",
    "\n",
    "f1 = f(x1)\n",
    "f2 = f(x2)\n",
    "\n",
    "n = 0\n",
    "while abs(f2)> ftol and n<nmax:\n",
    "    x = x2 - (x2-x1)/(f2-f1)*f2\n",
    "    x1 = x2\n",
    "    f1 = f2\n",
    "    x2 = x\n",
    "    f2 = f(x)\n",
    "    n+=1\n",
    "\n",
    "print(\"root= {0:10.7e}, f(x)= {1:15.8e}, iteration= {2:3d}\".format(x2, f2, n))"
   ]
  },
  {
   "cell_type": "markdown",
   "id": "198ad207-b3b5-4e36-86d4-739eeb8c2f5d",
   "metadata": {},
   "source": [
    "Notice that the secant method found a root nearest to the pair of the initial points."
   ]
  },
  {
   "cell_type": "markdown",
   "id": "59b65d3f-a623-4355-983c-b96df768551f",
   "metadata": {},
   "source": [
    "## Advanced Methods\n",
    "\n",
    "The secant method has various weakness, namely it is not guaranteed to converge.  For example, if it happens that $f(x_n) = 0$ or very close to 0, the iteration cannot continue.  To overcome this difficulty, a hybrid method combining the bisection method and the secant method, which called the [Brent method](https://en.wikipedia.org/wiki/Brent%27s_method), or Brent-Dekker method.  We do not discuss the method in this lecture.  In the following section, a canned routine of Brent method is shown."
   ]
  },
  {
   "cell_type": "markdown",
   "id": "d62f7623-160a-4bed-91d2-2cde9706783a",
   "metadata": {},
   "source": [
    "## Canned routines\n",
    "\n",
    "Now we know the pros and cons of the Newton-Raphson method.  So, we use canned routines carefully. `scipy.optimize` provides `newton`.  See the [usage](https://docs.scipy.org/doc/scipy/reference/generated/scipy.optimize.newton.html)."
   ]
  },
  {
   "cell_type": "markdown",
   "id": "549f29ae-4707-4b77-9986-dc9027a6eeec",
   "metadata": {},
   "source": [
    "**Example** Solve the same problem with `scipy.op[timize.newton`."
   ]
  },
  {
   "cell_type": "code",
   "execution_count": 4,
   "id": "5b6d4b8f-832f-4ea8-b544-fe4274708aff",
   "metadata": {},
   "outputs": [
    {
     "data": {
      "text/plain": [
       "np.float64(0.9999999999999993)"
      ]
     },
     "execution_count": 4,
     "metadata": {},
     "output_type": "execute_result"
    }
   ],
   "source": [
    "# Solves x**3-9*x**2+23*x-15=0 by the Newton-Raphson method\n",
    "\n",
    "import numpy as np\n",
    "from scipy.optimize import newton\n",
    "\n",
    "def f(x):\n",
    "    return x**3-9*x**2+23*x-15\n",
    "\n",
    "def df(x):\n",
    "    return 3*x**2 - 18*x + 23\n",
    "\n",
    "x0 = 4.1\n",
    "xtol=1e-6\n",
    "\n",
    "# derivative is specified with 'fprime=' option\n",
    "newton(f, x0, fprime=df,tol=xtol)"
   ]
  },
  {
   "cell_type": "markdown",
   "id": "c834e047-9d69-4293-aaaf-8902be9f7313",
   "metadata": {},
   "source": [
    "You don't see the secant method in `scipy.optimize`.  Actually, there is but hidden in `newton`.  If the option `fprime=` is not specified, it automatically uses the secant method.  It does not require the second initial position.  The routine will generate the second point automatically."
   ]
  },
  {
   "cell_type": "code",
   "execution_count": 5,
   "id": "8782583a-b6bb-4a31-b589-e0a349ca7e92",
   "metadata": {},
   "outputs": [
    {
     "data": {
      "text/plain": [
       "np.float64(5.000000000001222)"
      ]
     },
     "execution_count": 5,
     "metadata": {},
     "output_type": "execute_result"
    }
   ],
   "source": [
    "# Solves x**3-9*x**2+23*x-15=0 by the secant method\n",
    "\n",
    "import numpy as np\n",
    "from scipy.optimize import newton\n",
    "\n",
    "def f(x):\n",
    "    return x**3-9*x**2+23*x-15\n",
    "\n",
    "x0 = 4.1\n",
    "xtol=1e-6\n",
    "\n",
    "# if 'fprime=' option is not used,\n",
    "# 'newton' uses the secant method.\n",
    "newton(f, x0,tol=xtol)"
   ]
  },
  {
   "cell_type": "markdown",
   "id": "01a19506-ef20-4be5-b274-88e48884c716",
   "metadata": {},
   "source": [
    "Notice again that a different root from the Newtow-Raphson is obtained,  which is the nearest to the initial position."
   ]
  },
  {
   "cell_type": "markdown",
   "id": "8cdea223-90d6-4a42-936f-cd81bd05fbe6",
   "metadata": {},
   "source": [
    "The Brent method is also provided by `scipy.optimize.brentq`."
   ]
  },
  {
   "cell_type": "code",
   "execution_count": 6,
   "id": "6b570d7e-8daf-4820-9ffb-0efb1d6f665d",
   "metadata": {},
   "outputs": [
    {
     "data": {
      "text/plain": [
       "2.999999999999995"
      ]
     },
     "execution_count": 6,
     "metadata": {},
     "output_type": "execute_result"
    }
   ],
   "source": [
    "# Solves x**3-9*x**2+23*x-15=0 by the Brent method\n",
    "\n",
    "import numpy as np\n",
    "from scipy.optimize import brentq\n",
    "\n",
    "def f(x):\n",
    "    return x**3-9*x**2+23*x-15\n",
    "    \n",
    "# The initial braket is taken from the previouse section.\n",
    "x1=2.50656e+00\n",
    "x2=3.16192e+00\n",
    "\n",
    "brentq(f,x1,x2)"
   ]
  },
  {
   "cell_type": "markdown",
   "id": "2f2ccc52-0605-4aef-97c2-11432d6ba62e",
   "metadata": {},
   "source": [
    "\n",
    "___\n",
    "\n",
    "Last modified on 3/13/2024 by R. Kawai"
   ]
  },
  {
   "cell_type": "code",
   "execution_count": null,
   "id": "59f3e91a-5658-4c7b-b2a0-751512a2aa8a",
   "metadata": {},
   "outputs": [],
   "source": []
  }
 ],
 "metadata": {
  "kernelspec": {
   "display_name": "book",
   "language": "python",
   "name": "book"
  },
  "language_info": {
   "codemirror_mode": {
    "name": "ipython",
    "version": 3
   },
   "file_extension": ".py",
   "mimetype": "text/x-python",
   "name": "python",
   "nbconvert_exporter": "python",
   "pygments_lexer": "ipython3",
   "version": "3.12.11"
  }
 },
 "nbformat": 4,
 "nbformat_minor": 5
}
