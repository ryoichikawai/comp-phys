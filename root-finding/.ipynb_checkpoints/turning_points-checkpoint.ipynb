{
 "cells": [
  {
   "cell_type": "markdown",
   "id": "def1754e-4b51-48fc-915b-3062b3fb6f7c",
   "metadata": {},
   "source": [
    "(app:turning-points)=\n",
    "# Classical Turning Points"
   ]
  },
  {
   "cell_type": "markdown",
   "id": "d99059d8-708d-4688-bc6c-da88bf5660f9",
   "metadata": {},
   "source": [
    "When a classical particle with energy $E$ is confined in a potential $U(x)$. (See {numref}`fig:turning-points`.)  The particle oscillates between turning points $x_1$ and $x_2$.  The period of oscillation{cite}`Taylor2004` is given by\n",
    "\n",
    "$$\n",
    "T=2 \\int_{x_1}^{x_2} \\frac{1}{v(x)}\\, dx\n",
    "$$(eq:oscillation-period1)\n",
    "\n",
    "where the speed of the particle at $x$ is given by\n",
    "\n",
    "$$\n",
    "v(x) = \\sqrt{\\frac{2(E-U(x))}{m}}\n",
    "$$(eq:bound-state-speed1}\n",
    "\n",
    "The integral bounds are determined by solving $v(x)=0$, which leads to $E-U(x)=0$.  Unless the potential takes a simple mathematical form, we need to find the turning point numerically."
   ]
  },
  {
   "cell_type": "markdown",
   "id": "e8a9d435-b780-4dac-aa31-6232549796f6",
   "metadata": {},
   "source": [
    "```{figure} turning_points.png\n",
    "---\n",
    "height: 300px\n",
    "name: fig:turning-points\n",
    "---\n",
    "Energy diagram of a claasical particle confined in a potential $U(x)$.\n",
    "```"
   ]
  },
  {
   "cell_type": "markdown",
   "id": "7bf3e670-877f-40ed-ac92-84bfd2280202",
   "metadata": {},
   "source": [
    "Let us investigate the vibration of a diatomic molecule. The inter-atomic interaction is often modeled either by the Morse potential or by the Lenard-Jones potential.\n",
    "The Morse potential defined by\n",
    "$$\n",
    "U_M(r) = D_e\\left[e^{- 2 a r} - 2 e^{-a r}\\right]\n",
    "$$\n",
    "\n",
    "where $r$ is the inter-atomic distance and $r_c$ is the equilibrium distance.  $D_e>0$ is the dissociation energy.  When the kinetic energy $E$ exceeds it, the molecule breaks up.  When $E<D_e$, the molecule vibrates.  The positive constant $a$ along with $D_e$ controls the strength of the force between the atoms.  The first term represents repulsion between the atoms and the second term attraction. This potential is often used to describe the vibration of covalently bounded molecules. For numerical purpose,  energy and potential are normalized as $k = E/D_e$ and $u = U/D_e$.  The distance is normalized as $x=a r$.  Then, the potential energy becomes\n",
    "\n",
    "$$\n",
    "u_M(x) =e^{- 2 x} - 2 e^{-x}\n",
    "$$\n",
    "\n",
    "The Lenard-Jones potential is given by\n",
    "\n",
    "$$\n",
    "U_{LJ} = 4 D_e \\left[ \\left(\\frac{\\sigma}{r}\\right)^{12} - \\left(\\frac{\\sigma}{r}\\right)^{6}\\right]\n",
    "$$\n",
    "\n",
    "where $\\sigma$ is a positive constant. Similarly to the Morse potential, the first term comes from the repulsive force and the second term from the attractive force. The latter represents the van der Waals attraction thus this potential works for weakly bounded diatomic molecules.\n",
    "\n",
    "Normalizing the distance as $x=\\displaystyle\\frac{\\sigma}{r}$, we have a simple expression\n",
    "\n",
    "$$\n",
    "u_{LJ} = 4 \\left(\\frac{1}{x^{12}} - \\frac{1}{x^6}\\right)\n",
    "$$\n",
    "\n",
    "These potentials are mathematically simple enough that the location of the potential minimum $x_\\text{min}$,  and also the turning points $x_1$ and $x_2$ can be obtained by hand calculation.  \n",
    "\n",
    "$$\n",
    "\\begin{align}\n",
    "x_\\text{min} &= 0, \\quad &x_1 &= - \\ln (1+\\sqrt{k}), \\quad & x_2 &= -\\ln (1-\\sqrt{k})\\qquad &\\text{Morse potential}& \\\\\n",
    "x_\\text{min} &= 2^{1/6}, \\quad &x_1 & = x_\\text{min} (1-\\sqrt{k}), \\quad &x_2 &=  x_\\text{min} (1+\\sqrt{k})\\qquad &\\text{Lennard-Jones potential}&\n",
    "\\end{align}\n",
    "$$\n",
    "\n",
    "where the turning points are the roots of $u(x) = k-1$ where $0<k<1$ is the (normalized) kinetic energy.  \n",
    "\n",
    "While these potentials are mathematically convenient, they do not accurately represent the real molecular interaction. An old idea to improve the accuracy for a certain molecules, a hybrid mode, which takes the repulsive part from the Morse potential and the attractive part from the Lenard-Jones potential, was proposed.  The resulting expression becomes a bit complicated as follows {cite}`Konowalow1969`:\n",
    "\n",
    "$$\n",
    "U_\\text{hybrid} (r) = D_e \\frac{a}{a-6} \\left[\\frac{6}{a} e^{a(1-r/\\sigma)} - \\left(\\frac{\\sigma}{r}\\right)^6\\right]\n",
    "$$\n",
    "\n",
    "which is sometimes called the (exp-6) potential.\n",
    "It has two parameters $a$ and $\\sigma$ inherited from the two original potentials.  However, $a$ is dimensionless now and thus we cannot get rid of it by normalization.  Introducing the normalized distance $x=r/\\sigma$ and normalized energy $u = U/D_e$, the potential is simplified as\n",
    "\n",
    "$$\n",
    "u_\\text{hybrid}(x) = \\frac{a}{a-6} \\left(\\frac{6}{a} e^{a(1-x)} - 1/x^6\\right)\n",
    "$$\n",
    "\n",
    "which has the potential minimum at $x=1$ and the depth of the potential $u(1)=-1$. As $x \\rightarrow \\infty$, the potential vanishes and thus the dissociation energy is 1.  Hence, it has all desired properties.  An drawback is that while we can find the location of the potential minimum without a computer, we are no longer able to calculate the turning points by hand. We need to get them numerically."
   ]
  },
  {
   "cell_type": "markdown",
   "id": "20436c80-2a2e-40ab-a6b3-9aae77714cef",
   "metadata": {},
   "source": [
    "## Turning points of the Morse Potential\n",
    "\n",
    "In order to boost our confidence on the canned routine, we compute the turning points for the Morse potential using `scipy.optimize.bisect` and `scipy.optimize.newton`.  Then, we compare the results with the exact answer.  First we plot the potential and find the brackets by visual inspection."
   ]
  },
  {
   "cell_type": "code",
   "execution_count": null,
   "id": "15d9ece3-666a-405e-8139-0277fb632e86",
   "metadata": {},
   "outputs": [],
   "source": [
    "import numpy as np\n",
    "\n",
    "def v(x):\n",
    "    return np.exp(-2.*x) - 2.*np.exp(-x)\n",
    "\n",
    "import matplotlib.pyplot as plt\n",
    "\n",
    "x = np.linspace(-1,5,201)\n",
    "y = v(x)\n",
    "\n",
    "plt.figure(figsize=(4,3))\n",
    "plt.plot(x,y)\n",
    "plt.axhline(y = 0, color = '0.8', linestyle = '--')\n",
    "plt.axhline(y = -0.5, color = 'r', linestyle = '--')\n",
    "plt.show()"
   ]
  },
  {
   "cell_type": "markdown",
   "id": "2f6bbcf9-436b-4692-8348-4ecdc5953963",
   "metadata": {},
   "source": [
    "From the plot, it is clear that one turning point must be between $-1$ and $0$.  The other turning point can be anywhere between $0$ and $2$.  Let us find the turning points for the kinetic energy $k=1/2$ (the red line in the above plot). we can safely say that the upper turning point is between 1 and 3.  So, we don't have to use a bracketing program.  We use the bisection and secant methods and compare the results."
   ]
  },
  {
   "cell_type": "code",
   "execution_count": null,
   "id": "611ebe43-a62e-49da-808a-0fc1dcb8efcf",
   "metadata": {},
   "outputs": [],
   "source": [
    "# continued from the previous code cell\n",
    "\n",
    "from scipy.optimize import bisect, newton\n",
    "\n",
    "def f(x):\n",
    "    return v(x)-k+1\n",
    "\n",
    "# set the kinetic energy\n",
    "k=0.5\n",
    "\n",
    "# inner turning point\n",
    "x1_bisect = bisect(f,-1,0)\n",
    "x1_secant = newton(f,-1)\n",
    "x1_exact = -np.log(1+np.sqrt(k))\n",
    "\n",
    "# outer turning point\n",
    "x2_bisect = bisect(f,0,4.0)\n",
    "x2_secant = newton(f,2)\n",
    "x2_exact = -np.log(1-np.sqrt(k))\n",
    "\n",
    "print(\"bisection: x1={0:15.10f},  x2={1:15.10f}\".format(x1_bisect,x2_bisect))\n",
    "print(\"   secant: x1={0:15.10f},  x2={1:15.10f}\".format(x1_secant,x2_secant))\n",
    "print(\"    exact: x1={0:15.10f},  x2={1:15.10f}\".format(x1_exact,x2_exact))"
   ]
  },
  {
   "cell_type": "markdown",
   "id": "c79eec11-5463-4271-8cca-8cbc91b49639",
   "metadata": {},
   "source": [
    "All three agree perfectly.  Now, we are confertable to use `bisect` and `newton` in `scipy`."
   ]
  },
  {
   "cell_type": "markdown",
   "id": "2478d04f-a8f5-4763-890c-108552ce7c4a",
   "metadata": {},
   "source": [
    "> **Exercise:**  Find the turning points of the Lenard-Jones potential for $k=0.5$ and compare the results with the exact values."
   ]
  },
  {
   "cell_type": "markdown",
   "id": "a00e25b2-c528-4169-b8d0-2f58d1ffdd17",
   "metadata": {},
   "source": [
    "## Turning points of the (exp-6) hybrid potential\n",
    "\n",
    "The hybrid potential has one parameter to be specified.  We try $a=2$.  Let plot the potential first."
   ]
  },
  {
   "cell_type": "code",
   "execution_count": null,
   "id": "af1e84ec-f784-455a-b3c8-4c69b7a012ad",
   "metadata": {},
   "outputs": [],
   "source": [
    "import numpy as np\n",
    "\n",
    "def v(x):\n",
    "    return a/(a-6)*( (6/a) *np.exp(a*(1-x))-1/x**6)\n",
    "\n",
    "import matplotlib.pyplot as plt\n",
    "\n",
    "a=2.0\n",
    "x = np.linspace(0,3,201)+0.75\n",
    "y = v(x)\n",
    "\n",
    "plt.figure(figsize=(4,3))\n",
    "plt.plot(x,y)\n",
    "plt.axhline(y = 0, color = '0.8', linestyle = '--')\n",
    "plt.axhline(y = -0.5, color = 'r', linestyle = '--')\n",
    "plt.show()"
   ]
  },
  {
   "cell_type": "markdown",
   "id": "77d408f3-d56c-4874-a7ce-61ed02ddfb80",
   "metadata": {},
   "source": [
    "Clearly $x_1$ is above 0.5 and below 1, and $x_2$ between 1.0 and 2.0."
   ]
  },
  {
   "cell_type": "code",
   "execution_count": null,
   "id": "2dc9b9ff-038a-4bae-b978-483fd28df86f",
   "metadata": {},
   "outputs": [],
   "source": [
    "# continued from the previous code cell\n",
    "\n",
    "from scipy.optimize import bisect, newton\n",
    "\n",
    "def f(x):\n",
    "    return v(x)-k+1\n",
    "\n",
    "# set the kinetic energy\n",
    "k=0.5\n",
    "\n",
    "# inner turning point\n",
    "x1_bisect = bisect(f,0.5,1)\n",
    "x1_secant = newton(f,0.5)\n",
    "\n",
    "# outer turning point\n",
    "x2_bisect = bisect(f,1,2)\n",
    "x2_secant = newton(f,2)\n",
    "\n",
    "print(\"bisection: x1={0:15.10f},  x2={1:15.10f}\".format(x1_bisect,x2_bisect))\n",
    "print(\"   secant: x1={0:15.10f},  x2={1:15.10f}\".format(x1_secant,x2_secant))\n"
   ]
  },
  {
   "cell_type": "markdown",
   "id": "a402ef53-6c4e-4aeb-acaf-6c4fba7bdb9c",
   "metadata": {},
   "source": [
    "Visually, these answers are consistent with the crossing points of the red dashed line and the blue curve in the plot."
   ]
  },
  {
   "cell_type": "markdown",
   "id": "c86d81b0-fd14-4e0b-ba21-98b759f835c7",
   "metadata": {},
   "source": [
    "In Chapter {numref}`app:oscillation-period`, we evaluate the period of the oscillation by integrating Eq. {eq}`eq:oscillation-period1` where we use the above results."
   ]
  },
  {
   "cell_type": "markdown",
   "id": "4ff9681c-bb38-4b51-927b-17f53c4b7088",
   "metadata": {},
   "source": [
    "\n",
    "___\n",
    "\n",
    "Last modified on 3/14/2024 by R. Kawai"
   ]
  },
  {
   "cell_type": "code",
   "execution_count": null,
   "id": "1b9f4cf4-50e7-40e3-a0a0-a5c07d1714be",
   "metadata": {},
   "outputs": [],
   "source": []
  }
 ],
 "metadata": {
  "kernelspec": {
   "display_name": "book",
   "language": "python",
   "name": "book"
  },
  "language_info": {
   "codemirror_mode": {
    "name": "ipython",
    "version": 3
   },
   "file_extension": ".py",
   "mimetype": "text/x-python",
   "name": "python",
   "nbconvert_exporter": "python",
   "pygments_lexer": "ipython3",
   "version": "3.12.11"
  }
 },
 "nbformat": 4,
 "nbformat_minor": 5
}
