{
 "cells": [
  {
   "cell_type": "markdown",
   "id": "2dbf9dee-b20d-4380-9f94-2e4d87587ca4",
   "metadata": {},
   "source": [
    "(sec_root_iterative_methods)=\n",
    "# Iterative Methods\n"
   ]
  },
  {
   "cell_type": "markdown",
   "id": "f64205cc-2bf8-4695-902e-675fb5c447dc",
   "metadata": {},
   "source": [
    "In this section, we solve $f(x)=0$ for $x$ where $f(x)$ is a continuous function.  There may be multiple roots.  Any root finding method needs a rough idea of the location of root you are looking for.  The first step is to _bracket_ the target root $x^*$ between $x_L$ and $x_U$ such that $x_L < x^* < x_U$.  It is important that there is only one root between $x_L$ and $x_U$.  It turns out that this is not an trivial task for computer. On the other hand, human eyes can find the bracket easily by plotting the function.  Therefore, the best practice is to plot the function and bracket the target root by visual inspection.  However, in some cases it is desirable to have a robust numerical method to find the bracket. For example,  when root finding is required many times during long computer simulation, you can't stop the simulation to visually inspect the bracket.   There are simple algorithms of finding the bracket\\cite{numerical_recipes} but unfortunately no method guarantees the outcome.   In this chapter, we assume that the bracket is done by direct visual inspection.\n",
    "\n",
    "Any iterative method needs a criteria to stop the iteration. Ultimately, we stop it when the error is smaller than the tolerance.  However, in practice we never know the exact error.  If we knew it, we have the exact root! Therefore, we must carefully choose an ending criteria.\n"
   ]
  },
  {
   "cell_type": "markdown",
   "id": "32768a7b-e8b4-427e-a71b-d7a29f140437",
   "metadata": {},
   "source": [
    "## Bracketing a root\n",
    "\n",
    "Pick two different points, $x_1$ and $x_2$.  If $f(x_1) f(x_2) < 0$, there must be at least one root between $x$1 and $x_2$.  It does not say that there is only one.  There may be any odd number of roots.  On the other hand, if $f(x_1) f(x_2) > 0$, then either no root or even number of roots between $x_1$ and $x_2$.  If $x_1 - x_2$ is small enough, we hope that there is only one root for the former case and no root in the latter case. But this is just a home and no guarantee.  Let use choose thet two point not far from each other such that $x_2 > x_1$ and $f(x_1) f(x_2) > 0$.  Assuming there is not root between the two points, we gradually reduce $x_1$ or increase $x_2$ until $f(x_1) f(x_2)$ change the sign.  At the end, $x_1$ and $x_2$ are the bracket."
   ]
  },
  {
   "cell_type": "markdown",
   "id": "b3a9345c-5189-49de-ba76-3718f2fc5bb1",
   "metadata": {},
   "source": [
    "**Example**  Bracket all positive roots of $x^3 - 9 x^2 +23 x - 15$."
   ]
  },
  {
   "cell_type": "code",
   "execution_count": 1,
   "id": "38caf515-2817-4c9b-905e-e78a5292017e",
   "metadata": {},
   "outputs": [
    {
     "name": "stdout",
     "output_type": "stream",
     "text": [
      "found a bracket. [0.00000e+00, 1.75760e+00]\n",
      "found a bracket. [1.75760e+00, 3.51520e+00]\n",
      "found a bracket. [3.51520e+00, 5.27280e+00]\n",
      "reached xmax\n"
     ]
    }
   ],
   "source": [
    "import numpy as np\n",
    "\n",
    "\n",
    "def f(x):\n",
    "    return x**3-9*x**2+23*x-15\n",
    "\n",
    "# search root between xmax and 0\n",
    "xmax=10.0\n",
    "\n",
    "# initial step size\n",
    "dx = 0.1\n",
    "\n",
    "# create empty array\n",
    "xL=[]\n",
    "xU=[]\n",
    "    \n",
    "# initial two points\n",
    "x1 = 0.0\n",
    "x2 = x1+dx\n",
    "f1 = f(x1)\n",
    "\n",
    "while x2< xmax:\n",
    "\n",
    "    f2 = f(x2)\n",
    "    \n",
    "    if f1*f2>0:\n",
    "        # no root yet\n",
    "        # expand the upper bound\n",
    "        x2 = x2+ 1.6 *(x2-x1)\n",
    "        f2 = f(x2)\n",
    "    else:\n",
    "        # found a bracket\n",
    "        xL.append(x1)\n",
    "        xU.append(x2)\n",
    "        print(\"found a bracket. [{0:8.5e}, {1:8.5e}]\".format(x1,x2))\n",
    "\n",
    "        # reset the two points for next bracket\n",
    "        x1 = x2\n",
    "        f1 = f(x1)\n",
    "        x2 = x1+dx\n",
    "        f2 = f(x2)\n",
    "\n",
    "print(\"reached xmax\")"
   ]
  },
  {
   "cell_type": "markdown",
   "id": "4a16c1e2-eddd-4302-b8df-30556d395753",
   "metadata": {},
   "source": [
    "Noting that $x^3 - 9 x^2 +23 x - 15 = (x-1)(x-3)(x-5)$,  there are three positive roots.  The above code successfully fond the three brackets.  You can also find the brackets easily by plotting the function.  In the following plotting, the black dots are the roots and the vertical red lines bracket the roots."
   ]
  },
  {
   "cell_type": "code",
   "execution_count": 2,
   "id": "e9bb3444-bce2-4e9b-83e5-7a254f1f61bb",
   "metadata": {},
   "outputs": [
    {
     "data": {
      "image/png": "[encoded data removed]",
      "text/plain": [
       "<Figure size 400x300 with 1 Axes>"
      ]
     },
     "metadata": {},
     "output_type": "display_data"
    }
   ],
   "source": [
    "# continued from the previous code cell\n",
    "\n",
    "import matplotlib.pyplot as plt\n",
    "\n",
    "x=np.linspace(0,7,201)\n",
    "y=f(x)\n",
    "\n",
    "plt.figure(figsize=(4,3))\n",
    "plt.plot(x,y)\n",
    "plt.plot([1,3,5],[0,0,0],'*k')\n",
    "plt.xlabel(r\"$x$\")\n",
    "plt.ylabel(r\"$f(x)$\")\n",
    "plt.axhline(y = 0, color = '0.8', linestyle = '--')\n",
    "plt.axvline(x = xL[0], color='r', linestyle = '-')\n",
    "for k in range(3):\n",
    "    plt.axvline(x = xU[k], color='r', linestyle = '-')"
   ]
  },
  {
   "cell_type": "markdown",
   "id": "d96a9ca3-d1c2-460c-8e71-e8032169170f",
   "metadata": {},
   "source": [
    "## Bisection Method"
   ]
  },
  {
   "cell_type": "markdown",
   "id": "894473e0-ab74-4207-8f4c-1d373e6efc57",
   "metadata": {},
   "source": [
    "```{admonition} Algorithm: Bisection Method\n",
    "\n",
    "1. Get a initial bracket $x_L$ and $x_U$ and a tolerance $\\epsilon$.\n",
    "2. Make it sure that $f(x_L) f(x_U) <0$.  Otherwise, stop and check the initial bracket.\n",
    "3. Evaluate the function at the mid point $x_M = \\frac{1}{2}(x_L+x_U)$.\n",
    "4. If $x_U - x_L< \\epsilon$, $x_M$ is the root and stop here.  Otherwise continue.\n",
    "5. If $f(x_L) f(x_M) < 0$, then the root is between $x_L$ and $x_M$.  Let $x_U=x_M$ and go to step 3.  Otherwise continue.\n",
    "6. The root must be between $x_M$ and $x_U$.  Let $x_L=x_M$ and go to Step 3.\n",
    "\n",
    "```"
   ]
  },
  {
   "cell_type": "code",
   "execution_count": 5,
   "id": "44edc118-d9f8-4297-96b6-6b6c63da91a1",
   "metadata": {},
   "outputs": [
    {
     "name": "stdout",
     "output_type": "stream",
     "text": [
      "Answer = 3.00000, (iteration =  18)\n"
     ]
    }
   ],
   "source": [
    "# continued from the previous code cell\n",
    "# a bracket obtained in the previous code cell is used here\n",
    "\n",
    "# set a tolerance\n",
    "tol=1.e-5\n",
    "   \n",
    "# initial bracket\n",
    "x1=xL[1]\n",
    "x2=xU[1]\n",
    "f1 = f(x1)\n",
    "f2 = f(x2)\n",
    "\n",
    "# iteration counter\n",
    "n=0\n",
    "\n",
    "# mid point\n",
    "xm = (x1+x2)/2.0\n",
    "fm = f(xm)\n",
    "\n",
    "while x2-x1 > tol:\n",
    "    if f1*fm < 0:  # root in the lower half\n",
    "        x2=xm\n",
    "        f2=fm\n",
    "    else:          # root in the upper half\n",
    "        x1=xm\n",
    "        f1=fm\n",
    "\n",
    "    xm = (x1+x2)/2.0      # new mid point\n",
    "    fm = f(xm)\n",
    "    n+=1\n",
    "\n",
    "print(\"Answer = {0:7.5f}, (iteration = {1:3d})\".format(xm,n))"
   ]
  },
  {
   "cell_type": "code",
   "execution_count": null,
   "id": "076182ae-f247-4d07-95fd-40fc1b827fc0",
   "metadata": {},
   "outputs": [],
   "source": []
  }
 ],
 "metadata": {
  "kernelspec": {
   "display_name": "jbook",
   "language": "python",
   "name": "jbook"
  },
  "language_info": {
   "codemirror_mode": {
    "name": "ipython",
    "version": 3
   },
   "file_extension": ".py",
   "mimetype": "text/x-python",
   "name": "python",
   "nbconvert_exporter": "python",
   "pygments_lexer": "ipython3",
   "version": "3.10.0"
  }
 },
 "nbformat": 4,
 "nbformat_minor": 5
}
