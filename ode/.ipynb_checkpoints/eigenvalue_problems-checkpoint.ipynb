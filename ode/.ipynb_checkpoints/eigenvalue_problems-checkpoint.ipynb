{
 "cells": [
  {
   "cell_type": "markdown",
   "id": "c4183dd2-64a5-43f5-a966-45888627c786",
   "metadata": {},
   "source": [
    "(sec:ode-eigenvalue-problems)=\n",
    "# Eigenvalue Problems"
   ]
  },
  {
   "cell_type": "code",
   "execution_count": null,
   "id": "c1b8e9b0-c3cb-4335-b797-d9cff852767e",
   "metadata": {},
   "outputs": [],
   "source": []
  }
 ],
 "metadata": {
  "kernelspec": {
   "display_name": "book",
   "language": "python",
   "name": "book"
  },
  "language_info": {
   "codemirror_mode": {
    "name": "ipython",
    "version": 3
   },
   "file_extension": ".py",
   "mimetype": "text/x-python",
   "name": "python",
   "nbconvert_exporter": "python",
   "pygments_lexer": "ipython3",
   "version": "3.12.11"
  }
 },
 "nbformat": 4,
 "nbformat_minor": 5
}
