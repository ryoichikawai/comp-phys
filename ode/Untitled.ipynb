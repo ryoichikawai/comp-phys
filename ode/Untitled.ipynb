{
 "cells": [
  {
   "cell_type": "markdown",
   "id": "e30ab031-2b44-4cb8-a7c3-e283846fa7fb",
   "metadata": {},
   "source": [
    "# Discrete Fourier Transform"
   ]
  },
  {
   "cell_type": "markdown",
   "id": "807c34b2-f08c-4531-84a4-b63bdd91771e",
   "metadata": {},
   "source": [
    "If we want to know $\\tilde{f}(\\omega)$ just for a particular value of $\\omega$, the transformation (\\ref{eq:fourier_fwd}) is simply an improper integral and thus the numerical methods we studied in Chapter 2 is sufficient.  In general that is not what we want.  We want to know the function $\\tilde{f}(\\omega)$ for $-\\infty < \\omega <\\infty$. That is a big challenge for digital computers.  If  $t$ is discretized with $N$ points and $\\omega$ with $M$ points, the transformation needs the order of $N M$ operations.  In 3 dimensional space, $N$ can be easily $1 \\times 10^{6}$.  $M$ is also in the similar order.  Hence, the number operation can be huge.  Fortunately, there is an ingenious method called fast fourier tranform or FFT.  We will briefly study the general aspect of discrete Fourier transform.   The algorithm of FFT will be explained in next section.\n",
    "\n",
    "\n",
    "First, we need to replace the infinite integration interval $(-\\infty, +\\infty)$ in Eq. (\\ref{eq:fourier_fwd}) with $[-T/2,+T/2]$ where $T>0$ is assumed to be sufficiently large so that $f(t)\\approx 0$ for $|t|\\ge T/2$.  Second, we introduce discrete time $t_n = n \\Delta t$ ($n=-N/2, \\cdots, N/2$) where $\\Delta t=T/N$.  Then, the transform (\\ref{eq:fourier_fwd}) is replaced with  numerical integration\n",
    "\\begin{equation}\\label{eq:DFT_fwd}\n",
    "\\tilde{f}(\\omega) = \\sum_{n=-N/2}^{N/2-1} f(t_n)\\, \\me^{i n  \\omega \\Delta t} \\, \\Delta t\\,.\n",
    "\\end{equation}\n",
    "Here we use the trapezoidal rule for numerical integration.\\footnote{It looks like the rectangular rule but recall that when $f(-T/2)=f(T/2)=0$, the rectangular rule is identical to trapezoidal rule.} Since we have chosen $T$ so that $f(-T/2)=f(T/2) \\approx 0$, the rectangula rule is OK provided that $\\Delta t$ is small enough.  Note that there are $N+1$ sampling points of $t$ but only $N$ rectangles to sum up.  That is why the upper limit of the summation is $N/2-1$.\n",
    "We need to do the same for $\\omega$.  Introducing the integration interval $[-\\Omega/2, +\\Omega/2]$ and discrete frequency $\\omega_m = m \\Delta \\omega$ ($m=-M/2, \\cdots, M/2$) where $\\Delta \\omega  = \\Omega/M$, the inverse transform (\\ref{eq:fourier_inv}) is expressed as a numerical integral\n",
    "\\begin{equation}\\label{eq:DFT_inv}\n",
    "f(t) = \\frac{1}{2\\pi}\\sum_{m=-M/2}^{M/2-1} \\tilde{f}(\\omega_m) \\, \\me^{-im \\Delta \\omega t}\\, \\Delta \\omega\\,.\n",
    "\\end{equation}\n",
    "\n",
    "Now, the discrete forms of transformations must consistent with the Fourier theorem. Substituting Eq. (\\ref{eq:DFT_fwd}) to Eq. (\\ref{eq:DFT_inv}), the discrete version of the Fourier theorem is\n",
    "\\begin{equation}\n",
    "f(t_k) = \\frac{1}{2\\pi} \\sum_{m=-M/2}^{M/2}\\quad \\sum_{n=-N/2}^{N/2} f(t_n) \\me^{i (n-k) m \\Delta \\omega \\Delta t} \\Delta \\omega \\Delta t.\n",
    "\\end{equation}\n",
    "\\begin{equation}\n",
    "\\tilde{f}(\\omega_k) = \\frac{1}{2\\pi} \\sum_{n=-N/2}^{N/2}\\quad \\sum_{m=-M/2}^{M/2} \\tilde{f}(\\omega_m) \\me^{-i (m-k) n \\Delta \\omega \\Delta t} \\Delta \\omega \\Delta t.\n",
    "\\end{equation}\n",
    "These equations hold simultaneously  when $N=M$ and $\\Delta \\omega \\Delta t = 2\\pi/N$.  Commonly, $\\Delta t = T/N$ and $\\Delta \\omega = 2\\pi /T$ are used. The bound of $\\omega$ is now $\\Omega=2\\pi N/T$.  Considering the periodicity of the exponential function, the bound of the summation $(-N/2,N/2-1)$ may be shifted to $(0,N-1)$. \n",
    "\n",
    "In practice, the choice of $T$ is sometime tricky.  Normally, we choose $T$ such that $f(T/2) \\approx 0$ and $N$ such that the resolution $\\Delta t=T/N$ is small enough.  However, we also need a reasonable resolution of frequency $\\Delta\\omega=2\\pi/T$.  If $T$ is too small, the resolution of the frequency becomes poor.  Therefore, a larger $T$ is better for the frequency.  On the other hand, if $T$ is large, $N$ has to be large so that the resolution of time is fine enough. (See Example \\ref{ex:fft_gaussian}.)\n",
    "\n",
    "In summary, the discrete version of Fourier transforms (DFT) are defined by\n",
    "\\begin{subequations}\\label{eq:DFT}\n",
    "\\begin{eqnarray}\n",
    "\\tilde{f}_m &=& T \\left ( \\frac{1}{N}\\sum_{n=0}^{N-1} f_n\\, \\me^{2 \\pi i m n / N} \\right )\\label{eq:DFT_fwd2}\\\\\n",
    "f_n &=& \\frac{1}{T} \\left ( \\sum_{m=0}^{N-1} \\tilde{f}_m\\, \\me^{- 2 \\pi i n m /N} \\right )\\label{eq:DFT_inv2}\n",
    "\\end{eqnarray}\n",
    "\\end{subequations}\n",
    "where function values are abbreviated with $f_n \\equiv f(t_n)$ and $\\tilde{f}_m\\equiv \\tilde{f}(\\omega_m)$.\n",
    "An important consequence of the discretization is that the discretized functions are periodic even when the original functions are not.\n",
    "Explicitly writing it, \n",
    "\\begin{subequations}\n",
    "\\begin{eqnarray}\n",
    "f_{n+N} = f_n \\qquad &\\text{or}& \\qquad  f(t+T)=f(t) \\\\\n",
    "\\tilde{f}_{n+N}=\\tilde{f}_n \\qquad &\\text{or}& \\qquad  \\tilde{f}(\\omega+\\Omega) = \\tilde{f}(\\omega).\n",
    "\\end{eqnarray}\n",
    "\\end{subequations}\n",
    "\n",
    "DFT can be expressed in a matrix form,\n",
    "\\begin{equation}\\label{eq:DFT_matrix}\n",
    "\\tilde{\\mathbf{f}} = \\mathcal{F}\\, \\mathbf{f}, \\qquad \\mathbf{f} = \\mathcal{F}^{-1}\\, \\tilde{\\mathbf{f}}\n",
    "\\end{equation}\n",
    "where the matrix is defined by\n",
    "\\begin{equation}\n",
    "\\mathcal{F}_{mn} = \\frac{T}{N}  \\me^{2\\pi i m n/N}, \\quad n,m = 0, \\cdots, N-1\n",
    "\\end{equation}\n",
    "and the functions are expressed as vectors\n",
    "\\begin{equation}\n",
    "\\mathbf{f} = \\begin{bmatrix}\n",
    "f_1 \\\\ f_2 \\\\ \\vdots \\\\ f_N\n",
    "\\end{bmatrix}, \\qquad\n",
    "\\tilde{\\mathbf{f}} = \\begin{bmatrix}\n",
    "\\tilde{f}_1 \\\\ \\tilde{f}_2 \\\\ \\vdots \\\\ \\tilde{f}_N\n",
    "\\end{bmatrix}\n",
    "\\end{equation}\n",
    "The multiplication of a matrix and a vector involves $N^2$ of multiplications and $N^2$ of additions, which can be too large if we need to perform Fourier transform many times."
   ]
  }
 ],
 "metadata": {
  "kernelspec": {
   "display_name": "jbook",
   "language": "python",
   "name": "jbook"
  },
  "language_info": {
   "codemirror_mode": {
    "name": "ipython",
    "version": 3
   },
   "file_extension": ".py",
   "mimetype": "text/x-python",
   "name": "python",
   "nbconvert_exporter": "python",
   "pygments_lexer": "ipython3",
   "version": "3.11.9"
  }
 },
 "nbformat": 4,
 "nbformat_minor": 5
}
