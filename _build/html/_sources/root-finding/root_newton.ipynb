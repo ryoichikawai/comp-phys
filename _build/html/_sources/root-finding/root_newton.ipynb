{
 "cells": [
  {
   "cell_type": "markdown",
   "id": "65510814-b108-459b-981a-eed0ee0e5e4f",
   "metadata": {},
   "source": [
    "(sec_newton_raphson)=\n",
    "# Newton-Raphson method"
   ]
  },
  {
   "cell_type": "markdown",
   "id": "aad80fc4-07f3-440a-a947-4084b5318e54",
   "metadata": {},
   "source": [
    "The key step of iterative methods is how to propose a new candidate of root based on the previous candidates.  The derivative of the function provides can be a good resource to construct the  next candidate. Suppose that the $n$-th candidate $x_n$ was not good enough.  \n",
    "We approximate the function using Taylor expansion around $x_n$ as follows:\n",
    "\n",
    "$$\n",
    "f(x) \\approx f(x_n) + f'(x_n) (x-x_n) \n",
    "$$(eq-taylor-1)\n",
    "\n",
    "Then, the original equation $f(x)=0$ is approximated by\n",
    "\n",
    "$$\n",
    "f(x_n) + f'(x_n) (x-x_n) = 0\n",
    "$$\n",
    "\n",
    "The root of this equation is the next candidate, that is\n",
    "\n",
    "$$\n",
    "x_(n+1) = x_n - \\frac{f(x_n)}{f'(x_n)}\n",
    "$$(eq-newton-raphson)\n",
    "\n",
    "which should be closer to the root than $x_n$ as Fig. {numref}`fig-newton-raphson` illustrate.  Repeating this procedure, $x_n$ approaches the root rather quickly.\n",
    "\n",
    "We need a reasonable criteria for terminating the iteration. Let us denote the root as $x^*$. From Eq. {eq}`eq-taylor-1` we have\n",
    "\n",
    "$$\n",
    "f(x^*) = f(x_n) + (x^*-x_n) f'(x_n)\n",
    "$$\n",
    "\n",
    "By definition, $f(x^*)=0$.  Then, the error is estimated as $|x^*-x_n| =  \\left | \\displaystyle\\frac{f(x_n)}{f'(x_n)} \\right | = |x_{n+1}-x_n|$.  Hence, we stop the iteration when $|x_{n+1}-x_n| < \\text{tolerance}$.\n",
    "\n",
    "Note that this method does not require initial bracketing.  However, \n",
    "this method works great only if the initial point is sufficiently close to the root. Otherwise it is not guaranteed to converge to the target root.  It might reach another root which you are not looking for. \n",
    "In order to avoid this failure, find a rough estimate of root using the bisection method and switch to the Newton-Raphson method for the further improvement.  While the bisection method is relatively robust many iterations are needed.  On the other hand, the Newton-Raphson method converges faster.  Therefore, such a hybrid method make a sense. \n"
   ]
  },
  {
   "cell_type": "markdown",
   "id": "4c639fc0-1db7-462b-bbc1-34cd1a38c6c1",
   "metadata": {},
   "source": [
    "```{figure} newton_raphson.png\n",
    "---\n",
    "height: 300px\n",
    "name: fig-newton-raphson\n",
    "---\n",
    "The Newton-Raphson method. The straight line tangent to the curve at the current candidate $x_n$ is used to find a new imroved candidate $x_{n+1}$.  If $x_n$ is already close to the root, this procedure rapidly converges to it.\n",
    "```"
   ]
  },
  {
   "cell_type": "markdown",
   "id": "47b7eb65-9c01-462a-ae0a-6261af4c171a",
   "metadata": {},
   "source": [
    "```{admonition} Algorithm: Newton-Raphson\n",
    "\n",
    "1. Set a tolerance $\\epsilon$.\n",
    "2. Choose an initial guess $x_{0}$ and let $n=0$.\n",
    "3. Estimate a new candidate by $x_{n+1} = x_n - \\displaystyle\\frac{f(x_n)}{f'(x)}$.\n",
    "4. If $|x_{n+1}-x_n| < \\epsilon$, then $x_{n+1}$ is the root.  Stop the iteration.\n",
    "5. If not, increment $n$ and repeat from step 3.\n",
    "\n",
    "```"
   ]
  },
  {
   "cell_type": "code",
   "execution_count": null,
   "id": "15573b3e-4fba-410c-bfbd-a847ff5ab51a",
   "metadata": {},
   "outputs": [],
   "source": []
  }
 ],
 "metadata": {
  "kernelspec": {
   "display_name": "jbook",
   "language": "python",
   "name": "jbook"
  },
  "language_info": {
   "codemirror_mode": {
    "name": "ipython",
    "version": 3
   },
   "file_extension": ".py",
   "mimetype": "text/x-python",
   "name": "python",
   "nbconvert_exporter": "python",
   "pygments_lexer": "ipython3",
   "version": "3.10.0"
  }
 },
 "nbformat": 4,
 "nbformat_minor": 5
}
