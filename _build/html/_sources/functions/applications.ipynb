{
 "cells": [
  {
   "cell_type": "markdown",
   "id": "4eea5f73-7c68-4d53-b69e-961a9e122828",
   "metadata": {},
   "source": [
    "# Applications in Physics"
   ]
  },
  {
   "cell_type": "markdown",
   "id": "085880c0-22d0-4aa0-89fd-75e358b8b647",
   "metadata": {},
   "source": [
    "We can solve many physics problems analytically and express the result in closed mathematical forms.  However, the final expression can be very complicated.  Often we need to make additional efforts to extract useful information from the analytical solutions.  The numerical evaluation of analytical solutions can be quite useful to gain some insights.  In this section, we try to gain some insights from popular analytical solutions given in standard textbooks by numerical evaluation of the mathematical expressions and visualize them.\n",
    "\n",
    "A drawback of numerical evaluation is that we can calculate only specific cases since the parameter values must be specified.  If a computer program works only for a particular parameter set, it may not be so useful. We try to write a program which accepts any parameter value."
   ]
  },
  {
   "cell_type": "code",
   "execution_count": null,
   "id": "755bd890-cbc0-4328-a9cf-1363a5388050",
   "metadata": {},
   "outputs": [],
   "source": []
  }
 ],
 "metadata": {
  "kernelspec": {
   "display_name": "jbook",
   "language": "python",
   "name": "jbook"
  },
  "language_info": {
   "codemirror_mode": {
    "name": "ipython",
    "version": 3
   },
   "file_extension": ".py",
   "mimetype": "text/x-python",
   "name": "python",
   "nbconvert_exporter": "python",
   "pygments_lexer": "ipython3",
   "version": "3.10.0"
  }
 },
 "nbformat": 4,
 "nbformat_minor": 5
}
