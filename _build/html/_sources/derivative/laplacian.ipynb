{
 "cells": [
  {
   "cell_type": "markdown",
   "id": "ca736ca7-a270-4cdb-bb0e-c4923a5e2e5d",
   "metadata": {},
   "source": [
    "(sec-laplacian)=\n",
    "# Laplacian "
   ]
  },
  {
   "cell_type": "markdown",
   "id": "7812b410-f949-4f2d-9a41-292fa66fc4c4",
   "metadata": {},
   "source": [
    "Coming soon."
   ]
  }
 ],
 "metadata": {
  "kernelspec": {
   "display_name": "jbook",
   "language": "python",
   "name": "jbook"
  },
  "language_info": {
   "codemirror_mode": {
    "name": "ipython",
    "version": 3
   },
   "file_extension": ".py",
   "mimetype": "text/x-python",
   "name": "python",
   "nbconvert_exporter": "python",
   "pygments_lexer": "ipython3",
   "version": "3.11.7"
  }
 },
 "nbformat": 4,
 "nbformat_minor": 5
}
