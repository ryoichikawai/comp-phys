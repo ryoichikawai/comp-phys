{
 "cells": [
  {
   "cell_type": "markdown",
   "id": "0520ded5-d822-4eac-b68a-6e62f6069ce2",
   "metadata": {},
   "source": [
    "(sec:ode-boundary-value-problems)=\n",
    "# Boundary Value Problems"
   ]
  },
  {
   "cell_type": "code",
   "execution_count": null,
   "id": "7fec2665-20af-4b23-9e4f-0bce690a2abc",
   "metadata": {},
   "outputs": [],
   "source": []
  }
 ],
 "metadata": {
  "kernelspec": {
   "display_name": "jbook",
   "language": "python",
   "name": "jbook"
  },
  "language_info": {
   "codemirror_mode": {
    "name": "ipython",
    "version": 3
   },
   "file_extension": ".py",
   "mimetype": "text/x-python",
   "name": "python",
   "nbconvert_exporter": "python",
   "pygments_lexer": "ipython3",
   "version": "3.10.13"
  }
 },
 "nbformat": 4,
 "nbformat_minor": 5
}
