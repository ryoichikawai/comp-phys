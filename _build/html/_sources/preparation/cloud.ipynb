{
 "cells": [
  {
   "cell_type": "markdown",
   "id": "4ae1f164-69bd-4a4c-84df-3e358ca4effa",
   "metadata": {},
   "source": [
    "# Google Colab\n"
   ]
  },
  {
   "cell_type": "markdown",
   "id": "038274a2-3950-4f18-9c1f-5143acf68eac",
   "metadata": {},
   "source": [
    "If your computer does not have enough storage or power to run python and jupyter, you can develop python codes and run them on cloud-based online IDEs.  You can also upload the jupyter notebook files used in this book and run them.  The most popular one is *Google Colab*. \n",
    "Google Colab also gives you a similar free development environment. It is not identical but compatible to JupyterLab.  However, it is for general purpose and in  rare cases you must install necessary python packages.  Nevertheless, it is convenient if you do not have access to a local jupyter environment.\n",
    "\n",
    "You need to have a google account to use this free service. If you don't have one yet, you can open an account at [accounts.google.com](https://accounts.google.com/signup).  Once you obtained your account, sign in at [golan.research.google.com](https://colab.research.google.com/).  You can start writing python codes or execute uploaded jupyter notebook files.  \n"
   ]
  },
  {
   "cell_type": "markdown",
   "id": "74d8af3c-c513-4969-9f09-6e9a91623d0c",
   "metadata": {},
   "source": [
    "[^cloud]: There are methods to store packages permanently but the procedure is rather complicated.  Therefore, we do not discuss it here."
   ]
  }
 ],
 "metadata": {
  "kernelspec": {
   "display_name": "Python 3 (ipykernel)",
   "language": "python",
   "name": "python3"
  },
  "language_info": {
   "codemirror_mode": {
    "name": "ipython",
    "version": 3
   },
   "file_extension": ".py",
   "mimetype": "text/x-python",
   "name": "python",
   "nbconvert_exporter": "python",
   "pygments_lexer": "ipython3",
   "version": "3.9.13"
  }
 },
 "nbformat": 4,
 "nbformat_minor": 5
}
