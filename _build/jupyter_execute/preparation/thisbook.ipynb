{
 "cells": [
  {
   "cell_type": "markdown",
   "id": "65175fca-3449-44fa-bc23-32ec76b01a48",
   "metadata": {
    "tags": []
   },
   "source": [
    "# About This Book\n",
    "\n",
    "Each page of this book is a Jupyter Notebook file containing executable python codes.  The pages are written with [JupyterLab](https://jupyter.org/) and converted to web pages by [Jupyter Book](https://jupyterbook.org/en/stable/intro.html).  This section explains how to use interactive feature of the book.\n"
   ]
  },
  {
   "cell_type": "markdown",
   "id": "34dd032d-c4e0-4b9a-b711-01c570b84edb",
   "metadata": {},
   "source": [
    "## Layout\n",
    "\n",
    "You are presumably reading this book now.  You see three columns.  The left column contains the table of contents.  You can jump to any chapter and section at any time.  Above the table of contents, there is a search box.  You can search a word through the entire book.\n",
    "\n",
    "On the right column, you see the contents of the current page.  You can jump within the page by clicking subsection title.\n",
    "\n",
    "The center column is the actual content of the page.  At the upper-right corner, there are four icons.  The role of these icons is explained in next subsection.  \n",
    "At the bottom, you see navigation arrows one to the previous page and the other to the next page. Footnotes are also shown at the bottom.\n",
    "\n",
    "The main document consists of two types of blocks.  One is text block and the other is code block. A code block contains a python code and the output of the code appears below the code block  You can actually run the code on your computer or at Google Colab as explained below.\n",
    "\n",
    "There is a square icon at the top of the page.  It toggles between full screen and window modes."
   ]
  },
  {
   "cell_type": "markdown",
   "id": "06f99720-b577-437e-a5b6-4463e8800f0e",
   "metadata": {},
   "source": [
    "## Linked references\n",
    "\n",
    "There are many references in the documents, references to equation, figure, table, chapter, section, footnote, bibliography citation, ...  They are all linked to the actual target.  If you click the reference, the page jump to the target. For example, an equation number cited in a page is linked to the corresponding equation even it is in a different page. Clicking the cited equation number, the page containing the equation is shown  External URLs are also linked."
   ]
  },
  {
   "cell_type": "markdown",
   "id": "dc475f59-2d2d-419c-9bde-9eb081eca6fa",
   "metadata": {},
   "source": [
    "![Buttons](buttons.png)"
   ]
  },
  {
   "cell_type": "markdown",
   "id": "3e8a4ede-f8a6-467b-bcda-d61a9a334408",
   "metadata": {},
   "source": [
    "## Downloading the page\n",
    "\n",
    "There is a download button at the upper-right corner.  You can download the original Jupyter notebook file (.ipynb) of the current page and the PDF version.  Click one of them with the left mouse button, download is supposed to start.  However, some web browser instead shows the contents in the browser.  If your browser does that, click \".ipynb\" with the *right* mouse button and use \"save link as ...\". You can run the downloaded Jupyter notebook file on you computer using JupyterLab.\n",
    "You can also download any page as PDF in the same way.  If you prefer to read it on paper, print the PDF file."
   ]
  },
  {
   "cell_type": "markdown",
   "id": "9a641daf-1ab3-47b5-8a26-84f8c96ad66d",
   "metadata": {},
   "source": [
    "## Github\n",
    "\n",
    "The github button (octocat) is for the [Github](https://en.wikipedia.org/wiki/GitHub) connection.  It contains two items, *repository* and *open issue*.   You can view the source files of this book in the github repository and write bug reports and comments which can be viewed at the githut repository."
   ]
  },
  {
   "cell_type": "markdown",
   "id": "f345d532-3ce0-48cd-b565-529c297eada8",
   "metadata": {},
   "source": [
    "## Google Colab\n",
    "\n",
    "The rocket icon at the top is known launch button.  Currently, there is only one item \"Colab\" in it.  This book is linked to [Google Colab](https://colab.research.google.com/).  By clicking \"Colab\", you open the current page in Google Colab where you can actually edit and run the page.  For example, there is an python code in the current page, you can run it on the google computer.   Furthermore, you can modify the code and run your own version.  See Section on Colab for more information about Google Colab."
   ]
  },
  {
   "cell_type": "markdown",
   "id": "49668cd2-1f4d-4bc2-9ad8-624caf09b44d",
   "metadata": {},
   "source": [
    "## Code block\n",
    "\n",
    "Each python code is shown in a box.  If the code generates outputs, they are shown in the following box.  The contents in the source code box and the output box can be copied  to the clipboard and past it to your computer.  Move the mouse cursor to the top-right corner of the box.  Copy icon ![](icon-copy.png) appears.  By clicking the icon the whole content of the box is copied to the clipboard on your computer."
   ]
  },
  {
   "cell_type": "code",
   "execution_count": null,
   "id": "0a428ff7-86ff-4739-9149-189665a831d9",
   "metadata": {},
   "outputs": [],
   "source": []
  }
 ],
 "metadata": {
  "kernelspec": {
   "display_name": "Python 3 (ipykernel)",
   "language": "python",
   "name": "python3"
  },
  "language_info": {
   "codemirror_mode": {
    "name": "ipython",
    "version": 3
   },
   "file_extension": ".py",
   "mimetype": "text/x-python",
   "name": "python",
   "nbconvert_exporter": "python",
   "pygments_lexer": "ipython3",
   "version": "3.11.7"
  }
 },
 "nbformat": 4,
 "nbformat_minor": 5
}