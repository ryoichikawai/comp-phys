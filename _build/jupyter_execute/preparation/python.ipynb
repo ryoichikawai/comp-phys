{
 "cells": [
  {
   "cell_type": "markdown",
   "id": "7d335193-d8bc-4be7-ae4a-cc37b112a0a9",
   "metadata": {},
   "source": [
    "# Python\n"
   ]
  },
  {
   "cell_type": "markdown",
   "id": "915e7c03-5e10-4714-9b9c-0cc61482ee30",
   "metadata": {},
   "source": [
    "`Python` is a popular computer programming language. It is widely used in many different fields, scientific research, IT companies, financial institutions, $\\cdots$ .  The use of python is required in this short course. I hope that readers have a little bit of experience in coding with python. If you haven't use it yet, you need to learn it a long with this course.  There are many online tutorials for self-studying.  Some of popular ones are listed at\n",
    "[sunscrapers.com](https://sunscrapers.com/blog/12-best-python-tutorials-for-beginners/#top-python-beginner-tutorials).  You can pick one that matches to your level.  The following book will be useful in general.\n",
    "\n",
    "> Allen B. Downey: *Think Python - How to think like a computer scientist* (O'Reilly Media, 2016) or (Green Tea Press, 2012)\n",
    "\n",
    "which is freely available at [greenteapress.com](https://greenteapress.com/wp/think-python/).  If you prefer a hard copy, You can buy a paperback at [amazon.com](http://amzn.to/Owtmjy).\n",
    "\n",
    "You must be able to execute python codes on a computer.  A computer provided by your school may have python on it.  You can also use online services such as Google Colab where you can run python codes for free.   However, school computers or online services often do not have modules you need.   It is highly recommended to have python on your own computer.  It is completely free but takes up some disk space (at least 5Gb).  In addition to basic installation, you need to install additional modules for quantum computing.  In this chapter, I explain how to install standard python.  An additional modules, `jupyter` will be introduced in the following sections."
   ]
  },
  {
   "cell_type": "markdown",
   "id": "642144fa-31e1-406a-bf15-20000682330b",
   "metadata": {
    "tags": []
   },
   "source": [
    "## Installation [^skip-installation]\n",
    "\n",
    "There are many ways to install python.  One problem is that basic python (we shall call it *python platform*) is not enough to do almost anything. For example, the python platform does not provide any scientific function. We need to install many modules along with the python platform.  Fortunately, most of modules we need are managed by a package manager called *conda*.  Unless you are expert of python, I strongly recommend to use *conda*.   \n",
    "\n",
    "1. **Downloading anaconda package**  \n",
    "Go to [anaconda.com](https://www.anaconda.com/) and download the installer for your OS .  Linux, Microsoft Windows, and Mac OS are all supported. \n",
    "\n",
    "2. **Run the installer**  \n",
    "Execute the installer.  If the installer asks if it is for single user or multiple users, chose single user.  It also asks a location to install.  The default location is fine.\n",
    "\n",
    "3. **Launching anaconda**  \n",
    "\n",
    "The way to launch anaconda depends on the OS.\n",
    "   * *Linux*  \n",
    "   Anaconda configuration is written in `.bashrc`.  When you open a new terminal, anaconda is ready.  \n",
    " \n",
    "   * *Windows*  \n",
    "   Open the Start Menu and pull down Anaconda3 menu. Click \"Anaconda Prompt\"  or \"Anaconda Powershell Prompt\", whichever you like. Anaconda works only inside the Anaconda terminal window. You see another link in the menu: Anaconda Navigator.  You can launch major applications from the navigator including JupyterLab.  Since it must configure environment for each applications, the navigate starts slowly.\n",
    " \n",
    "   * *Mac OS*  \n",
    "   To be written.\n",
    "   \n",
    "3. **Updating the package**   \n",
    "There may be newer version of packages.  To update installed packages,  run the following command inside the terminal window:\n",
    "\n",
    "```\n",
    "conda update -all\n",
    "```\n",
    "\n",
    "\n",
    "Now the basic installation is completed.  If you are interested in what packages are installed, use the following command.\n",
    "\n",
    "```\n",
    "conda list\n",
    "```\n",
    "\n",
    "You will see hundreds of packages.  We will be using many of them even without knowing it.\n"
   ]
  },
  {
   "cell_type": "markdown",
   "id": "61769542-1ca5-4591-94c1-d064692ca264",
   "metadata": {},
   "source": [
    "## Using Python\n",
    "\n",
    "You can use python interactively inside the text window.  Just use command `python`.\n",
    "```\n",
    "python  \n",
    "Python 3.9.12 (main, Apr  4 2022, 05:22:27) [MSC v.1916 64 bit (AMD64)] :: Anaconda, Inc. on win32  \n",
    "Type \"help\", \"copyright\", \"credits\" or \"license\" for more information.  \n",
    ">>> \n",
    "```\n",
    "\n",
    "\">>>\" is python prompt.  You enter a single line code here.  For example\n",
    "\n",
    "```\n",
    ">>> 1+2  \n",
    "3  \n",
    ">>>  \n",
    "```\n",
    "\n",
    "To exit from the python interactive mode, use the following exit function:\n",
    "\n",
    "```\n",
    ">>> exit()\n",
    "```\n",
    "\n",
    "We rarely use the interactive mode. Instead, we write a source code using a text editor and run it.  There are also so-called integrated development environment (IDE). `spyder` and `jupyter` are the two most popular IDEs for python.  We use`jupyter-lab` to develop python codes.  Actually, this textbook is entirely written with `jupyter-lab`."
   ]
  },
  {
   "cell_type": "markdown",
   "id": "6998b549-ca69-4502-90cd-c5ed086ee68b",
   "metadata": {
    "tags": []
   },
   "source": [
    "## Numpy\n",
    "\n",
    "Unlike other computer languages such as C++, Python platform is not capable of mathematical calculation. Mathematical modules are provided by various packages.  Among them, *Numpy* is commonly used.  Free documentation and tutorial are available at [numpy.org](https://numpy.org/learn/).\n",
    "\n",
    "To use it, we must *import* the module to your code.  In this book, we import it as\n",
    "\n",
    "```\n",
    "import numpy as np\n",
    "```\n",
    "\n",
    "where `np` is a shorthand of `numpy`.  You can access methods (functions) and attributes associated with the numpy class using the shorthand.  For example, we calculate $\\cos(\\pi)$ as"
   ]
  },
  {
   "cell_type": "code",
   "execution_count": 2,
   "id": "32924d63-22f5-4b54-bf19-0f9617e00f50",
   "metadata": {},
   "outputs": [
    {
     "data": {
      "text/plain": [
       "-1.0"
      ]
     },
     "execution_count": 2,
     "metadata": {},
     "output_type": "execute_result"
    }
   ],
   "source": [
    "import numpy as np\n",
    "\n",
    "np.cos(np.pi)"
   ]
  },
  {
   "cell_type": "markdown",
   "id": "a4e606a7-9e45-444a-a235-69b0c66f6894",
   "metadata": {},
   "source": [
    "Notice `np.` attached to `cos()` and `pi`.  We must tell python platform that the mathematical expressions are defined in numpy."
   ]
  },
  {
   "cell_type": "markdown",
   "id": "3524a6fa-ded0-45ba-943b-ffd7591b8228",
   "metadata": {},
   "source": [
    "```{admonition} Running python codes on your computer\n",
    ":class: tip\n",
    "\n",
    "You can copy the python code to the clipboard on your computer.  Move the cursor to the top-right corner of the code block.  Copy icon shows up.  Just click it.  The content of the code block is copied.  You can paste it to your jupyter-lab (or a python source file) and run it.\n",
    "```"
   ]
  },
  {
   "cell_type": "markdown",
   "id": "d43b12db-35c1-432b-8010-d03c16407ca7",
   "metadata": {},
   "source": [
    "```{admonition} Running python codes at Google Colab\n",
    ":class: tip\n",
    "\n",
    "Launch Google Colab from the launch button at the top of the page.  This page is automatically transferred to Colab.  Sign in to Colab if you haven't yet.  Now, you can run the python code by clicking a little triangle button at the upper-left corner of the code block.  You can modify the code and run your own version.\n",
    "\n",
    "```"
   ]
  },
  {
   "cell_type": "markdown",
   "id": "d542a468-1a09-4867-96a8-6af0788fc61b",
   "metadata": {},
   "source": [
    "\n",
    "___  \n",
    "\n",
    "__Exercise__ 0.1 &nbsp; Calculate $\\sin\\left(\\frac{\\pi}{2}\\right)$ using python.\n",
    "\n",
    "___  \n"
   ]
  },
  {
   "cell_type": "markdown",
   "id": "704978f9-b638-4f9c-9719-800fd83b39ef",
   "metadata": {},
   "source": [
    "## Matplotlib\n",
    "\n",
    "When we want to show results of computation as graphs, we use a plotting module `matplotlib`.  It is a powerful visualization package for scientific research.  Free documentation and tutorials are available at\n",
    "[matplotlib.org](https://matplotlib.org/).\n",
    "\n",
    "In this book we import it as\n",
    "```\n",
    "import matplotlib.pyplot as plt\n",
    "```\n",
    "where `plt` is a shorthand.\n",
    "The following example plots $\\sin(x)$ for $x \\in [0,2\\pi]$\n"
   ]
  },
  {
   "cell_type": "code",
   "execution_count": 6,
   "id": "ad62e919-5ad4-4c03-a360-d96de03c649e",
   "metadata": {},
   "outputs": [
    {
     "data": {
      "text/plain": [
       "[<matplotlib.lines.Line2D at 0x7f4a78ee7b80>]"
      ]
     },
     "execution_count": 6,
     "metadata": {},
     "output_type": "execute_result"
    },
    {
     "data": {
      "image/png": "[encoded data removed]",
      "text/plain": [
       "<Figure size 432x288 with 1 Axes>"
      ]
     },
     "metadata": {
      "needs_background": "light"
     },
     "output_type": "display_data"
    }
   ],
   "source": [
    "import matplotlib.pyplot as plt   # visualization tools\n",
    "import numpy as np  # numerical math package\n",
    "x=np.linspace(0,2*np.pi,100)  # generates 100 points betwee 0 and 2pi\n",
    "plt.plot(x,np.sin(x))"
   ]
  },
  {
   "cell_type": "markdown",
   "id": "cb80e84b-24af-40c5-8135-d4bc6f19cbe7",
   "metadata": {},
   "source": [
    "\n",
    "___  \n",
    "\n",
    "__Exercise__ 0.2 &nbsp; Calculate $\\cos(x)$ for $x \\in [-\\pi,+\\pi]$ using python.\n",
    "\n",
    "___  \n"
   ]
  },
  {
   "cell_type": "markdown",
   "id": "893fb00f-141b-4497-b242-f8798b447556",
   "metadata": {},
   "source": [
    "Lat modified on June 4, 2022."
   ]
  },
  {
   "cell_type": "markdown",
   "id": "228d5407-cb3a-4615-adcf-79b5aa0cb003",
   "metadata": {},
   "source": [
    "[^skip-installation]: If your computer does not have enough storage or power to run Python and JupyterLab, skip Installation.  Use an online IDE introduced in Section Colab."
   ]
  }
 ],
 "metadata": {
  "kernelspec": {
   "display_name": "Python 3 (ipykernel)",
   "language": "python",
   "name": "python3"
  },
  "language_info": {
   "codemirror_mode": {
    "name": "ipython",
    "version": 3
   },
   "file_extension": ".py",
   "mimetype": "text/x-python",
   "name": "python",
   "nbconvert_exporter": "python",
   "pygments_lexer": "ipython3",
   "version": "3.9.13"
  }
 },
 "nbformat": 4,
 "nbformat_minor": 5
}