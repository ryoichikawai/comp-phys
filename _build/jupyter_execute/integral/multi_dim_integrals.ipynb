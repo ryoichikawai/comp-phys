{
 "cells": [
  {
   "cell_type": "markdown",
   "id": "37e79bed-4f99-4586-b06a-552f0b3ad689",
   "metadata": {},
   "source": [
    "(sec:multi-dimensional-integral)=\n",
    "# Multi-dimensional Integrals"
   ]
  },
  {
   "cell_type": "code",
   "execution_count": null,
   "id": "07e95519-756f-46db-9437-b01720634b56",
   "metadata": {},
   "outputs": [],
   "source": []
  }
 ],
 "metadata": {
  "kernelspec": {
   "display_name": "jbook",
   "language": "python",
   "name": "jbook"
  },
  "language_info": {
   "codemirror_mode": {
    "name": "ipython",
    "version": 3
   },
   "file_extension": ".py",
   "mimetype": "text/x-python",
   "name": "python",
   "nbconvert_exporter": "python",
   "pygments_lexer": "ipython3",
   "version": "3.10.13"
  }
 },
 "nbformat": 4,
 "nbformat_minor": 5
}