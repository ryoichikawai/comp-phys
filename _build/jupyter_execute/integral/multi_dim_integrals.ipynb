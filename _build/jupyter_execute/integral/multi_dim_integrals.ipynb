{
 "cells": [
  {
   "cell_type": "markdown",
   "id": "84ec1bca-7b20-45a1-b2db-01dad483238c",
   "metadata": {},
   "source": [
    "(sec:multi-dim-integrals)=\n",
    "# Milti-dimensional Integrals"
   ]
  },
  {
   "cell_type": "code",
   "execution_count": null,
   "id": "a2bd454c-af5c-4a84-ac9d-ec078195386f",
   "metadata": {},
   "outputs": [],
   "source": []
  }
 ],
 "metadata": {
  "kernelspec": {
   "display_name": "jbook",
   "language": "python",
   "name": "jbook"
  },
  "language_info": {
   "codemirror_mode": {
    "name": "ipython",
    "version": 3
   },
   "file_extension": ".py",
   "mimetype": "text/x-python",
   "name": "python",
   "nbconvert_exporter": "python",
   "pygments_lexer": "ipython3",
   "version": "3.10.13"
  }
 },
 "nbformat": 4,
 "nbformat_minor": 5
}