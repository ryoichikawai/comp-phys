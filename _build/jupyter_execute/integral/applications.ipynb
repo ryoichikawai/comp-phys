{
 "cells": [
  {
   "cell_type": "markdown",
   "id": "5c803e7f-74ab-461b-a4ea-01705c705e69",
   "metadata": {},
   "source": [
    "(app:integral)=\n",
    "# Applicatins in Physics"
   ]
  },
  {
   "cell_type": "markdown",
   "id": "91f940c0-8c6e-41ea-afc1-b199436156bd",
   "metadata": {},
   "source": [
    "Integrals appear everywhere in physics but many of them are too difficult to calculate analytically. Here are some examples.\n",
    "\n",
    "* **The period of classical oscillation** ({numref}`app:oscillation-period`):  A classical particle bound in a potential oscillates between two turning points as discussed in {numref}`app:turning-points`.  The period of oscillation can be expressed as an integral but the integrand has two integrable singularities at the turning points. The methods discussed in {numref}`sec:integrable-singularities` must be used.\n",
    "* **Thermodynamics of quamtum ideal gases** ({numref}`app:qm-ideal-gas`):  Some thermodynamic relations for Fermi gases and Bose gases are expressed with integrals known as the Fermi-Dirac integral and the Bose-Einstein integral, respectively.  The integrals are improper since the upper bound in the integrals is infinity. WE use the methods discussed in {numref}`sec:unbound-interval`."
   ]
  },
  {
   "cell_type": "markdown",
   "id": "411e1624-3197-456b-b263-b8549bcc81b1",
   "metadata": {},
   "source": [
    "\n",
    "___\n",
    "\n",
    "Updated on 4/16/2024 by R. Kawai"
   ]
  },
  {
   "cell_type": "code",
   "execution_count": null,
   "id": "3c0edc40-7e93-4736-8787-b35710a327e8",
   "metadata": {},
   "outputs": [],
   "source": []
  }
 ],
 "metadata": {
  "kernelspec": {
   "display_name": "jbook",
   "language": "python",
   "name": "jbook"
  },
  "language_info": {
   "codemirror_mode": {
    "name": "ipython",
    "version": 3
   },
   "file_extension": ".py",
   "mimetype": "text/x-python",
   "name": "python",
   "nbconvert_exporter": "python",
   "pygments_lexer": "ipython3",
   "version": "3.10.13"
  }
 },
 "nbformat": 4,
 "nbformat_minor": 5
}