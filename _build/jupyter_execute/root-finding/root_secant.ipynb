{
 "cells": [
  {
   "cell_type": "markdown",
   "id": "cd083786-d580-4f7b-a701-6f7d27246200",
   "metadata": {},
   "source": [
    "(sec_secant)=\n",
    "# Secant Method"
   ]
  },
  {
   "cell_type": "markdown",
   "id": "6a72d68d-8096-451a-b40b-b9aa8d239869",
   "metadata": {},
   "source": [
    "The Newton-Raphson method requires the analytic expression of the first order derivative, which limits the range of applications. However, the same idea can be used without the analytic expression.  If we replace the analytic derivative with the numerical derivative (see Chapter {numref}`chap_derivative` ), the Newton-Raphson procedure still works.  Using the backward finite difference method, the recursive equation {eq}`eq-newton-raphson` becomes\n",
    "\n",
    "$$\n",
    "x_{n+1} = x_n - \\frac{x_{n}-x_{n-1}}{f(x_n)-f(x_{n-1})} f(x_n)\n",
    "$$\n",
    "\n",
    "This method is commonly known as the secant method. Use the bisection method before starting the secant method to ensure the convergence.\n",
    "\n",
    "One problem is that this method needs two points to start the iteration. However, this is not a big issue since we can pick any point close to the initial guess. If the root is already bracketed between $a$ and $b$, use $x_1 = x_0 + \\Delta$ with $\\Delta \\ll b-a$. If the secant method is preceded by the bisection method, use the final bracket from the bisection calculation.  Then, $\\Delta = (b-a)/10$ is good enough.\n"
   ]
  },
  {
   "cell_type": "markdown",
   "id": "d1ab63cb-3eae-4f7c-9b0f-e70f568bf687",
   "metadata": {},
   "source": [
    "```{admonition} Algorithm: Secant\n",
    "1. Set a tolerance $xtol$ or $ftol$. \n",
    "2. Choose two initial points $x_0$ and $x_1 = x_0 + \\delta$.\n",
    "3. Reset thne counter $n=1$\n",
    "4. Estimate a new candidate by $x_{n+1} = x_n - \\displaystyle\\frac{x_n-x_{n-1}}{f(x_n)-f(x_{n-1})} f(x_n)$.\n",
    "5. If $|x_{n+1}-x_n| < xtol$ and/or $f(x_{n+1}) < ftol$, then $x_{n+1}$ is the root.  Stop the iteration.\n",
    "6. Otherwise, increment $n$ and go to step 4.\n",
    "```"
   ]
  },
  {
   "cell_type": "markdown",
   "id": "797c1d17-c402-479e-a969-0c358a00d65e",
   "metadata": {},
   "source": [
    "**Example**  We solve $x^3 - 9 x^2 +23 x - 15=0$ one more time but with the secant method this time."
   ]
  },
  {
   "cell_type": "code",
   "execution_count": 3,
   "id": "abc997ad-fa0f-42a8-9804-a561490eced3",
   "metadata": {},
   "outputs": [
    {
     "name": "stdout",
     "output_type": "stream",
     "text": [
      "root= 5.0000000e+00, f(x)= -1.61861635e-11, iteration=   8\n"
     ]
    }
   ],
   "source": [
    "import numpy as np\n",
    "\n",
    "def f(x):\n",
    "    return x**3-9*x**2+23*x-15\n",
    "\n",
    "# set tolerance\n",
    "ftol = 1.e-8\n",
    "\n",
    "# set the initial candiate\n",
    "x1 = 4.0\n",
    "x2 = 4.1\n",
    "\n",
    "# set the maximum itertation\n",
    "nmax = 100\n",
    "\n",
    "f1 = f(x1)\n",
    "f2 = f(x2)\n",
    "\n",
    "n = 0\n",
    "while abs(f2)> ftol and n<nmax:\n",
    "    x = x2 - (x2-x1)/(f2-f1)*f2\n",
    "    x1 = x2\n",
    "    f1 = f2\n",
    "    x2 = x\n",
    "    f2 = f(x)\n",
    "    n+=1\n",
    "\n",
    "print(\"root= {0:10.7e}, f(x)= {1:15.8e}, iteration= {2:3d}\".format(x2, f2, n))"
   ]
  },
  {
   "cell_type": "markdown",
   "id": "b94e5ead-986d-485b-9084-c97cc8206377",
   "metadata": {},
   "source": [
    "Notice that the root nearest to the pair of the initial points."
   ]
  },
  {
   "cell_type": "markdown",
   "id": "6be6b581-ae4a-499e-bd5c-0284ef906359",
   "metadata": {},
   "source": [
    "## Canned routine\n",
    "\n",
    "You don't see the secant method in `scipy.optimize`.  Actually, there is but hidden in `newton`.  If the option `fprime=` is not specified, it automatically uses the secant method.  It does not require the second initial position.  The routine will generate the second point automatically."
   ]
  },
  {
   "cell_type": "code",
   "execution_count": 5,
   "id": "f56541b0-6fa5-4a28-83e2-71fd4928376d",
   "metadata": {},
   "outputs": [
    {
     "data": {
      "text/plain": [
       "5.000000000001222"
      ]
     },
     "execution_count": 5,
     "metadata": {},
     "output_type": "execute_result"
    }
   ],
   "source": [
    "import numpy as np\n",
    "from scipy.optimize import newton\n",
    "\n",
    "def f(x):\n",
    "    return x**3-9*x**2+23*x-15\n",
    "\n",
    "def df(x):\n",
    "    return 3*x**2 - 18*x + 23\n",
    "\n",
    "x0 = 4.1\n",
    "xtol=1e-6\n",
    "\n",
    "# if 'fprime=' option is not used,\n",
    "# 'newton' uses the secant method.\n",
    "newton(f, x0,tol=xtol)"
   ]
  },
  {
   "cell_type": "markdown",
   "id": "82b95866-bc10-4e12-8a8c-294e51a8c1c0",
   "metadata": {},
   "source": [
    "Notice that a different root from the Newtow-Raphson is obtained,  which is the nearest to the initial position."
   ]
  },
  {
   "cell_type": "markdown",
   "id": "34c410ed-fb0a-43aa-a88b-762734f47a95",
   "metadata": {},
   "source": [
    "\n",
    "___\n",
    "\n",
    "Last modified on 3/13/2024 by R. Kawai"
   ]
  }
 ],
 "metadata": {
  "kernelspec": {
   "display_name": "jbook",
   "language": "python",
   "name": "jbook"
  },
  "language_info": {
   "codemirror_mode": {
    "name": "ipython",
    "version": 3
   },
   "file_extension": ".py",
   "mimetype": "text/x-python",
   "name": "python",
   "nbconvert_exporter": "python",
   "pygments_lexer": "ipython3",
   "version": "3.10.13"
  }
 },
 "nbformat": 4,
 "nbformat_minor": 5
}