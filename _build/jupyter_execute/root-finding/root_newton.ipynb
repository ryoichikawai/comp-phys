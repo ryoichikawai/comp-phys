{
 "cells": [
  {
   "cell_type": "markdown",
   "id": "65510814-b108-459b-981a-eed0ee0e5e4f",
   "metadata": {},
   "source": [
    "(sec_newton_raphson)=\n",
    "# Newton-Raphson method"
   ]
  },
  {
   "cell_type": "markdown",
   "id": "aad80fc4-07f3-440a-a947-4084b5318e54",
   "metadata": {},
   "source": [
    "The key step of iterative methods is how to propose a new candidate of root based on the previous candidates.  The derivative of the function provides can be a good resource to construct the  next candidate. Suppose that the $n$-th candidate $x_n$ was not good enough.  \n",
    "We approximate the function using Taylor expansion around $x_n$ as follows:\n",
    "\n",
    "$$\n",
    "f(x) \\approx f(x_n) + f'(x_n) (x-x_n) \n",
    "$$(eq-taylor-1)\n",
    "\n",
    "Then, the original equation $f(x)=0$ is approximated by\n",
    "\n",
    "$$\n",
    "f(x_n) + f'(x_n) (x-x_n) = 0\n",
    "$$\n",
    "\n",
    "The root of this equation is the next candidate, that is\n",
    "\n",
    "$$\n",
    "x_(n+1) = x_n - \\frac{f(x_n)}{f'(x_n)}\n",
    "$$(eq-newton-raphson)\n",
    "\n",
    "which should be closer to the root than $x_n$ as Fig. {numref}`fig-newton-raphson` illustrate.  Repeating this procedure, $x_n$ approaches the root rather quickly.\n",
    "\n",
    "We need a reasonable criteria for terminating the iteration. Let us denote the root as $x^*$. From Eq. {eq}`eq-taylor-1` we have\n",
    "\n",
    "$$\n",
    "f(x^*) = f(x_n) + (x^*-x_n) f'(x_n)\n",
    "$$\n",
    "\n",
    "By definition, $f(x^*)=0$.  Then, the error is estimated as $|x^*-x_n| =  \\left | \\displaystyle\\frac{f(x_n)}{f'(x_n)} \\right | = |x_{n+1}-x_n|$.  Hence, we stop the iteration when $|x_{n+1}-x_n| < \\text{tolerance}$.\n",
    "\n",
    "Note that this method does not require initial bracketing.  However, \n",
    "this method works great only if the initial point is sufficiently close to the root. Otherwise it is not guaranteed to converge to the target root.  It might reach another root which you are not looking for. \n",
    "In order to avoid this failure, find a rough estimate of root using the bisection method and switch to the Newton-Raphson method for the further improvement.  While the bisection method is relatively robust many iterations are needed.  On the other hand, the Newton-Raphson method converges faster.  Therefore, such a hybrid method make a sense. \n"
   ]
  },
  {
   "cell_type": "markdown",
   "id": "4c639fc0-1db7-462b-bbc1-34cd1a38c6c1",
   "metadata": {},
   "source": [
    "```{figure} newton_raphson.png\n",
    "---\n",
    "height: 300px\n",
    "name: fig-newton-raphson\n",
    "---\n",
    "The Newton-Raphson method. The straight line tangent to the curve at the current candidate $x_n$ is used to find a new imroved candidate $x_{n+1}$.  If $x_n$ is already close to the root, this procedure rapidly converges to it.\n",
    "```"
   ]
  },
  {
   "cell_type": "markdown",
   "id": "47b7eb65-9c01-462a-ae0a-6261af4c171a",
   "metadata": {},
   "source": [
    "```{admonition} Algorithm: Newton-Raphson\n",
    "\n",
    "1. Set a tolerance $rtol$.\n",
    "2. Choose an initial guess $x_{0}$ and let $n=0$.\n",
    "3. Estimate a new candidate by $x_{n+1} = x_n - \\displaystyle\\frac{f(x_n)}{f'(x)}$.\n",
    "4. If $|f(x_{n+1})| < rtol$, then $x_{n+1}$ is the root.  Stop the iteration.\n",
    "5. If not, increment $n$ and repeat from step 3.\n",
    "\n",
    "```"
   ]
  },
  {
   "cell_type": "markdown",
   "id": "c39716e8-f411-45ab-a1bc-522cd412d0aa",
   "metadata": {},
   "source": [
    "**Example**  We solve $x^3 - 9 x^2 +23 x - 15=0$. again but with the Newton-Raphson method this time."
   ]
  },
  {
   "cell_type": "code",
   "execution_count": 4,
   "id": "15573b3e-4fba-410c-bfbd-a847ff5ab51a",
   "metadata": {},
   "outputs": [
    {
     "name": "stdout",
     "output_type": "stream",
     "text": [
      "root= 1.0000000e+00, f(x)= -3.55271368e-15, iteration=   9\n"
     ]
    }
   ],
   "source": [
    "import numpy as np\n",
    "\n",
    "def func(x):\n",
    "    return [x**3-9*x**2+23*x-15, 3*x**2 - 18*x + 23]\n",
    "\n",
    "# set tolerance\n",
    "rtol = 1.e-8\n",
    "\n",
    "# set the initial candiate\n",
    "x = 4.1\n",
    "\n",
    "# set the maximum itertation\n",
    "nmax = 100\n",
    "\n",
    "\n",
    "# Newton-Raphson method\n",
    "n = 0\n",
    "[fx,dfx] = func(x)\n",
    "\n",
    "while abs(fx) > rtol and n < nmax:\n",
    "    x = x - fx/dfx\n",
    "    [fx,dfx] = func(x)\n",
    "    n+=1\n",
    "\n",
    "print(\"root= {0:10.7e}, f(x)= {1:15.8e}, iteration= {2:3d}\".format(x, fx, n))"
   ]
  },
  {
   "cell_type": "markdown",
   "id": "4454c3e1-3a31-4778-b857-dd86372d58fa",
   "metadata": {},
   "source": [
    "In this example, the Newtoin-Raphson itertation started from $x=4.1$.  The nearest root to the starting point is $5$ and the second nearest $3$.  However, it found the root at $x=1$.  The following plot shows that the tangent line (red line) at the initial point crosses the $x$ axis around $x=-4$.  Then, the nearest root to it is $1$.  As you can see that the root found by the Newton-Raphson method is not necessarily the nearest to the initial point. If we want to get a p[articular root, we use the bisection method for first several iteration and switch to the Newton-Raphson method. "
   ]
  },
  {
   "cell_type": "code",
   "execution_count": 11,
   "id": "ea4f2638-1679-4dec-bad4-1f1dc2e5417a",
   "metadata": {},
   "outputs": [
    {
     "data": {
      "text/plain": [
       "<matplotlib.lines.AxLine at 0x7f642ab1c610>"
      ]
     },
     "execution_count": 11,
     "metadata": {},
     "output_type": "execute_result"
    },
    {
     "data": {
      "image/png": "[encoded data removed]",
      "text/plain": [
       "<Figure size 400x300 with 1 Axes>"
      ]
     },
     "metadata": {},
     "output_type": "display_data"
    }
   ],
   "source": [
    "import numpy as np\n",
    "import matplotlib.pyplot as plt\n",
    "\n",
    "def f(x):\n",
    "    return x**3-9*x**2+23*x-15\n",
    "\n",
    "def df(x):\n",
    "    return 3*x**2 - 18*x + 23\n",
    "    \n",
    "x=np.linspace(-4,6,201)\n",
    "y=f(x)\n",
    "\n",
    "plt.figure(figsize=(4,3))\n",
    "plt.plot(x,y)\n",
    "plt.plot([1,3,5],[0,0,0],'*k')\n",
    "plt.ylim(-5,5)\n",
    "plt.xlabel(r\"$x$\")\n",
    "plt.ylabel(r\"$f(x)$\")\n",
    "\n",
    "plt.axhline(y = 0, color = '0.8', linestyle = '--')\n",
    "\n",
    "x0=4.1\n",
    "fx=f(x0)\n",
    "dfx=df(x0)\n",
    "\n",
    "plt.axline((x0, fx), slope=dfx, color=\"red\", linestyle='-')"
   ]
  },
  {
   "cell_type": "markdown",
   "id": "d62f7623-160a-4bed-91d2-2cde9706783a",
   "metadata": {},
   "source": [
    "## Canned routine\n",
    "\n",
    "Now we know the pros and cons of the Newton-Raphson method.  So, we use canned routines carefully. `scipy.optimize` provides `newton`.  See the [usage](https://docs.scipy.org/doc/scipy/reference/generated/scipy.optimize.newton.html)."
   ]
  },
  {
   "cell_type": "markdown",
   "id": "549f29ae-4707-4b77-9986-dc9027a6eeec",
   "metadata": {},
   "source": [
    "**Example** Solve the same problem with `scipy.op[timize.newton`."
   ]
  },
  {
   "cell_type": "code",
   "execution_count": 14,
   "id": "5b6d4b8f-832f-4ea8-b544-fe4274708aff",
   "metadata": {},
   "outputs": [
    {
     "data": {
      "text/plain": [
       "0.9999999999999993"
      ]
     },
     "execution_count": 14,
     "metadata": {},
     "output_type": "execute_result"
    }
   ],
   "source": [
    "import numpy as np\n",
    "from scipy.optimize import newton\n",
    "\n",
    "def f(x):\n",
    "    return x**3-9*x**2+23*x-15\n",
    "\n",
    "def df(x):\n",
    "    return 3*x**2 - 18*x + 23\n",
    "\n",
    "x0 = 4.1\n",
    "xtol=1e-6\n",
    "\n",
    "# derivative is specified with 'fprime=' option\n",
    "newton(f, x0, fprime=df,tol=xtol)"
   ]
  },
  {
   "cell_type": "markdown",
   "id": "2f2ccc52-0605-4aef-97c2-11432d6ba62e",
   "metadata": {},
   "source": [
    "___\n",
    "\n",
    "Last modified on 3/12/2024 by R. Kawai"
   ]
  }
 ],
 "metadata": {
  "kernelspec": {
   "display_name": "jbook",
   "language": "python",
   "name": "jbook"
  },
  "language_info": {
   "codemirror_mode": {
    "name": "ipython",
    "version": 3
   },
   "file_extension": ".py",
   "mimetype": "text/x-python",
   "name": "python",
   "nbconvert_exporter": "python",
   "pygments_lexer": "ipython3",
   "version": "3.10.13"
  }
 },
 "nbformat": 4,
 "nbformat_minor": 5
}