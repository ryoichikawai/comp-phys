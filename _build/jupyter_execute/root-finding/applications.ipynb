{
 "cells": [
  {
   "cell_type": "markdown",
   "id": "c7447ddd-0b7e-4e36-a437-7ccf9d1b4a08",
   "metadata": {},
   "source": [
    "# Application in Physics"
   ]
  },
  {
   "cell_type": "markdown",
   "id": "a882785d-7aaa-46e5-b650-483a7b67206b",
   "metadata": {},
   "source": [
    "In  physics, the root finding appears everywhere.  It is often a starting point of complicated numerical investigation.  In this section, a variety of physics applications from classical mechanics, statistical mechanics, quantum mechanics, and nonlinear dynamics are introduced.  Some of the results obtained in this section will be used in later chapters."
   ]
  },
  {
   "cell_type": "markdown",
   "id": "47169d27-08b6-4fa8-aea7-dfb753d6f588",
   "metadata": {},
   "source": [
    "* **Classical turning points** ({numref}`app:turning-points`)   A classical particle is bound in a potential and oscillates between two turning points.  In principle the period of the oscillation can be computed but we need to know the turning points which are determined by finding roots of an equation based on the law of energy conservation.\n",
    "* **Closest approach in a classical scattering** ({numref}`app:closet-approach`)   A classical particle collides with another particle.  Given an interaction potential, the scattering angle can be computed but we need the closest distance between the particles during the collision.  Finding the closest approach is essentially the same as the finding the turning point in the previous application. It is a root of an equation based on the law of energy conservation.\n",
    "* **Energy of a quantum particle bound in a square potential** ({numref}`app:qm-bound-states`) A quantum particle is bound in a square well potential.  We can analytically solve the corresponding Schr&ouml;dinger equation up to a root finding problem.  Since the equation is transcendental and we solve it numerically.\n",
    "* **Ferromagnetic phase transition in an Ising system** ({numref}`app:ising-ferromagnet`)  Ferromagnetic phase transition of Ising systems in 3-dimension or above is mathematically complicated and no analytic solution is known.  Using a mean field approximation, we can analytical derive a transcendental equation which the magnetization satisfies.  The bifurcation of the magnetization can be obtained by using a numerical root finding method."
   ]
  }
 ],
 "metadata": {
  "kernelspec": {
   "display_name": "jbook",
   "language": "python",
   "name": "jbook"
  },
  "language_info": {
   "codemirror_mode": {
    "name": "ipython",
    "version": 3
   },
   "file_extension": ".py",
   "mimetype": "text/x-python",
   "name": "python",
   "nbconvert_exporter": "python",
   "pygments_lexer": "ipython3",
   "version": "3.10.13"
  }
 },
 "nbformat": 4,
 "nbformat_minor": 5
}