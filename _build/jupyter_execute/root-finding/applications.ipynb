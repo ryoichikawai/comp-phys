{
 "cells": [
  {
   "cell_type": "markdown",
   "id": "c7447ddd-0b7e-4e36-a437-7ccf9d1b4a08",
   "metadata": {},
   "source": [
    "# Application in Physics"
   ]
  },
  {
   "cell_type": "markdown",
   "id": "a882785d-7aaa-46e5-b650-483a7b67206b",
   "metadata": {},
   "source": [
    "In  physics, the root finding appears everywhere.  It is often a starting point of complicated numerical investigation.  In this section, a variety of physics applications from classical mechanics, statistical mechanics, quantum mechanics, and nonlinear dynamics are introduced.  Some of the results obtained in this section will be used in later chapters."
   ]
  },
  {
   "cell_type": "code",
   "execution_count": null,
   "id": "f716443f-4365-4475-8c32-10d5b8664ed8",
   "metadata": {},
   "outputs": [],
   "source": []
  }
 ],
 "metadata": {
  "kernelspec": {
   "display_name": "jbook",
   "language": "python",
   "name": "jbook"
  },
  "language_info": {
   "codemirror_mode": {
    "name": "ipython",
    "version": 3
   },
   "file_extension": ".py",
   "mimetype": "text/x-python",
   "name": "python",
   "nbconvert_exporter": "python",
   "pygments_lexer": "ipython3",
   "version": "3.10.0"
  }
 },
 "nbformat": 4,
 "nbformat_minor": 5
}