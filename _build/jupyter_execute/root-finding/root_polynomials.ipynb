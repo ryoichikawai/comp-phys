{
 "cells": [
  {
   "cell_type": "markdown",
   "id": "f2d81195-e411-4c05-9915-df7e97ccf8ba",
   "metadata": {},
   "source": [
    "(sec_roots_polynomials)=\n",
    "# Roots of Polynomials"
   ]
  },
  {
   "cell_type": "raw",
   "id": "369bdab2-f2be-4a12-9d44-9c41d1d9f669",
   "metadata": {},
   "source": [
    "The roots of quadratic, cubic and quartic polynomials can be expressed in closed forms.  As we discussed in {numref}`sec_roots_quadratic`, we need to be careful about the numerical errors.  The cubic, and quadratic equations also suffer from the numerical errors.   For higher order polynomials, there are chances that we can find analysical solutions depending on the coefficients. Otherwise, we use a numerical method.  WE first try to find exact solutions using  `sympy` which has ability to calculate symbolically like Mathematica and also evaluate the results numerically,"
   ]
  },
  {
   "cell_type": "markdown",
   "id": "2373fa97-6d59-460f-a65c-721b9637e687",
   "metadata": {},
   "source": [
    "**Example**\n",
    "\n",
    "Let us find the roots of $x^3 - 6 x^2 + 11 x -6$.  You can factorize it as $(x-1)(x-2)(x-3)$ and thus the roots are obviously 1,2, and 3.  Let us find them using `sympy`."
   ]
  },
  {
   "cell_type": "code",
   "execution_count": 8,
   "id": "a6baa0a0-8c01-4367-b374-8712f274304f",
   "metadata": {},
   "outputs": [
    {
     "name": "stdout",
     "output_type": "stream",
     "text": [
      "[1, 2, 3]\n"
     ]
    }
   ],
   "source": [
    "# We use sympy package\n",
    "from sympy import symbols, poly\n",
    "\n",
    "# define the symbol of the variable\n",
    "x = symbols(\"x\")\n",
    "\n",
    "# find the root of the polynomial\n",
    "roots = poly(x**3 - 6*x**2 + 11*x - 6).all_roots()\n",
    "\n",
    "print(roots)"
   ]
  },
  {
   "cell_type": "markdown",
   "id": "52d37cd9-34e5-44a2-a0ba-5bfe306eaab8",
   "metadata": {},
   "source": [
    "where `poly` module defines the polynomial and `all_roots` is a method that belongs to  the object `poly`.\n",
    "OK.  This was easy.  Try $$x^3 - 6 x^2 + 11 x -5$.  Factorization seems difficult for this polynomial."
   ]
  },
  {
   "cell_type": "code",
   "execution_count": 9,
   "id": "364f1dc6-bfb7-4f32-b728-b3c38c863a00",
   "metadata": {},
   "outputs": [
    {
     "name": "stdout",
     "output_type": "stream",
     "text": [
      "[CRootOf(x**3 - 6*x**2 + 11*x - 5, 0), CRootOf(x**3 - 6*x**2 + 11*x - 5, 1), CRootOf(x**3 - 6*x**2 + 11*x - 5, 2)]\n"
     ]
    }
   ],
   "source": [
    "# find the root of the second polynomial\n",
    "roots = poly(x**3 - 6*x**2 + 11*x - 5).all_roots()\n",
    "\n",
    "print(roots)"
   ]
  },
  {
   "cell_type": "markdown",
   "id": "f3e32d39-7a3f-487e-b5ba-ff5d4527ba56",
   "metadata": {},
   "source": [
    "This output means that `sympy` could not find the symbolic answers.  Now, we try get numerical roots."
   ]
  },
  {
   "cell_type": "code",
   "execution_count": 13,
   "id": "97caaba3-094c-4389-bdc8-5f74a12386cc",
   "metadata": {},
   "outputs": [
    {
     "name": "stdout",
     "output_type": "stream",
     "text": [
      "[0.675282042755254, 2.66235897862237 - 0.562279512062301*I, 2.66235897862237 + 0.562279512062301*I]\n"
     ]
    }
   ],
   "source": [
    "# numerically evaluate each root with 15 digits if accuracy\n",
    "nroots = [r.evalf(15) for r in roots]\n",
    "print(nroots)"
   ]
  },
  {
   "cell_type": "markdown",
   "id": "639284f8-c219-4ae2-a6a4-dfe16f37ea5a",
   "metadata": {},
   "source": [
    "where `evalf(15)` means evaluate the object in floating point with 15 digits of accuracy.  One of the output is a real root and two others are complex roots.  It looks so simple so far.  However, symbolic methods becomes very time consuming for higher degrees. It most likely fail above 20 degree. In the next section, general root-finding algorithms are introduced, which works for polynomials as well."
   ]
  },
  {
   "cell_type": "markdown",
   "id": "6a3ea78a-9cf4-4361-9570-2af878d121e9",
   "metadata": {},
   "source": [
    "\n",
    "___\n",
    "\n",
    "Last modified on 3/9/2024 by R. Kawai."
   ]
  }
 ],
 "metadata": {
  "kernelspec": {
   "display_name": "jbook",
   "language": "python",
   "name": "jbook"
  },
  "language_info": {
   "codemirror_mode": {
    "name": "ipython",
    "version": 3
   },
   "file_extension": ".py",
   "mimetype": "text/x-python",
   "name": "python",
   "nbconvert_exporter": "python",
   "pygments_lexer": "ipython3",
   "version": "3.10.13"
  }
 },
 "nbformat": 4,
 "nbformat_minor": 5
}