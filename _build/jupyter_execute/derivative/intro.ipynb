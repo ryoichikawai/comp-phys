{
 "cells": [
  {
   "cell_type": "markdown",
   "id": "e9803f34-48f3-4261-a6ac-425856a8252b",
   "metadata": {},
   "source": [
    "(chap_derivative)=\n",
    "# Numerical Derivative"
   ]
  },
  {
   "cell_type": "markdown",
   "id": "41f868ac-c44d-442b-9af4-1c1e5aa7ea5a",
   "metadata": {},
   "source": [
    "When we study physics, we often investigate the change of certain quantities.  That is why basic calculus plays a major role in physics.  Evaluating the derivative of a function $f(x)$ is an ubiquitous operation in physics.  However, an analytical expression of the derivative is not always available.  Then, a numerical method must be deployed to evaluate it.  That is not only the reason we need numerical derivative.  In some cases an analytical expression of the function itself is not available.  For example, when a function is experimentally obtained by measurement, it is given as a set of numerical data, $(x_i, f_i),\\, i=1, \\cdots, N$.  Then, analysis of such data is always numerical.  There are many algorithms for numerical derivative.  In this chapter, we study some of well-known algorithms useful for studying physics.\n",
    "\n",
    "Numerical methods are in general not exact and involve systematic errors.  Understanding the source of errors and their magnitude is very important.  It is possible to estimate the magnitude of expected errors based on mathematical analysis and the study of numerical error is an important part of numerical analysis.  We will investigate the degrees of errors through theory and examples.\n",
    "\n",
    "In this section, we assume that an analytical expression of function $f(x)$ is given and that we can numerically evaluate it at any point $x$. Furthermore, we assume that the numerical error in the evaluation of the function is negligibly small.  In other words, the main errors arises from the numerical algorithm of derivative.\n"
   ]
  },
  {
   "cell_type": "code",
   "execution_count": null,
   "id": "a5a4c9c1-6970-4f93-8824-11f1f6d26ed3",
   "metadata": {},
   "outputs": [],
   "source": []
  }
 ],
 "metadata": {
  "kernelspec": {
   "display_name": "Python 3 (ipykernel)",
   "language": "python",
   "name": "python3"
  },
  "language_info": {
   "codemirror_mode": {
    "name": "ipython",
    "version": 3
   },
   "file_extension": ".py",
   "mimetype": "text/x-python",
   "name": "python",
   "nbconvert_exporter": "python",
   "pygments_lexer": "ipython3",
   "version": "3.10.0"
  }
 },
 "nbformat": 4,
 "nbformat_minor": 5
}