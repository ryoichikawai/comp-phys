{
 "cells": [
  {
   "cell_type": "markdown",
   "id": "94553786-a509-4de5-aa36-6dad4b76e7c6",
   "metadata": {},
   "source": [
    "(sec-h-adaptaion)=\n",
    "# Adaptation of step size"
   ]
  },
  {
   "cell_type": "markdown",
   "id": "27b342b1-f4b2-404e-bca8-1e21229f1937",
   "metadata": {},
   "source": [
    "## Estimation of nuemrical errors"
   ]
  },
  {
   "cell_type": "markdown",
   "id": "d40af9b9-bf22-468e-b63c-48cb388b35f3",
   "metadata": {},
   "source": [
    "In the previous section, we are able to see good values of $h$ because we know the exact derivative.  In practice, we don't know the actual error and therefore we cannot use a plot like the right plot of Example 2.1.1 to find an appropriate value for $h$. Equation eq}`eq_mean_diff` suggests that the leading error is given by $\\frac{|f^{(3)}|}{3!} h^2$. Unless we know the third order derivative, we still don't know the magnitude of error.  However, we can estimate it numerically. Suppose that we calculate the derivative using two different vales of step sizes, $h$ and $h'=h/2$.  We expect that the output is more accurate with $h'$ than $h$. Using Eq. {eq}`eq_mean_diff`, the change of the mean finite difference is given by\n",
    "\n",
    "$$\n",
    "\\left | \\Delta_\\text{M} f(x) - \\Delta'_\\text{M} f(x) \\right | \\approx \\frac{|f^{(3)}|}{3!} \\frac{3}{4} h^2 = \\frac{3}{4} \\times  \\left [ \\text{error in } \\Delta_\\text{M} f(x) \\right ]\n",
    "$$\n",
    "\n",
    "which suggests that the error is estimated by\n",
    "\n",
    "$$\n",
    "\\text{Error in }\\Delta_M f(x) \\approx  \\left | \\Delta_\\text{M} f(x) - \\Delta'_\\text{M} f(x) \\right |\n",
    "$$(eq_diff_error)\n",
    "\n",
    "Note that the exact value of $f'(x)$ is not needed to find the error.  The right handside can be interpreted as the improvement of the nemerical derivative due to a smaller step size.  If there is not much improvement, there is no point to use a further smaller step size.\n",
    "\n",
    "Based on this error estimate,  we can write a code that automatically finds numerical derivative with a desired accuracy using the error estimate.  \n"
   ]
  },
  {
   "cell_type": "markdown",
   "id": "49e95d34-c327-492e-baaf-3236d035a9cd",
   "metadata": {},
   "source": [
    "## Adaptation of step size\n",
    "\n",
    "What is the best step size?  As we saw in the previous section, the result is not accurate if $h$ is too large.  On the other hand, if $h$ is too small, the result is again bad.  We can find an optimal step size based on the estimated error {eq}`eq_diff_error`."
   ]
  },
  {
   "cell_type": "markdown",
   "id": "99ccbb1d-c5ea-448f-9ee4-389d45dfc4fd",
   "metadata": {},
   "source": [
    "```{admonition} Alrgorithm 2.2.1  Automatic adaptation of step size\n",
    "\n",
    "1. Set a value of \\textit{tolerance} (allowed error).\n",
    "2. Set a reference step size $h_1$ and evaluate a reference derivative $g_1 = \\Delta_\\text{M} f(x)$ using $h_1$.\n",
    "3. Set a new step size $h_2=h_1/2$ and evaluate a new derivative $g_2 = \\Delta_\\text{M} f(x)$ using $h_2$.\n",
    "4.Evaluate error $\\delta = |g_2-g_1|$.\n",
    "5. If $\\delta < \\text{tolerance}$, $g_2$ is the desired result.  Stop the loop.\n",
    "6. If not, let $g_1=g_2$ and $h_1=h_2$ (previous $g_2$ and $h_2$ are now the reference).\n",
    "6. Go back to Step 3.\n",
    "```"
   ]
  },
  {
   "cell_type": "markdown",
   "id": "5537a943-2b0c-40a5-8b70-20696804d0bc",
   "metadata": {},
   "source": [
    "Here the absolute error is used.  We can also use a relative error $\\left |\\displaystyle \\frac{g_2 - g_1}{g_1} \\right |$ instead. Then, the tolerance specifies a desired relative error. "
   ]
  },
  {
   "cell_type": "markdown",
   "id": "c8020bc9-0b53-4e7f-a675-430afe58c339",
   "metadata": {},
   "source": [
    "**Example 2.2.1**\n",
    "\n",
    "Let us calculat the same problem as Example 2.1.1.  We numerically evaluate the derivative of  $f(x)=\\displaystyle\\frac{1}{3}x^3$ at $x=1$ again.  This time, we do not specify the step length $h$. Instead we specify a tolerance and the program will automatically find an appropriate $h$ for the given tolerance. Let the absolute error tolerance be 0.001. "
   ]
  },
  {
   "cell_type": "code",
   "execution_count": 5,
   "id": "b1d624aa-691b-4196-8967-eda284292be4",
   "metadata": {
    "tags": []
   },
   "outputs": [
    {
     "name": "stdout",
     "output_type": "stream",
     "text": [
      "    h         derivative         error      \n",
      " 5.000e-01 1.0833333333e+00 2.5000000000e-01\n",
      " 2.500e-01 1.0208333333e+00 6.2500000000e-02\n",
      " 1.250e-01 1.0052083333e+00 1.5625000000e-02\n",
      " 6.250e-02 1.0013020833e+00 3.9062500000e-03\n",
      " 3.125e-02 1.0003255208e+00 9.7656250000e-04\n",
      "Tolerance is OK.\n"
     ]
    }
   ],
   "source": [
    "import numpy as np\n",
    "import matplotlib.pyplot as plt\n",
    "           \n",
    "def func(x):  # define a function\n",
    "    return x**3/3\n",
    "    \n",
    "tol=0.001\n",
    "\n",
    "x=1.0\n",
    "h=1.0   # initial interval\n",
    "diff_old=(func(x+h)-func(x-h))/(2.0*h)  #  derivative first try\n",
    "delta=np.finfo(float).max  # any value bigger than tol is OK.\n",
    "    \n",
    "print(\"{0:^10} {1:^16} {2:^16}\".format('h','derivative','error'))\n",
    "while (delta>tol):\n",
    "    h=h/2.0\n",
    "    diff_new=(func(x+h)-func(x-h))/(2.0*h)  # improved derivative\n",
    "    delta=np.abs(diff_new-diff_old)\n",
    "    print(\"{0:10.3e} {1:16.10e} {2:16.10e}\".format(h,diff_new,delta))\n",
    "    diff_old=diff_new\n",
    "            \n",
    "print(\"Tolerance is OK.\")"
   ]
  },
  {
   "cell_type": "markdown",
   "id": "4a6132bd-6776-4ac3-bae1-dd56b65f3338",
   "metadata": {},
   "source": [
    "The calculation found that $h=3.125 \\times 10^{-2}$ produces the derivative with four significant figures.\n",
    "\n",
    "*Exercise*  Solve the same problem with the relative error with tolerance 0.0001."
   ]
  },
  {
   "cell_type": "markdown",
   "id": "5517d7fe-6db2-48df-94bb-aaa2ed6e2ed9",
   "metadata": {},
   "source": [
    "\n",
    "---\n",
    "Last modified on 2/14/2024 by R. Kawai"
   ]
  }
 ],
 "metadata": {
  "kernelspec": {
   "display_name": "jbook",
   "language": "python",
   "name": "jbook"
  },
  "language_info": {
   "codemirror_mode": {
    "name": "ipython",
    "version": 3
   },
   "file_extension": ".py",
   "mimetype": "text/x-python",
   "name": "python",
   "nbconvert_exporter": "python",
   "pygments_lexer": "ipython3",
   "version": "3.10.13"
  }
 },
 "nbformat": 4,
 "nbformat_minor": 5
}