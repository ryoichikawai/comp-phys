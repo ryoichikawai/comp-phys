{
 "cells": [
  {
   "cell_type": "markdown",
   "id": "b15f79cf-6e93-4f35-974f-4d5483e9d4aa",
   "metadata": {},
   "source": [
    "(ch:ODE)=\n",
    "# Ordinary Differential Equations"
   ]
  },
  {
   "cell_type": "markdown",
   "id": "9dbc9e34-74c8-4e3b-a128-a0ab7607dd7f",
   "metadata": {},
   "source": [
    "Many physics theories are expressed in various forms of ordinary differential equations(ODE). \n",
    "For example, Newton's equations of motion are written as ODE.  Ordinary classical mechanics textbooks solve example problems analytically.  In practice, however, the majority of problems cannot be solved analytically because Newton's equations are non-linear except for simple cases such as free falling and harmonic oscillators.  The motion of a planet (Kepler problem) is a very special case where analytical solution is possible despite of the non-linearity. For almost all practical problems, we resort to numerical methods.\n",
    "\n",
    "An ODE generally allows infinitely many different solutions. We want to find a solution that matches to given conditions.  The conditions  known as boundary conditions determine a specific solution.  In physics there are two  types of the boundary conditions.  When we want to find a time evolution of physical quantities, we solve ODEs with initial conditions.  Initial conditions are a kind of boundary condition given at a single point in time.  When we want to know a spatial profile of physical quantities, we usually specify conditions at two points in space. Eigenvalue problems expressed in differential equation forms belong to the latter type of boundary conditions.  The former is called initial value problem and the latter boundary value problem.  In numerical calculation, these two problems are quite different.  In this chapter we three types of ODEs:\n",
    "\n",
    "* Initial value problems: {numref}`sec:ode-initial-value-problems`\n",
    "* Boundary value problems: {numref}`sec:ode-boundary-value-problems`\n",
    "* Eigenvalue problems: {numref}`sec:ode-eigenvalue-problems`"
   ]
  },
  {
   "cell_type": "code",
   "execution_count": null,
   "id": "7127a8a5-0d26-4a64-b456-6c534bb20b3c",
   "metadata": {},
   "outputs": [],
   "source": []
  }
 ],
 "metadata": {
  "kernelspec": {
   "display_name": "jbook",
   "language": "python",
   "name": "jbook"
  },
  "language_info": {
   "codemirror_mode": {
    "name": "ipython",
    "version": 3
   },
   "file_extension": ".py",
   "mimetype": "text/x-python",
   "name": "python",
   "nbconvert_exporter": "python",
   "pygments_lexer": "ipython3",
   "version": "3.10.13"
  }
 },
 "nbformat": 4,
 "nbformat_minor": 5
}