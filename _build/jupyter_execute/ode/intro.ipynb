{
 "cells": [
  {
   "cell_type": "markdown",
   "id": "b15f79cf-6e93-4f35-974f-4d5483e9d4aa",
   "metadata": {},
   "source": [
    "(ch:ODE)=\n",
    "# Ordinary Differential Equations"
   ]
  },
  {
   "cell_type": "code",
   "execution_count": null,
   "id": "fe67cab5-d868-4178-ae82-0b8c71890098",
   "metadata": {},
   "outputs": [],
   "source": []
  }
 ],
 "metadata": {
  "kernelspec": {
   "display_name": "jbook",
   "language": "python",
   "name": "jbook"
  },
  "language_info": {
   "codemirror_mode": {
    "name": "ipython",
    "version": 3
   },
   "file_extension": ".py",
   "mimetype": "text/x-python",
   "name": "python",
   "nbconvert_exporter": "python",
   "pygments_lexer": "ipython3",
   "version": "3.10.13"
  }
 },
 "nbformat": 4,
 "nbformat_minor": 5
}