{
 "cells": [
  {
   "cell_type": "markdown",
   "id": "152eaf5f-a30d-43d0-b0d4-7246e45375da",
   "metadata": {},
   "source": [
    "(sec:ode-initial-value-problems)=\n",
    "# Initial Value Problems"
   ]
  },
  {
   "cell_type": "markdown",
   "id": "9bd240b6-4c3f-4e26-9fef-2a9e174ba70b",
   "metadata": {},
   "source": [
    "Consider a physical quantity $\\mathbf{x}$, which is usually scalar or vector in physics but can be any collection of quantities.  It is a function of a single parameter $t$, which is often time in physics and thus we shall call *time* in this section.  However, it can be an other kind of parameter. Laws of physics provides a relation among, $t$, $\\mathbf{x}(t)$ and its derivatives, usually up to the second order, in a form of differential equation.  We want find an explicit expression of $\\mathbf{x}(t)$ from the differential equation.   In this section, we focus on a particular situation where $\\mathbf{x}(t)$ and optionally its derivatives are known at a certain time $t_0$\n",
    "\n",
    "We begin with first-order ODEs expressed in a standard form:\n",
    "\n",
    "$$\n",
    "\\dot{\\mathbf{x}} = \\mathbf{F}(\\mathbf{x},t) \n",
    "$$\n",
    "\n",
    "where $\\mathbf{F}$ is a function of $\\mathbf{x}$ and $t$.  We assume that the ODE has a unique solution. To solve it, we need to know $\\mathbf{x}$ at some point $t=t_0$.  Usually, $t_0$ is an initial time and we want to know $\\mathbf{x}(t)$ for $t>t_0$.  However, $t_0$ can be any point in time from which we can find solution for $t < t_0$ as well.  Once $\\mathbf{x}(t_0)$ is given, we can find $x$ at any point $t$.  We \n",
    "\n",
    "\n",
    "Second order ODEs are also popular in physics, for example the Newton's equations of motion.  They are usually expressed as\n",
    "\n",
    "$$\n",
    "\\ddot{\\mathbf{x}} = \\mathbf{F}(\\mathbf{x},\\dot{\\mathbf{x}},t)\n",
    "$$\n",
    "\n",
    "Two initial conditions, usually $\\mathbf{x}(t_0)$ and $\\dot{\\mathbf{x}}(t_0)$, are required to solve this equation.  The two conditions can be specified at two different points $\\mathbf{x}(t_0)$ and $\\mathbf{x}(t_1)$, which will be discussed in {numref}`sec:ode-boundary-value-problems`.\n",
    "In general, the second order ODEs of this kind can be transformed to a pair of first order ODEs. Therefore, numerical methods for the first order ODEs can be used to solve the second order ODEs as well.  However, there are also algorithms specific to the second order ODEs such as the Verlet argorithm, which can be more efficient in certain applications.\n"
   ]
  },
  {
   "cell_type": "markdown",
   "id": "ebcc282c-d98b-4d23-b427-d479dbfd1c42",
   "metadata": {},
   "source": [
    "## First Order ODEs\n",
    "\n",
    "For simplicity, we focus on the first order ODE of a single scalar variable $x$ for a while. Multivariable cases will be discussed in the later subsections. More specifically, we want to solve the following type of ODE:\n",
    "\n",
    "$$\n",
    "\\dot{x} = F(x,t)\n",
    "$$(eq:ode-1d)\n",
    "\n",
    "for a given function $F(x,t)$ and an initial condition $x(t_0)$ .  The exact solution is a continuous function $x(t)$ for a time period from an initial time $t_0$ to a final time $t_F$.  However, in the computer we work with discrete time $t_n = t_0 + n h,\\, n=0, \\cdots, N$ where $h$ is a time step defined by $h=\\displaystyle\\frac{t_F-t_0}{N}$.  The numerical solution is expressed as a sequence $x(t_0), x(t_1), x(t_2), \\cdots, x(t_N)$.  For convenience, we simplify the expression them as $x_{n} \\equiv x(t_n)$ and also $F_n = F(x_n,t_n)$.  Our goal is to develop numerical algorithms to predict $x_{n+1})$  knowing the previous points $x_n$. We can construct the whole sequence by repeating the procedure recursively starting from $x_0$.   \n",
    "\n",
    "To develop numerical methods to solve the ODE {eq}`eq:ode-1d`, we use several mathematical tools. First, the Taylor expansion:\n",
    "\n",
    "$$\n",
    "x_{n+1} = x(t_n+h) = x(t_n) + \\dot{x}(t_n) h + \\ddot{x}(t_n) \\frac{h^2}{2} + \\cdots\n",
    "$$(eq:ode-taylor1a)\n",
    "\n",
    "is quite useful.\n",
    "\n",
    "We rewrite the ODE in a different mathematical form suitable for the development of numerical methods.  The basic idea is to construct a recursive equation.  There are two common approaches, one based on the [mean value theorem](https://en.wikipedia.org/wiki/Mean_value_theorem) and the other on integral equation. \n",
    "The mean value theorem states that there exist $c$ in $(a,b)$ such that $f'(c) = \\displaystyle\\frac{f(b)-f(a)}{b-a}$ where $f'(x) = \\frac{d f}{d x}$.  Applying it to our problem, there exists $s \\in (t_n,t_{n+1})$ such that \n",
    "\n",
    "$$\n",
    "\\frac{x(t_{n+1}) - x(t_{n})}{h} = \\dot{x}(s) = F\\left[x(s),s\\right],\\quad t_n < s < t_{n+1}.\n",
    "$$(eq:ode-taylor1b)\n",
    "\n",
    "from which we write the future point $x_{n+1}$ as\n",
    "\n",
    "$$\n",
    "x_{n+1} = x_n + h F\\left[x(s),s\\right]\n",
    "$$(eq:ode-mean-value)\n",
    "\n",
    "This equation is still not computable since we don't know the value of $s$ and $x(s)$ in the right hand side.  We need to invent an approximation to estimate $F(x(s),s)$. The second approach is to rewrite the ODE in a form of integral.  Integrating the both sides of the ODE, we obtain\n",
    "\n",
    "$$\n",
    "x_{n+1} = x_n + \\int_{t_n}^{t_{n+1}} F[x(s),s]\\, ds\\, .\n",
    "$$(eq:ode-integral)\n",
    "\n",
    "which is another exact relation.  To carry out the integral we need to know $x(s)$ but it is the solution of the ODE we are tying to find. Therefore, we need a method to approximately estimate the integral without the knowledge of $x(s)$.\n",
    "\n",
    "The two expressions, {eq}`eq:ode-mean-value` and {eq}`eq:ode-integral`, are mathematically equivalent since there is $s \\in (t_n,t_{n+1})$  such that $\\int_{a}^{b} f(x) dx = (b-a) f(s)$.  At the end the both approaches reach the same outcome. However, the two approaches provide different visual interpretations. Looking at the same problem from two different views may help us to develop a better approximation for a higher accuracy. In either approach, we construct a recursive equation and we obtain the solution $x(t_0), x(t_1), x(t_2), \\cdots, x(t_N)$ one by one recursively.  To do so, we must find a good estimate of $F\\left[x(t),t\\right]$ for the interval $(t_n,t_{n+1})$.   \n"
   ]
  },
  {
   "cell_type": "markdown",
   "id": "56c644ae-b3b7-44ee-a559-1973f3d14a56",
   "metadata": {},
   "source": [
    "### Euler method\n",
    "\n",
    "We being with the simplest method which may not be useful in practical applications but gives us some idea of how numerical integration of an ODE works. Consider the Tayler expansion {eq}`eq:ode-taylor1a`.  If $h$ is small enough, we can ingnore the terms of order $h^2^ and higher, then we have\n",
    "\n",
    "$$\n",
    "x(t_n+h) = x(t_n) + \\dot{x}(t_n) h + \\mathcal{O}(h^2)\n",
    "$$(eq:euler-rule)\n",
    "\n",
    "Using the ODE, we replace $\\dot{x}(t_n)$ with $F(x(t_n),t_n)$ which leads to a recursive equation\n",
    "\n",
    "$$\n",
    "x_{n+1} = x_n + F_n\\, h\n",
    "$$(eq:euler-rule)\n",
    "\n",
    "where $\\mathcal{O}(h^2)$ ignored.  The recursive equation is known as the Euler rule .  The visual interpretation of the Euler method is quite simple.  First we assumes that the curve $x(t)$ is approximately a straight line between $t_n$ and $t_{n+1}$.  The slope of the curve is unknown except at $t_n$.  So, we just use $\\dot{x}(t_n) = F_n$ as the slope. (See the right panel of {numref}`fig:euler-ode`.)\n",
    "We further justify the Euler method using the forward finite difference approximation of derivative ({numref}`sec:finite-diff`). Substituting the forward finite difference method, $\\dot{x}(t_n) = (x_(t_n+h)-x(t_n))/h$ to the ODE, we obtain {eq}`eq:euler-rule`.  Hence the Euler method is equivalent to use the forward finite difference method to evaluate the derivative in the ODE. \n",
    "From the prospect of Eq. {eq}`eq:ode-mean-value`, the unknown $s$ is replaced with $t_n$, which is exactly the forward finite difference method. \n",
    "In {eq}`eq:ode-integral`, the integral is approximated by the rectangular rule ({numref}`sec:piecewise-integral`) as illustrated in the left panel of {numref}`fig:euler-ode`.\n",
    "\n",
    "To get the whole sequence $\\{x_n\\}$ starting from the initial value, $x_0$, we first evaluate $F_0=F(x_0,t_0)$.  Then, $x_1$ is predicted by Eq. {eq}`eq:euler-rule`.\n",
    "Using this procedure recursively, we obtain the whole sequence from $x_0$ to $x_N$.  This method is known as the Euler method.\n",
    "\n",
    "Earlier, we learned that neither the forward finite different method nor the rectangular rule is accurate enough in practical applications. Therefore, we don't expect that the Euler method is a good method. From the Tayler exapansion, the order of error is $h^2$ for each step.\n",
    "After $N$ iteration, the global error becomes $N \\mathcal{O}(h^2) \\sim \\mathcal{O}(h)$.  We hope that this is a good approximation with a sufficiently small $h$. However, the order $h$ of error is not acceptable and thus the Euler method is not good enough in practice. \n"
   ]
  },
  {
   "cell_type": "markdown",
   "id": "c6709144-31e6-49b8-bd0b-b2ff7b0c5e77",
   "metadata": {},
   "source": [
    "```{figure} euler-ode.webp\n",
    ":name: fig:euler-ode\n",
    "Illustration of the Euler method.  *Left*: The blue line represents the integrand of Eq. {eq}`eq:ode-integral` which is unknown to us. Assuming that $F_n$ is on the exact curve, we approximate the integral (the shaded area) by the rectangular rule (the area of the blue rectangle) discussed in {numref}`sec:piecewise-integral`.  The unaccounted area is proportional to $h^2$.  *Right*: Using the slope of the curve at $t_n$,  we extrapolate next point $x_{n+1}$ assuming the curve is close to the straight line (red line). This is equivalent to use the forward finite difference method of the first order derivative discussed in {numref}`sec:finite-diff`.  Note that even if $x_n$ is on the exact curve, $x_{n+1}$ is not.  The error is clearly visible.\n",
    "```"
   ]
  },
  {
   "cell_type": "markdown",
   "id": "ae21c6fb-41ad-4e09-935a-a9b9362159c2",
   "metadata": {},
   "source": [
    "```{admonition} Algorithm 6.1.1:  Euler method\n",
    "\n",
    "1. Set the total period $T$ and the number of steps $N$\n",
    "2. Calculate the step size $h=\\displaystyle\\frac{T}{N}$.\n",
    "3. Set the initial condition $x_0$ and $t_0=0$.\n",
    "4. Starting with $n=0$, repeat the following $N$ times\n",
    "   1. Evaluate the function $F_n=F(x_n,t_n)$.\n",
    "   2. Calculate a new point $x_{n+1}=x_n+F_n h$.\n",
    "   3. Increment the step: $n=n+1$.\n",
    "```"
   ]
  },
  {
   "cell_type": "markdown",
   "id": "9e7233f4-6bb8-45b5-aea2-34e0f4adcd58",
   "metadata": {},
   "source": [
    "### Predictor-Corrector Method\n",
    "\n",
    "One way to raise the accuracy of the Euler method is to use a more accurate slope.  Consider another Taylor expansion around $t_{n+1}$ with the negative step $-h$:\n",
    "\n",
    "$$\n",
    "x(t_n) = x(t_n+h) - \\dot{x}(t_n+h) h + \\ddot{x}(t_n+h) \\frac{(-h)^2}{2} + \\cdots.\n",
    "$$(eq:ode-taylor2)\n",
    "\n",
    "Subtract Eq. {eq}`eq:ode-taylor2` from Eq. {eq}`eq:ode-taylor1a` and rearrange the result, we find\n",
    "\n",
    "$$\n",
    "x_{n+1} = x_n + \\frac{h}{2}[\\dot{x}(t_n)+\\dot{x}(t_{n+1})] + \\frac{h^2}{4}[\\ddot{x}(t_n) - \\ddot{x}(t_{n+1})] + \\cdots =  x_n + \\frac{h}{2}[\\dot{x}(t_n)+\\dot{x}(t_{n+1})] + \\mathcal{O}(h^3)\n",
    "$$\n",
    "\n",
    "where we used $\\ddot{x}(t_n) - \\ddot{x}(t_{n+1}) \\sim \\mathcal{O}(h)$.  Replacing $\\dot{x}$ with $F(x,t)$, we obtain a relation similar to the Euler rule {eq}`eq:euler-rule`:\n",
    "\n",
    "$$\n",
    "x_{n+1} = x_n + \\frac{ F_n + F_{n+1} }{2} h.\n",
    "$$(eq:ode-implicit)\n",
    "\n",
    "Comparing this equation with the Euler rule {eq}`eq:euler-rule`, the slope  $F_n$ is replaced with the average of the current slope $F_n$ and future slope $F_{n+1}$ (the right panel of {numref}`fig:predict-correct`.  The order of error is $h^3$, better than $h^2$ of the Euler method.\n",
    "\n",
    "From the view of {eq}`eq:ode-mean-diff`, the right hand side is replaced by the average:\n",
    "\n",
    "$$\n",
    "F(x(s),s) \\approx \\frac{1}{2}( F_n + F_{n+1} ).\n",
    "$$(eq:ode-mean-diff)\n",
    "\n",
    "Similarly, we can improve the accuracy of the integral in {eq}`eq:ode-integral` by using  the trapezoidal rule instead of the rectangular rule (see the left panel of {numref}`fig:predict-correct`):\n",
    "\n",
    "$$\n",
    "\\int_{t_n}^{t_{n+1}} F[x(t),t] dt \\approx \\frac{F_n + F_{n+1}}{2} h.\n",
    "$$(eq:ode-trapezoidal)\n",
    "\n",
    "In either approach, we obtain the same relation {eq}`eq:ode-implicit`.\n",
    "\n",
    "Unlike the Euler rule {eq}`eq:euler-rule`, Eq. {eq}`eq:ode-implicit` is implicit since the both sides contain future point $x_{n+1}$.  Solving it for $x_{n+1}$ is not a trivial task.  A common approach is the following iterative method. First we guess the solution, which we denote as $x^{(0)}_{n+1}$. Using it in the right hand side of {eq}`eq:ode-implicit`, we obtain a new prediction $x^{(1)}_{n+1}$.  Then, plug it in the right hand side again, we get another prediction $x^{(2)}_{n+1}$.  By repeating this procedure, the difference between the input and the output becomes negligible after a certain number of iterations, that is $x^{(k+1)}_{n+1} \\approx x^{(k)}_{n+1}$. We say that the input and the output is now self-consistent.  We can stop the iteration when a desired accuracy is achieved.  The iterative method is not stable and can go wrong after many iterations.  There are ways to stabilize the iteration which we will discuss in a later chapter.\n",
    "\n",
    "To apply the iterative method to the our problem, we use the Euler rule to get the good first guess: $x^{(0)}_{n+1} = x_n + F_n h$.  The output of the first iteration is \n",
    "\n",
    "$$\n",
    "x^{(1)}_{n+1} = x_n + \\frac{F(x_n,t_n) + F(x^{(0)}_{n+1},t_{n+1})}{2}h\n",
    "$$\n",
    "\n",
    "If the output is not accurate enough, we go to the next round.  Since {eq}`eq:ode-implicit` is valid only at the order of $h^3$, we don't have to iterate the procedure many times.  Anything better than the Euler rule is good enough.  Hence, no further iteration is necessary in the current approximation.  Now, we have a future point $x^{(1)}_{n+1}$, which is better than the Euler rule. \n",
    "\n",
    "In summary, we *predict* $x_{n+1}$ using the Euler method. Let the first slope $k_1 = F(x_n,t_n)$.  Then, $x^{(0)}_{n+1} = x_n + k_1 h$.  At the second step, we evaluate the second slope $k_2 = F(x^{(0)}_{n+1},t_{n+1}) = F(x_n + k_1 h, t_n)$ .  Then *correct* $x^{(0)}_{n+1}$ using the second slope by Eq. {eq}`eq:ode-implicit`.  The new $x_{n+1}$ is given by\n",
    "\n",
    "$$\n",
    "x^{(1)}_{n+1} \\approx x_n + \\frac{h}{2} (k_1 + k_2).\n",
    "$$(eq:ode-predictor-corrector)\n",
    "\n",
    "This is the \"predictor-corrector\" method.    The order of error at each step is determined by the trapezoidal rule, that is $\\mathcal{O}(h^3)$.   Thus the overall error is $N \\mathcal{O}(h^3) \\sim \\mathcal{O}(h^2)$."
   ]
  },
  {
   "cell_type": "markdown",
   "id": "461c1653-79ec-41b1-83ff-fab1dd050b48",
   "metadata": {},
   "source": [
    "```{figure} predict-correct.webp\n",
    ":name: fig:predict-correct\n",
    "Illustration of the predictor-corrector method.  *Left*: The blue line represents the integrand of Eq. {eq}`eq:ode-integral`, which is unknown to us. Assuming that we know both $F(x(t_n),t_n)$ and $F(x(t_{n+1}),t_{n+1})$, we approximate the integral by the trapezoidal rule discussed in {numref}`sec:piecewise-integral`.  The unaccounted area is proportional to $h^2$.  *Right*: Using the two slopes (two green lines) $\\dot{x}_n = F(x(t_n),t_n)$ and $\\dot{x}_{n+1} = F(x(t_{n+1}),t_{n+1})$,  we approximate $\\dot{x}(t)$ with the average of the two slopes.  This is equivalent to use the mean finite difference method of the first order derivative discussed in {numref}`sec:finite-diff`.\n",
    "```"
   ]
  },
  {
   "cell_type": "markdown",
   "id": "8a02df1b-2613-4aeb-82c0-3f3a36dad3f6",
   "metadata": {},
   "source": [
    "```{admonition} Algorithm 6.1.2:  Predictor-corrector method\n",
    "\n",
    "1. Set the total period $T$ and the number of steps $N$\n",
    "2. Calculate the step size $h=\\displaystyle\\frac{T}{N}$.\n",
    "3. Set the initial condition $x_0$ and $t_0=0$.\n",
    "4. Starting with $n=0$, repeat the following $N$ times\n",
    "   1. first slope: $k_1 = F(x_n,t_n)$\n",
    "   2. predictor: $x_{n+1} = x_n + k_1 h$.\n",
    "   2. second slope: $k_2 = F(x_{n+1},t_{n+1})$.\n",
    "   3. corrector: $x_{n+1}=x_n + \\displaystyle\\frac{h}{2} \\left ( k_1 + k_2 \\right )$.\n",
    "   4. Increment the step: $n=n+1$.\n",
    "```"
   ]
  },
  {
   "cell_type": "markdown",
   "id": "82ee841b-97eb-470a-a1e2-1b04a32e19f4",
   "metadata": {},
   "source": [
    "**Example** {numref}`%s.1 <sec:ode-initial-value-problems>`\n",
    "\n",
    "A particle of mass $m$ is dropped from rest under a uniform gravity $g$.  The drag force due to the presence of air is $-\\gamma v$ where $v$ is velocity and $\\gamma$ the frictional coefficient. The equation of motion is given by the Newton equation:\n",
    "\n",
    "$$\n",
    "m \\dot{v} = - \\gamma v - m g\n",
    "$$(eq:eom-free-falling)\n",
    "\n",
    "and its solution with the initial condition $v(0)=0$ is given by\n",
    "\n",
    "$$\n",
    "v(t) = \\frac{m g}{\\gamma} \\left ( e^{-\\gamma t} -1 \\right )\\,.\n",
    "$$\n",
    "\n",
    "where $-m g /\\gamma$ is the terminal velocity.\n",
    "\n",
    "Let us integrate the Newton equations using Euler and Predictor-Corrector methods and compare the results with the exact solution.  We integrate from $t=0$ to $t=10$ using the step size $h=0.01$.  As usual, we simplify the mathematical expression by normalizing quantities and reduce the number of parameters.  By normalizing the time as $\\tau =\\gamma t/m$ and introducing a new constant $\\xi = m  g \\gamma$, Eq. {eq}`eq:eom-free-falling` becomes $\\dot{v} = -v + \\xi$ where $\\dot{v} = \\frac{dv}{d\\tau}$.   Now, we have only one parameter $\\xi$ and the terminal velocity is given by $-\\xi$.\n",
    "\n"
   ]
  },
  {
   "cell_type": "code",
   "execution_count": 1,
   "id": "d982ef13-1a50-43a8-8158-beab04777728",
   "metadata": {},
   "outputs": [
    {
     "data": {
      "image/png": "[encoded data removed]",
      "text/plain": [
       "<Figure size 1000x400 with 2 Axes>"
      ]
     },
     "metadata": {},
     "output_type": "display_data"
    }
   ],
   "source": [
    "import numpy as np\n",
    "import matplotlib.pyplot as plt\n",
    "\n",
    "# parameter\n",
    "g=10.0\n",
    "\n",
    "# integration parameters\n",
    "tmax=10.  # maximum time\n",
    "N=1000   # maximum steps\n",
    "h=tmax/N # time step\n",
    "\n",
    "# set arrays\n",
    "v_ex=np.zeros(N+1)\n",
    "v_eu=np.zeros(N+1)\n",
    "v_pc=np.zeros(N+1)\n",
    "t=np.linspace(0,N,N+1)*h\n",
    "\n",
    "# intial condition\n",
    "v_ex[0]=0.0\n",
    "v_eu[0]=0.0\n",
    "v_pc[0]=0.0\n",
    "\n",
    "for i in range(0,N):\n",
    "    # Euler method\n",
    "    F = -v_eu[i] - g \n",
    "    v_eu[i+1] = v_eu[i] + F*h\n",
    "    \n",
    "    # Predictor-Corrector method\n",
    "    F= -v_pc[i] - g\n",
    "    v_pc[i+1] = v_pc[i] + F*h;  # predictor\n",
    "    F = -(v_pc[i]+v_pc[i+1])/2 - g\n",
    "    v_pc[i+1] = v_pc[i] + F*h   # corrector\n",
    "    \n",
    "    # Exact solution\n",
    "    v_ex[i+1] = g*(np.exp(-t[i+1])-1)\n",
    "\n",
    "plt.ioff()\n",
    "plt.figure(figsize=(10,4))\n",
    "\n",
    "# Plot the solutions\n",
    "plt.subplot(1,2,1);\n",
    "plt.axhline(y = -g, color = '0.8', linestyle = '--')\n",
    "plt.plot(t,v_ex,'-k',label='Exact')\n",
    "plt.plot(t,v_eu,'-b',label='Euler')\n",
    "plt.plot(t,v_pc,':r',label='Predictor-Corrector')\n",
    "\n",
    "plt.xlabel('t')\n",
    "plt.ylabel('v(t)')\n",
    "plt.legend(loc=1)\n",
    "\n",
    "# Plot the absolute errors\n",
    "plt.subplot(1,2,2)\n",
    "plt.semilogy(t,abs(v_eu-v_ex),'-b',label='Euler')\n",
    "plt.semilogy(t,abs(v_pc-v_ex),'-r',label='Predictor-Corrector')\n",
    "\n",
    "plt.xlabel('t')\n",
    "plt.ylabel('absolute error')\n",
    "plt.legend(loc=1)\n",
    "plt.show()"
   ]
  },
  {
   "cell_type": "markdown",
   "id": "2fb9e5a1-68c3-473a-b04a-8c118dc0f785",
   "metadata": {},
   "source": [
    "The left plots show that the trajectories of the two numerical methods agree with the exact trajectory at least in he naked eyes.  The right panel plots the absolute errors.  The predictor-corrector method is significantly better than the Euler method."
   ]
  },
  {
   "cell_type": "markdown",
   "id": "0b44f998-6fec-453a-8123-5333c8ee36ec",
   "metadata": {},
   "source": [
    "### 2nd-order Runge-Kutta Method\n",
    "\n",
    "The Runge-Kutta (RK) developed a systematic way to improve the accuracy of the numerical integration of ODEs based on the Taylor expansion. The expression of the method is not unique.  In fact, there are infinitely many expressions which produces the same outcome.  Here we introduce the most popular expression. The general theory of the RK method is a bit complicated and not discussed here.  We resort to a heuristic approach.\n",
    "\n",
    "This time we approximate the integral as\n",
    "\n",
    "$$\n",
    "\\int_{t_n}^{t_{n+1}} F(x(s),s) ds \\approx F(x_{n+1/2},t_{n+1/2}) h\n",
    "$$\n",
    "\n",
    "which is quite similar to the trapezoid rule. See Fig.  This approximation implies\n",
    "\n",
    "$$\n",
    "x_{n+1} \\approx x_n + h F_{n+1/2}.\n",
    "$$(eq:pre-rk2)\n",
    "\n",
    "To use this approximation, $F_{n+1/2}$ needs to be evaluate, which requires $x_{n+1/2}$. Hence, we need further approximation.  The simplest approach is to estimate it with the Eeuler method:\n",
    "\n",
    "$$\n",
    "x_{n+1/2} \\approx x_n + \\frac{h}{2} F_n\n",
    "$$\n",
    "\n",
    "Substitntuting this approximation to {eq}`eq:pre-rk2`, we obtain\n",
    "\n",
    "$$\n",
    "x_{n+1} \\approx x_n +  h F\\left(x_n+\\frac{h}{2} F_n,t_{n+1/2}\\right).\n",
    "$$ (eq:rk2)\n",
    "\n",
    "which is known as the second order Runge-Kutta method.  The error of this method is essentially the same as that of the predictor-corrector method.\n",
    "and thus the second order Runge-Kutta method is just as good (bad) as the predictor-corrector method and no particular advantage over it.\n",
    "\n"
   ]
  },
  {
   "cell_type": "markdown",
   "id": "80cea63c-9dce-4bb6-8e8e-d9fd00301aca",
   "metadata": {},
   "source": [
    "```{figure} rk2.webp\n",
    ":name: fig:rk2\n",
    "Illustration of the predictor-corrector method.  *Left*: The blue line represents the integrand of Eq. {eq}`eq:ode-integral`, which is unknown to us. Assuming that we know both $F(x(t_n),t_n)$ and $F(x(t_{n+1}),t_{n+1})$, we approximate the integral by the trapezoidal rule discussed in {numref}`sec:piecewise-integral`.  The unaccounted area is proportional to $h^2$.  *Right*: Using the two slopes (two green lines) $\\dot{x}_n = F(x(t_n),t_n)$ and $\\dot{x}_{n+1} = F(x(t_{n+1}),t_{n+1})$,  we approximate $\\dot{x}(t)$ with the average of the two slopes.  This is equivalent to use the mean finite difference method of the first order derivative discussed in {numref}`sec:finite-diff`.\n",
    "```"
   ]
  },
  {
   "cell_type": "markdown",
   "id": "b6cd83ea-ada4-45dc-8f43-c703f366b011",
   "metadata": {},
   "source": [
    "```{admonition} Algorithm 6.1.2:  2nd-order Runge-Kutta method\n",
    "\n",
    "1. Set the total period $T$ and the number of steps $N$\n",
    "2. Calculate the step size $h=\\displaystyle\\frac{T}{N}$.\n",
    "3. Set the initial condition $x_0$ and $t_0=0$.\n",
    "4. Starting with $n=0$, repeat the following $N$ times\n",
    "   1. Predictor: $k_1 = F(x_n,t_n)$\n",
    "   2. Corrector: $k_2 = F(x_n+k_1 h/2,t_{n}+h/2)$.\n",
    "   3. New point: $x_{n+1}=x_n + k_2 h$.\n",
    "   4. Increment the step: $n=n+1$.\n",
    "```"
   ]
  },
  {
   "cell_type": "raw",
   "id": "6846c9a3-9fc8-48a9-afae-e1aa569d36b2",
   "metadata": {},
   "source": []
  },
  {
   "cell_type": "markdown",
   "id": "41b09a2b-123f-4921-acde-0f39452e92e6",
   "metadata": {},
   "source": [
    "### 4th-Order Runge-Kutta Method\n",
    "\n",
    "The Runge-Kutta approach a;;ows us to systematically improve the accuracy.  The second RK method evaluate $F(x,t)$, twice per step.  Now consider a RK method that evaluate it four times per step, which is known as the 4th order RK method.  Since the rigorous derivation of this formula is a bit complicated, we resort to a heuristic consideration.\n",
    "\n",
    "In order to further improve the accuracy, we use a better numerical integration method, the Simpson rule:\n",
    "\n",
    "$$\n",
    "\\int_{x_n}^{x_{n}+h} F(x(t),t) dt = \\frac{h}{6} \\left ( F_n + 4 F_{n+1/2} + F_{n+1} \\right ) + \\mathcal{O}(h^5) .\n",
    "$$(eq:rk4-simpson)\n",
    "\n",
    "We learned that the Simpson rule is highly accurate.  However, in order to take the advantage, we must carefully evaluate $F_{n+1/2}$ and $F_{n+1}$ to keep the high level of accuracy.  Recalling that the high accuracy of the Simpson rule is due to the symmetric treatment of intervals $[t_n,t_{n+1/2}]$ and $[t_{n+1/2},t_{n+1}]$ so that errors in the two interval cancel out. (See Sec. {numref}`sec:piecewise-integral`.)  The key point is how to evaluate the mid point $x_{n+1/2}$. As usual, we begin with the Euler method in which we predict $x_{n+1/2}$ using the slope $k_1 \\equiv F(x_n,t_n)$. \n",
    "\n",
    "$$\n",
    "F_{n+1/2}^{(0)}= F\\left(x_n + \\frac{h}{2} k_1,t_{n+1/2}\\right)  \\equiv k_2 .\n",
    "$$(eq:rk4-k2)\n",
    "\n",
    "If the curve $x(t)$ is concave (convex), the Euler method over-(under-)estimate $x_{n+1/2}$.  Now we try to correct the error using the slope at $t_N{n+1/2}$, that is $k_2$.\n",
    "\n",
    "$$\n",
    "F_{n+1/2}^{(1)} = F\\left(x_n + \\frac{h}{2} k_2,t_{n+1/2}\\right)  \\equiv k_3 .\n",
    "$$(eq:rk4-k3)\n",
    "\n",
    "Knowing that  $k_2<k_1$ for concave curve and $k_2 < k_1$ for convex curve,  the direction of error in $F_{n+1/2}^{(1)}$ is opposite to that in $F_{n+1/2}^{(0)}$.  The average of the two predictions cancels their errors.  Now, we have a much better approximation \n",
    "\n",
    "$$\n",
    "F_{n+1/2} = \\frac{1}{2}(F_{n+1/2}^{(0)}+F_{n+1/2}^{(1)}) = \\frac{1}{2}(k_2+k_3) .\n",
    "$$(eq:rk4-k23)\n",
    "\n",
    "Using the midpoint formula we obtain \n",
    "\n",
    "$$\n",
    "F_{n+1} = F\\left[x_n+\\frac{h}{2}(k_2+k_3), t_{n+1}\\right]\n",
    "$$(eq:rk4-endpoint1)\n",
    "\n",
    "It turns out that \n",
    "\n",
    "$$\n",
    "F_{n+1}= F(x_n+ h k_3, t_{n+1})  \\equiv k_4 \n",
    "$$(eq:rk4-endpoint2)\n",
    "\n",
    "is good enough.  \n",
    "\n",
    "\n",
    "Substituting {eq}`eq:rk4-k23` and {eq}`eq:rk4-endpoint2` to {eq}`eq:rk4-simpson` we obtain the 4th-order Runge-Kutta method\n",
    "\n",
    "$$\n",
    "x_{n+1} = x_n + \\frac{h}{6}\\left(k_1 + 2 k_2 + 2 k_3 + k_4\\right).\n",
    "$$\n",
    "\n",
    "This method is accurate enough for most of practical applications.\n"
   ]
  },
  {
   "cell_type": "markdown",
   "id": "570324df-51dd-422e-bf1f-67c34c84f4cd",
   "metadata": {},
   "source": [
    "### Adaptive Step: Runge-Kutta-Fehlberg Method"
   ]
  },
  {
   "cell_type": "markdown",
   "id": "069dc4a1-25ae-4a80-b048-7e5c5092d42e",
   "metadata": {},
   "source": [
    "## Coupled First Order ODEs"
   ]
  },
  {
   "cell_type": "markdown",
   "id": "4130a8d1-9d99-4df6-ba27-26d4b4e33380",
   "metadata": {},
   "source": [
    "## Second-Order ODEs"
   ]
  },
  {
   "cell_type": "markdown",
   "id": "d98f9397-32fb-487c-abf6-d4ecda4d78b0",
   "metadata": {},
   "source": [
    "### Second-Order ODEs as a Coupled First-Order ODEs"
   ]
  },
  {
   "cell_type": "markdown",
   "id": "00793375-a5bb-4a2b-9a9b-7f87eb427aae",
   "metadata": {},
   "source": [
    "### Verlet Method"
   ]
  },
  {
   "cell_type": "code",
   "execution_count": null,
   "id": "cbae33cc-f91e-4c12-b869-a4c612b4520d",
   "metadata": {},
   "outputs": [],
   "source": []
  }
 ],
 "metadata": {
  "kernelspec": {
   "display_name": "jbook",
   "language": "python",
   "name": "jbook"
  },
  "language_info": {
   "codemirror_mode": {
    "name": "ipython",
    "version": 3
   },
   "file_extension": ".py",
   "mimetype": "text/x-python",
   "name": "python",
   "nbconvert_exporter": "python",
   "pygments_lexer": "ipython3",
   "version": "3.10.13"
  }
 },
 "nbformat": 4,
 "nbformat_minor": 5
}