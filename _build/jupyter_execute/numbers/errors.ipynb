{
 "cells": [
  {
   "cell_type": "markdown",
   "id": "31c6bf0f",
   "metadata": {},
   "source": [
    "(sec-digitization-errors)=\n",
    "# Digitization Errors"
   ]
  },
  {
   "cell_type": "markdown",
   "id": "f2764678",
   "metadata": {},
   "source": [
    "## The origin of digitization error\n",
    "\n",
    "True real numbers are continuous.Between any two real numbers there are uncountably many of other real numbers.  On the other hand, floating point numbers is expressed in 64 bits of a binary string and thus there are only finite numbers of them.  Real numbers expressed in the floating point format are descrete.  Figure {numref}`fig-floating-point-line` illustrates the descreteness of floating point numbers.  As you can see there is a gap between two nearest numbers.  No values between them are possible.  If you enter a number inside the gap, computers won't understand it and the nearest floating point number is assigned.  Almost all real numbers fall into a gap.  Hence, floating point calculation never be exact. The error is known as [digitization error](https://en.wikipedia.org/wiki/Discretization_error) and it is unfortunately unavoidable.  In some cases, errors dominate and the result of calculation can be completely garbage.  We need to understand the extent of digitization errors and mitigating them by good algorithms is essential to computational physics. Every gap can be a sourc of computational error (often called as *neumerical error*.)  In particular the gap between 0 and the smallest positive floating point numer causes significant trouble known as underflow error.  Similarly we draw attention to the gap between 1 and the next flowting point value $1+\\epsilon$ where $\\epsilon$ is called *machine epsilon*.  See the diagram  {numref}`fig-floating-point-line`.\n",
    "\n",
    "\n",
    "```{figure} floating-point-line.png\n",
    "---\n",
    "name: fig-floating-point-line\n",
    "---\n",
    "Discreteness of floating point numbers.\n",
    "```\n"
   ]
  },
  {
   "cell_type": "markdown",
   "id": "852ff591-1139-42ed-9f32-4c4a0210c7b0",
   "metadata": {},
   "source": [
    "## Underflow errors\n",
    "\n",
    "The smallest positive floating number in double precision is fmin=$2.2250738585072014E-308$. (See Sec. {numref}`sec-floating-point`.)  The next floating number below fmin is $0$. If the result of computation happens to be btween 0 and fmin, *underflow* occurs and it is replaced with 0.  fmin is very small and thus 0 is practically a good approxaimation.  So, this error seems not significant and computation will not be terminated at this point.  However, as computation continues disaster may happen at a later time.  "
   ]
  },
  {
   "cell_type": "markdown",
   "id": "f4f1a1c7-1d2d-45a1-83c5-f2cef1a09eb7",
   "metadata": {},
   "source": [
    "---\n",
    "\n",
    "**Example 1.5.1**:  Bohr radius \n",
    "\n",
    "Let us evaluate the Bohr radius (the radius of a hydrogen atom) in SI units.\n",
    "    \n",
    "The Bohr radius is given by $a_0 = \\displaystyle\\frac{4 \\pi \\epsilon_0 \\hbar^2}{m e^2}$ where\n",
    "\n",
    "* $\\epsilon_0 = 8.854187817 \\times 10^{-12} F/m$\n",
    "* $\\hbar = 6.62606957 \\times 10^{-34}/2\\pi, m^2\\, kg / s $\n",
    "* $m = 9.10938291 \\times 10^{-31}\\, kg$\n",
    "* $e = 1.602176565 \\times 10^{-19} C$\n",
    "\n",
    "The parameter values are small in SI units.  In order to demonstrate the danger of underflow error, we first try to calculate it using sngle precision (float32 in numpy)."
   ]
  },
  {
   "cell_type": "code",
   "execution_count": 1,
   "id": "16ab9d16-f024-42fb-9fa3-e5eff2ed9d9f",
   "metadata": {
    "tags": []
   },
   "outputs": [
    {
     "name": "stdout",
     "output_type": "stream",
     "text": [
      "denorminator = 0.0\n",
      "numeratr = 0.0\n",
      "Bohr radius= nan\n"
     ]
    }
   ],
   "source": [
    "# Python issues runtim warning message when the number is too large.\n",
    "# The warning is often annoying.  Therefore, we hide the warniong message\n",
    "import warnings\n",
    "warnings.filterwarnings('ignore')\n",
    "\n",
    "# Using single precision throuout the calculation\n",
    "\n",
    "import numpy as np\n",
    "\n",
    "# Set the parameter values\n",
    "pi=np.float32(np.pi)\n",
    "epsilon=np.float32(8.854187817e-12)\n",
    "hbar=np.float32(6.62606957e-34/(2*pi))\n",
    "mass=np.float32(9.10938291e-31)\n",
    "e=np.float32(1.602176565e-19)\n",
    "\n",
    "# Evaluate the denominator and numerator separately.\n",
    "denominator=np.float32(mass*e**2)\n",
    "numerator=np.float32(4.*pi*epsilon*hbar**2)\n",
    "print(\"denorminator =\",denominator)\n",
    "print(\"numeratr =\", numerator)\n",
    "print(\"Bohr radius=\",numerator/denominator)"
   ]
  },
  {
   "cell_type": "markdown",
   "id": "1383db7e-0771-45da-b41e-922010b76d9f",
   "metadata": {},
   "source": [
    "Both denominator and neumerator are too small and replaced by 0.  This underflow error seems innocent and computation continues.  But the next operation is now 0/0 which causes nan.  Python issues runtime warning message.  If double precision were used, no underflow took place and the correct value would be obtained.  Here we try to mitigate the underflow error by changing the order of computation.\n",
    "Rewriting the formula as $a = \\displaystyle\\left(\\frac{4\\pi \\epsilon_0}{m}\\right) \\left(\\frac{\\hbar}{e}\\right)^2$ and evaluate inside each parenthesis separately. No underflow occurs in this way even with single precision.  In the follwing code, $x=\\displaystyle\\left(\\frac{4\\pi \\epsilon_0}{m}\\right)$ and $y= \\displaystyle\\left(\\frac{\\hbar}{e}\\right)$."
   ]
  },
  {
   "cell_type": "code",
   "execution_count": 2,
   "id": "a8104607-768a-4914-a4b6-b65fed03fa1e",
   "metadata": {
    "tags": []
   },
   "outputs": [
    {
     "name": "stdout",
     "output_type": "stream",
     "text": [
      "x = 1.2214331e+20\n",
      "y = 6.582119e-16\n",
      "a = 5.2917722e-11\n"
     ]
    }
   ],
   "source": [
    "x=np.float32(4.*pi*(epsilon/mass))\n",
    "y=np.float32(hbar/e)\n",
    "print(\"x =\",x)\n",
    "print(\"y =\",y)\n",
    "print(\"a =\", x*y*y)"
   ]
  },
  {
   "cell_type": "markdown",
   "id": "58d29a69-1ddd-4a0d-98dd-6ecbb2ba4f49",
   "metadata": {},
   "source": [
    "We find that Bohr radius is $5.2917722 \\times 10^{-11}$ m.  Now we need to check if all the figures are significant.  The significant figure of the parameter values is 10.  However, the significant figure of single precision is about 7. Hence, the siginificant figure of the outcome is 7 at best.  We can safely say that $a_0 = 5.291772\\times 10^{-11}$ m. (Notice that the last digit \"2\" is ignored.)"
   ]
  },
  {
   "cell_type": "markdown",
   "id": "47096095-303a-46d7-b750-18e7d89bd2fe",
   "metadata": {},
   "source": [
    "*Exercise:*  Evaluate the Bohr radius up to 10 siginificant figure using double precision."
   ]
  },
  {
   "cell_type": "markdown",
   "id": "9697dd40-24c1-4e1f-a08c-c1390500e076",
   "metadata": {},
   "source": [
    "## Machine epsilon\n",
    "\n",
    "The gap between $1$ and the next floating point number above 1 is called *[machine epsilon](https://en.wikipedia.org/wiki/Machine_epsilon)* $\\epsilon$.  See Fig. {numref}`fig-floating-point-line`.  There is no floating point number  between $1$ and $1+\\epsilon$. Any number between them is rounded down to 1.  For eample, $1+\\frac{\\epsilon}{2} \\Rightarrow 1$.\n",
    "This can cause catastrophic errors in some applications. It is so important that numpy provide the value of $\\epsilon$.  In the following example, you can find the machine epsilon of your computer.\n"
   ]
  },
  {
   "cell_type": "code",
   "execution_count": 3,
   "id": "eb07d904-97a1-4fc9-aeaa-15fed6cc4636",
   "metadata": {
    "tags": []
   },
   "outputs": [
    {
     "name": "stdout",
     "output_type": "stream",
     "text": [
      "epsilon = 2.220446049250313e-16\n",
      "1+epsilon = 1.0000000000000002\n",
      "1+epsilon/2 = 1.0\n"
     ]
    }
   ],
   "source": [
    "import numpy  as np\n",
    "\n",
    "# get machine epsilon in double precision from numpy\n",
    "e=np.finfo(float).eps\n",
    "\n",
    "print(\"epsilon =\",e)\n",
    "print(\"1+epsilon =\",1.0+e)\n",
    "print(\"1+epsilon/2 =\",1.0+e/2.0)"
   ]
  },
  {
   "cell_type": "markdown",
   "id": "349f7792-7659-481e-8090-4232547a7a3c",
   "metadata": {},
   "source": [
    "Notice that $1+\\epsilon$ shows $2$ at the last figure.  Only the first figure of the machine epsilon appeared and there is no room for the remaining part of $\\epsilon$.  Notice that $1+\\epsilon/2$ outputs exactly 1.0. Adding $\\epsilon/2$ does nothing. \n",
    "\n",
    "*Exercise* Compute $1 + \\epsilon/2 + \\epsilon/2$.  The answer is not $1+\\epsilon$.  You will get 1.0.  Why?"
   ]
  },
  {
   "cell_type": "markdown",
   "id": "a92000f6-7b6d-4d71-af4b-492a028a6361",
   "metadata": {},
   "source": [
    "---\n",
    "\n",
    "**Example 1.5.2**:  7/3-4/3-1 = ?\n",
    "\n",
    "Consider simple calculations $a=\\displaystyle\\frac{5}{3}-\\frac{2}{3}-1$ and $b=\\displaystyle\\frac{7}{3}-\\frac{4}{3}-1$.  You can easily find that both are exactly zero.  However, computers don't think so.  The former vanishes as expected but the latter equals to the machine epsilon."
   ]
  },
  {
   "cell_type": "code",
   "execution_count": 4,
   "id": "ffba1b11-04ad-48a2-a041-88da8dc58929",
   "metadata": {
    "tags": []
   },
   "outputs": [
    {
     "name": "stdout",
     "output_type": "stream",
     "text": [
      "a= 0.0    b= 2.220446049250313e-16\n"
     ]
    }
   ],
   "source": [
    "a=5/3-2/3-1\n",
    "b=7/3-4/3-1\n",
    "print(\"a=\",a,\"   b=\",b)"
   ]
  },
  {
   "cell_type": "markdown",
   "id": "d6170006-7a5e-4d68-9c9c-bdaf63386d91",
   "metadata": {},
   "source": [
    "The former vanishes as expected but the latter equals to the machine epsilon.\n"
   ]
  },
  {
   "cell_type": "markdown",
   "id": "304afa81-43f5-4b5a-934a-e797536b5e73",
   "metadata": {},
   "source": [
    "---\n",
    "\n",
    "**Example 1.5.3**\n",
    "    \n",
    "Suppose that we want to evalue $y=\\displaystyle\\frac{(x+1)^2-1}{x}$ for small $x$.  Somehow we are not smart and evaluate it directly. A smart person would simplify the expression and find $y=x+2$.  Since these two expresions are mathematically equivalent, both should produce the same result, shouldn't it? Let us try with $x=1, 1/10, \\cdots, 1/10^{17}$."
   ]
  },
  {
   "cell_type": "code",
   "execution_count": 5,
   "id": "541a4cc2-4688-45be-bf0d-450180ec54c7",
   "metadata": {},
   "outputs": [
    {
     "name": "stdout",
     "output_type": "stream",
     "text": [
      "x= 1.0e+00, y= 3.000000000000, x+2= 3.000000000000\n",
      "x= 1.0e-01, y= 2.100000000000, x+2= 2.100000000000\n",
      "x= 1.0e-02, y= 2.010000000000, x+2= 2.010000000000\n",
      "x= 1.0e-03, y= 2.001000000000, x+2= 2.001000000000\n",
      "x= 1.0e-04, y= 2.000099999999, x+2= 2.000100000000\n",
      "x= 1.0e-05, y= 2.000010000014, x+2= 2.000010000000\n",
      "x= 1.0e-06, y= 2.000000999924, x+2= 2.000001000000\n",
      "x= 1.0e-07, y= 2.000000101088, x+2= 2.000000100000\n",
      "x= 1.0e-08, y= 1.999999987845, x+2= 2.000000010000\n",
      "x= 1.0e-09, y= 2.000000165481, x+2= 2.000000001000\n",
      "x= 1.0e-10, y= 2.000000165481, x+2= 2.000000000100\n",
      "x= 1.0e-11, y= 2.000000165481, x+2= 2.000000000010\n",
      "x= 1.0e-12, y= 2.000177801165, x+2= 2.000000000001\n",
      "x= 1.0e-13, y= 1.998401444325, x+2= 2.000000000000\n",
      "x= 1.0e-14, y= 1.998401444325, x+2= 2.000000000000\n",
      "x= 1.0e-15, y= 2.220446049250, x+2= 2.000000000000\n",
      "x= 1.0e-16, y= 0.000000000000, x+2= 2.000000000000\n",
      "x= 1.0e-17, y= 0.000000000000, x+2= 2.000000000000\n"
     ]
    }
   ],
   "source": [
    "import numpy as np\n",
    "\n",
    "i=np.arange(18)\n",
    "x = 1.0/10**(i)\n",
    "y = ((x+1)**2-1)/x\n",
    "z = x+2\n",
    "for i in range(18):\n",
    "    print(\"x={0:8.1e}, y={1:15.12f}, x+2={2:15.12f}\".format(x[i],y[i],z[i]))\n"
   ]
  },
  {
   "cell_type": "markdown",
   "id": "5fa57afd-dc8f-48cf-be09-480d1f5f5cf0",
   "metadata": {},
   "source": [
    "Let us compare the two calculations in plots.   We use matplotlib package."
   ]
  },
  {
   "cell_type": "code",
   "execution_count": 6,
   "id": "7e5c7dda-6189-48ed-b2ed-39e6fbb4f7c6",
   "metadata": {
    "tags": []
   },
   "outputs": [
    {
     "data": {
      "image/png": "[encoded data removed]",
      "text/plain": [
       "<Figure size 640x480 with 1 Axes>"
      ]
     },
     "metadata": {},
     "output_type": "display_data"
    }
   ],
   "source": [
    "# continued from previouse code cell\n",
    "# \n",
    "import matplotlib.pyplot as plt \n",
    "plt.ioff()\n",
    "plt.semilogx(x,y,label='y')\n",
    "plt.semilogx(x,z,'--',label='x+2')\n",
    "plt.legend(loc=4)\n",
    "plt.xlabel('x')\n",
    "plt.ylabel('y')\n",
    "plt.show()"
   ]
  },
  {
   "cell_type": "markdown",
   "id": "204ca821-9c4c-45dd-86d6-1026013b37a6",
   "metadata": {},
   "source": [
    "Notice that the direct evaluation of $y$  devates from the exact value $x+2$ for x smaller than $10^{-9}$ and catastrophic error takes place below $x=10^{-16}$.  Recall that when $x$ is smaller than the machine epsilon, $x+1=1$!, which cuases this catstrophe."
   ]
  },
  {
   "cell_type": "markdown",
   "id": "bf51bc9f-ddbd-4767-955b-47e60d80503e",
   "metadata": {},
   "source": [
    "---\n",
    "\n",
    "**Example**\n",
    "\n",
    "Addition of two floating point numbers most likely falls into a gap between two floating point numbers and is rounded off to a new floating point number. Any operation of floating point numbers is subject to the digitization error. Consider $N$ repeated addition of $x$, that is $x+x+\\cdots+x$.  The exact answer is obviously $N x$.  However, the repeated addition accumulate error cased by each addition.  To see that we add $1.2$ a million times."
   ]
  },
  {
   "cell_type": "markdown",
   "id": "c1161fc5-86e8-4687-8ff4-2cbcf17c037a",
   "metadata": {},
   "source": [
    "## Accumulation of tiny round-off errors\n",
    "\n",
    "Since the most of real numbers are between two floating point numbers, each step of calculation suffurs from a tiny round-off error.  Many real applications involves millions of floating point operations and the round-off errors accumulate.  At the end, the error is no longer negligible.  To demonstraite it, we do a kind of stupid calculation.  We just add a millions of $1.2$.  The answer should be $1.2 \\times 10^6$. "
   ]
  },
  {
   "cell_type": "code",
   "execution_count": 7,
   "id": "682bfae1-81f5-4a87-ba84-eb730f5cfb4c",
   "metadata": {
    "tags": []
   },
   "outputs": [
    {
     "name": "stdout",
     "output_type": "stream",
     "text": [
      "Summation =  1199999.9999773693\n",
      "Multiplication = 1200000.0\n",
      "error = -2.263067290186882e-05\n"
     ]
    }
   ],
   "source": [
    "import numpy as np\n",
    "\n",
    "# we add 1.2 million times.\n",
    "N=1000000\n",
    "x=1.2\n",
    "xsum=0.0\n",
    "for i in range(N):\n",
    "    xsum=xsum+x\n",
    "\n",
    "# the above calculation is equivalent to 1.2 \\times 10^6\n",
    "xmul = N*x\n",
    "\n",
    "print(\"Summation = \",xsum)\n",
    "print(\"Multiplication =\", xmul)\n",
    "print(\"error =\",xsum-xmul)"
   ]
  },
  {
   "cell_type": "markdown",
   "id": "92a03c09-8d4d-4d03-afcc-300deb0e1fa7",
   "metadata": {},
   "source": [
    "The error is tiny but could be significant depending on the application. In computational physics applications, a million operations is very small calculation. Billions of operations are ubiquitous.  We need to be careful about the accumulation of tiny errors."
   ]
  },
  {
   "cell_type": "markdown",
   "id": "7a65e110-a6c5-4255-a403-b1d8d092a90f",
   "metadata": {},
   "source": [
    "## Denormalized floating point (advanced topics)"
   ]
  },
  {
   "cell_type": "markdown",
   "id": "1943f186-0463-47af-abcb-820904067967",
   "metadata": {},
   "source": [
    "Many computer systems try to avoid underflow by switching to a different type of floating point method knwown as denormalized float.  Let us check if python uses it.  Try fmin/10."
   ]
  },
  {
   "cell_type": "code",
   "execution_count": 8,
   "id": "a43e6498-768f-4aa5-8c78-e001357ee505",
   "metadata": {
    "tags": []
   },
   "outputs": [
    {
     "name": "stdout",
     "output_type": "stream",
     "text": [
      "fmin/10 = 2.225073858507203e-309\n"
     ]
    }
   ],
   "source": [
    "import sys\n",
    "\n",
    "fmin = sys.float_info.min\n",
    "print(\"fmin/10 =\",fmin/10)\n"
   ]
  },
  {
   "cell_type": "markdown",
   "id": "f8dec9b0-1d96-481e-816f-01ca874504d8",
   "metadata": {},
   "source": [
    "This is smaller than fmin and not 0.  Python apprently used denormalized float.  However, there is limit.  Try fmin $\\times 1.0e(-16)$.  Even denormalized float sufferes from underflow error."
   ]
  },
  {
   "cell_type": "code",
   "execution_count": 9,
   "id": "a69c3e49-d95a-40ea-bf89-c5b9ec4b4a83",
   "metadata": {
    "tags": []
   },
   "outputs": [
    {
     "name": "stdout",
     "output_type": "stream",
     "text": [
      "fmin/10 = 0.0\n"
     ]
    }
   ],
   "source": [
    "print(\"fmin/10 =\",fmin/1e16)"
   ]
  },
  {
   "cell_type": "code",
   "execution_count": null,
   "id": "1fbd9356-eb47-4751-ab82-72274b66136a",
   "metadata": {},
   "outputs": [],
   "source": []
  },
  {
   "cell_type": "markdown",
   "id": "0b9f7046-a346-4881-8749-34086e884f81",
   "metadata": {},
   "source": [
    "\n",
    "---\n",
    "Last modified on 02/09/2024 by R. Kawai."
   ]
  }
 ],
 "metadata": {
  "kernelspec": {
   "display_name": "Python 3 (ipykernel)",
   "language": "python",
   "name": "python3"
  },
  "language_info": {
   "codemirror_mode": {
    "name": "ipython",
    "version": 3
   },
   "file_extension": ".py",
   "mimetype": "text/x-python",
   "name": "python",
   "nbconvert_exporter": "python",
   "pygments_lexer": "ipython3",
   "version": "3.10.13"
  }
 },
 "nbformat": 4,
 "nbformat_minor": 5
}