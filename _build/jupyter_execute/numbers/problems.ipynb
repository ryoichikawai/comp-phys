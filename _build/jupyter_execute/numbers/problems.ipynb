{
 "cells": [
  {
   "cell_type": "markdown",
   "id": "2b5ec137-b49e-469a-aa80-6aab37be7265",
   "metadata": {},
   "source": [
    "(sec-numbers-problems)=\n",
    "# Problems"
   ]
  },
  {
   "cell_type": "markdown",
   "id": "05d151d7-d711-413e-8d88-7739b398b078",
   "metadata": {},
   "source": [
    "**1.1**   In statistical mechanics, factorial $n!$ of huge integer $n$ such as the Avogadro number often appears. It is difficult to manage such a huge number even analytically.  A common method to deal with such a large number is to use the [Stirling's approximation](https://en.wikipedia.org/wiki/Stirling%27s_approximation):\n",
    "\n",
    "$$\n",
    "\\ln(n!) \\approx n \\ln(n) - n + \\frac{1}{2} \\ln(2 \\pi n)\n",
    "$$(eq-stirling1)\n",
    "\n",
    "Then, the factorial can be approximated as\n",
    "\n",
    "$$\n",
    "n! \\approx \\sqrt{2 \\pi n} \\left ( \\frac{n}{\\text{e}} \\right )^n\\, .\n",
    "$$(eq-stirling2)\n",
    "\n",
    "To verify the accuracy of this formula, compute the ratio $R=\\displaystyle\\frac{n!}{\\sqrt{2 \\pi n} \\left ( \\frac{n}{\\text{e}} \\right )^n}$  for $n=10, 100$, and $1000$. If the approximation is good, $R$ approaches $1$ as $n$ increases. Verify it by computing $R$. Note that direct calculation of $R$ is hard but $\\ln R$ can be easily evaluated."
   ]
  },
  {
   "cell_type": "code",
   "execution_count": null,
   "id": "427cce98-f485-4ac7-9bc3-c007c9e490e8",
   "metadata": {},
   "outputs": [],
   "source": []
  }
 ],
 "metadata": {
  "kernelspec": {
   "display_name": "jbook",
   "language": "python",
   "name": "jbook"
  },
  "language_info": {
   "codemirror_mode": {
    "name": "ipython",
    "version": 3
   },
   "file_extension": ".py",
   "mimetype": "text/x-python",
   "name": "python",
   "nbconvert_exporter": "python",
   "pygments_lexer": "ipython3",
   "version": "3.10.0"
  }
 },
 "nbformat": 4,
 "nbformat_minor": 5
}