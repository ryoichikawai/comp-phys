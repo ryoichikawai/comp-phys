{
 "cells": [
  {
   "cell_type": "markdown",
   "id": "d5248e1d-f3f2-4c58-88d4-714c0d1c371d",
   "metadata": {},
   "source": [
    "(sec-characters)=\n",
    "# Characters\n"
   ]
  },
  {
   "cell_type": "markdown",
   "id": "cd8155ba-23e4-4382-b647-2534b1a3882e",
   "metadata": {},
   "source": [
    "In English or most of western languages, the number of alphanumeric characters is less than $256$.  Hence, all characters can be encoded in one byte ($8$-bit) binary string.  In US, the encoding map is known as American Standard Code for Information Interchange or [ASCII](https://en.wikipedia.org/wiki/ASCII) and lower and upper cases of all letters and various symbols are encoded in 7-bit strings.  For example, 'A'=1000001B and 'a'=1100001B. (B at the end indicates that it is a binary string.)  Note that integer 1=00000001B and character '1'=00110001B in ASCII are two different things.  Sending 00000001B to a printer does not print 1.  You need to convert a number to a character string. When you type  '1' on a keyboard, you are sending character '1' to computer.  You need to convert it to integer. I/O functions do that automatically.  If you want to convert manually using  funtions `str()` and `int()`.  See Example below\n",
    "\n",
    "Some languages use a lot more characters than $256$.  For example, Chinese uses several thousand characters.  Therefore, $8$-bit string is not large enough. Two-byte ($16$-bit) strings can encode $65536$ characters, which seems long enough for all languages.\n",
    "\n",
    "In python, character strings are enclosed in \"...\" or '...', for example 'Hello world!'."
   ]
  },
  {
   "cell_type": "markdown",
   "id": "cb55acfa-d6ed-4aa7-9f94-527f033b62c8",
   "metadata": {},
   "source": [
    "---\n",
    "\n",
    "**Example 1.2.1**:  Converstion from a character string to the corresponding integer.\n",
    "\n",
    "Let us convert character string '365' to integer $365$ using `int()`."
   ]
  },
  {
   "cell_type": "code",
   "execution_count": 3,
   "id": "2da392ca-bf02-4ba9-a159-42d6e7c8691b",
   "metadata": {},
   "outputs": [
    {
     "data": {
      "text/plain": [
       "365"
      ]
     },
     "execution_count": 3,
     "metadata": {},
     "output_type": "execute_result"
    }
   ],
   "source": [
    "int('365')"
   ]
  },
  {
   "cell_type": "markdown",
   "id": "1b0329d9-aa5c-4498-be34-7c71897928fc",
   "metadata": {},
   "source": [
    "---\n",
    "\n",
    "**Example 1.2.2*:  Converstion from an integer to the corresponding character string.\n",
    "\n",
    "Try to convert integer $365$  to character string '365' using `str()`."
   ]
  },
  {
   "cell_type": "code",
   "execution_count": 4,
   "id": "2b7c3410-98e6-4a56-8bc5-96929bbfc4e1",
   "metadata": {},
   "outputs": [
    {
     "data": {
      "text/plain": [
       "'365'"
      ]
     },
     "execution_count": 4,
     "metadata": {},
     "output_type": "execute_result"
    }
   ],
   "source": [
    "str(365)"
   ]
  },
  {
   "cell_type": "markdown",
   "id": "865cd1f4-7e62-4846-9035-59fb86eeabe8",
   "metadata": {},
   "source": [
    "---\n",
    "\n",
    "**Example 1.2.3**: \n",
    "\n",
    "\"print\" function automatically converts numbers to characters and send it to display."
   ]
  },
  {
   "cell_type": "code",
   "execution_count": 13,
   "id": "e92e7b2c-ad95-461f-bf56-e9f73a7fa35f",
   "metadata": {},
   "outputs": [
    {
     "name": "stdout",
     "output_type": "stream",
     "text": [
      "365\n"
     ]
    }
   ],
   "source": [
    "x=365\n",
    "a=print(x)"
   ]
  },
  {
   "cell_type": "markdown",
   "id": "0f88c452-accc-415f-8eb1-541b642c94df",
   "metadata": {},
   "source": [
    "---\n",
    "\n",
    "**Example 1.2.4*: Conversion using variables.\n",
    "\n",
    "We store an integer 365 in a variable x, then convert it to character and store it in another variable c. Using an enquirer function `type()`, we check the type of the variables.  Notice that printout of x and c are identical but their type is different."
   ]
  },
  {
   "cell_type": "code",
   "execution_count": 8,
   "id": "4838d9e1-ad32-4374-a9ee-b1152660390f",
   "metadata": {},
   "outputs": [
    {
     "name": "stdout",
     "output_type": "stream",
     "text": [
      "x= 365  and  its type is  <class 'int'>\n",
      "c= 365  and  its type is  <class 'str'>\n"
     ]
    }
   ],
   "source": [
    "x = 365\n",
    "print(\"x=\",x,\" and  its type is \",type(x))\n",
    "c = str(x)\n",
    "print(\"c=\",c,\" and  its type is \",type(c))"
   ]
  },
  {
   "cell_type": "markdown",
   "id": "9bcc9675-4187-4d0a-8ece-a3776027252b",
   "metadata": {},
   "source": [
    "\n",
    "---\n",
    "Last modified on 02/09/2024 by R. Kawai."
   ]
  }
 ],
 "metadata": {
  "kernelspec": {
   "display_name": "Python 3 (ipykernel)",
   "language": "python",
   "name": "python3"
  },
  "language_info": {
   "codemirror_mode": {
    "name": "ipython",
    "version": 3
   },
   "file_extension": ".py",
   "mimetype": "text/x-python",
   "name": "python",
   "nbconvert_exporter": "python",
   "pygments_lexer": "ipython3",
   "version": "3.10.13"
  }
 },
 "nbformat": 4,
 "nbformat_minor": 5
}