{
 "cells": [
  {
   "cell_type": "markdown",
   "id": "1204362c-1fc9-434c-855a-12a83489c296",
   "metadata": {},
   "source": [
    "(sec_elementary_functions)=\n",
    "# Common Functions in Physics"
   ]
  },
  {
   "cell_type": "markdown",
   "id": "74e2f120-bcfe-429d-9125-45a3ab1e2bec",
   "metadata": {},
   "source": [
    "## Elementary Functions\n",
    "\n",
    "We cannot discuss physics without elementary functions such as exponential, logarithmic, and trigonometric functions.  None of them are included in the python core.  We need to load a mathematical package to use them.  There are many different packages to choose.  In this lecture, we use `math`, `numpy`,  `scipy`, and `sympy`, and `mpmath`."
   ]
  },
  {
   "cell_type": "markdown",
   "id": "74b1ced5-32ba-4bc2-a023-b69da140d3a0",
   "metadata": {},
   "source": [
    "### math package\n",
    "\n",
    "The math packages provide basic mathematical functions including elementary functions.  See the [documentation](https://docs.python.org/3/library/math.html) to find the available functions.  You can load it in many different ways depending on the situation.\n",
    "\n",
    " First we load the whole package  "
   ]
  },
  {
   "cell_type": "code",
   "execution_count": 1,
   "id": "06aeedd8-0fdc-465d-9709-478eff4b1908",
   "metadata": {},
   "outputs": [
    {
     "name": "stdout",
     "output_type": "stream",
     "text": [
      "0.8660254037844387\n"
     ]
    }
   ],
   "source": [
    "import math\n",
    "\n",
    "print(math.cos(math.pi/6))\n",
    "\n",
    "del math"
   ]
  },
  {
   "cell_type": "markdown",
   "id": "be7edf20-644a-4940-bf53-1d012752bcbf",
   "metadata": {},
   "source": [
    "Every function in the package can be used but the function name must begin with `math.`.  you can unload the package using `del` command.  If the prefix is too long,  you can specify an alias."
   ]
  },
  {
   "cell_type": "code",
   "execution_count": 2,
   "id": "d13c19af-8fa8-4e94-ab9b-87b28edace68",
   "metadata": {},
   "outputs": [
    {
     "name": "stdout",
     "output_type": "stream",
     "text": [
      "0.8660254037844387\n"
     ]
    }
   ],
   "source": [
    "import math as m\n",
    "\n",
    "print(m.cos(m.pi/6))\n",
    "\n",
    "del m"
   ]
  },
  {
   "cell_type": "markdown",
   "id": "74f4a9e2-ffd3-4923-a87b-abb3ca0a562f",
   "metadata": {},
   "source": [
    "It is also possible to load individual functions in the package"
   ]
  },
  {
   "cell_type": "code",
   "execution_count": 3,
   "id": "f267cb53-066b-40f3-a351-854f754b6920",
   "metadata": {},
   "outputs": [
    {
     "name": "stdout",
     "output_type": "stream",
     "text": [
      "-1.0\n"
     ]
    }
   ],
   "source": [
    "from math import cos, pi\n",
    "\n",
    "print(cos(pi))\n",
    "\n",
    "del cos"
   ]
  },
  {
   "cell_type": "markdown",
   "id": "d0f9b9f5-57e5-4cbe-9269-8e11c6c835cf",
   "metadata": {},
   "source": [
    "This method is convenient if we use only a few functions. Notice that no namespace prefix is needed in this case.  In fact, you can load all modules in the package in the same way."
   ]
  },
  {
   "cell_type": "code",
   "execution_count": 4,
   "id": "b9f325f0-39d7-4ac9-b64c-5efce1545179",
   "metadata": {},
   "outputs": [
    {
     "name": "stdout",
     "output_type": "stream",
     "text": [
      "0.8660254037844387 0.49999999999999994\n"
     ]
    }
   ],
   "source": [
    "from math import *\n",
    "\n",
    "print(cos(pi/6),sin(pi/6))"
   ]
  },
  {
   "cell_type": "markdown",
   "id": "298bc24c-cc01-4e71-96a1-eb93f16d7074",
   "metadata": {},
   "source": [
    "This seems convenient but actually not.  It will be confusing if you load multiple packages containing the same name of functions,  In addition, we cannot unload the module using del command. We should use this loading method only for simple calculation.  "
   ]
  },
  {
   "cell_type": "markdown",
   "id": "17a30ab2-dc2d-4cb8-b920-6d8a2bd432ba",
   "metadata": {},
   "source": [
    "### numpy package\n",
    "\n",
    "As we already mentioned, for scientific computation, the most popular mathematical package is `numpy`.  Actually, numpy is more than a mathematical package.  I provides many useful tools.  See the [documentation](https://numpy.org/doc/stable/).  On the other hand, it uses its own numerical format.  If we use multiple packages, compatibility between them needs to be considered.  We will discuss it when this issue comes up.  We will be using numpy through out this lecture.  AS we already used in the previous chapter, we load numpy using alias \"np\"."
   ]
  },
  {
   "cell_type": "code",
   "execution_count": 5,
   "id": "9d67d862-bccd-41be-b625-2d786bada30a",
   "metadata": {},
   "outputs": [
    {
     "name": "stdout",
     "output_type": "stream",
     "text": [
      "0.8660254037844387\n"
     ]
    }
   ],
   "source": [
    "import numpy as np\n",
    "\n",
    "print(np.cos(np.pi/6))\n",
    "\n",
    "del np"
   ]
  },
  {
   "cell_type": "markdown",
   "id": "d5a27a89-6851-4f25-b7f5-840f96a08084",
   "metadata": {},
   "source": [
    "### mpmath package\n",
    "\n",
    "numpy is based on the standard floating point and thus the precision is limited as discussed in the previous chapter.  The `mpmath` packge uses a different kind of floating point arithmetic algorithm which provides arbitrary precision. The format is called `mpf`. When a great precision is needed, we use this package."
   ]
  },
  {
   "cell_type": "code",
   "execution_count": 6,
   "id": "49a717e7-df25-4843-8765-a12ea6e0d664",
   "metadata": {},
   "outputs": [
    {
     "name": "stdout",
     "output_type": "stream",
     "text": [
      "0.866025403784438646763723170753 0.5\n"
     ]
    }
   ],
   "source": [
    "import mpmath as mp\n",
    "\n",
    "# specify the number of digits we want\n",
    "mp.mp.dps = 30\n",
    "print(mp.cos(mp.pi/6),mp.sin(mp.pi/6))\n",
    "\n",
    "del mp"
   ]
  },
  {
   "cell_type": "markdown",
   "id": "13148ad0-cb68-4c94-9df5-e46d6ab28a65",
   "metadata": {},
   "source": [
    "## Special Functions\n",
    "\n",
    "Special functions such as Bessel function appear in many parts of physics.  They don't have simple closed forms and thus must be numerically evaluated. Since the algorithms to evaluate special functions are well developed and many packages provide them.  Therefore, we use the canned routines."
   ]
  },
  {
   "cell_type": "markdown",
   "id": "cde9ec07-ac44-4b84-acbf-dade0dd6f6aa",
   "metadata": {},
   "source": [
    "### scipy\n",
    "\n",
    "\n",
    "SciPy provides modules for optimization, integration, interpolation, eigenvalue problems, algebraic equations, differential equations, statistics and many other classes of problems.  See the [documentation](https://scipy.org/).  It is implemented with compiler based language such Fortran and C++.  Many modules are in fact interface to well-known mathematical libraries.\n",
    "Among many modules, scipy provides modules called `scipy.special`. All kinds of special functions are included. See the [documentation](https://docs.scipy.org/doc/scipy/reference/special.html#module-scipy.special) for available functions.  As examples, we evaluate gamma function and Hermite polynomial."
   ]
  },
  {
   "cell_type": "code",
   "execution_count": 7,
   "id": "5b1c54f6-2b0c-497a-b1bc-79b8c65cc8be",
   "metadata": {},
   "outputs": [
    {
     "name": "stdout",
     "output_type": "stream",
     "text": [
      "2.288037795340032"
     ]
    },
    {
     "name": "stdout",
     "output_type": "stream",
     "text": [
      "\n",
      "37.47841760435743\n"
     ]
    }
   ],
   "source": [
    "from scipy.special import gamma, hermite\n",
    "\n",
    "# gamma function\n",
    "print(gamma(pi))\n",
    "\n",
    "# scipy returns hermite polynomial\n",
    "H2 = hermite(2)\n",
    "# Hermite polynomial of 2nd order evaluated at x=2.\n",
    "print(H2(pi))\n",
    "\n",
    "del gamma, hermite"
   ]
  },
  {
   "cell_type": "markdown",
   "id": "f030d293-86ec-4986-b6df-84e3efaf6f88",
   "metadata": {},
   "source": [
    "### mpmath package\n",
    "\n",
    "mpmath package provides also special functions."
   ]
  },
  {
   "cell_type": "code",
   "execution_count": 8,
   "id": "4959c777-50da-46a0-96ee-a0f5b10fdf57",
   "metadata": {},
   "outputs": [
    {
     "name": "stdout",
     "output_type": "stream",
     "text": [
      "37.4784176043574313974648540446\n"
     ]
    }
   ],
   "source": [
    "from mpmath import hermite\n",
    "\n",
    "print(hermite(2,pi))\n",
    "\n",
    "del hermite"
   ]
  },
  {
   "cell_type": "code",
   "execution_count": null,
   "id": "e1d48b06-7783-49e1-a06d-79efb128aa53",
   "metadata": {},
   "outputs": [],
   "source": []
  }
 ],
 "metadata": {
  "kernelspec": {
   "display_name": "jbook",
   "language": "python",
   "name": "jbook"
  },
  "language_info": {
   "codemirror_mode": {
    "name": "ipython",
    "version": 3
   },
   "file_extension": ".py",
   "mimetype": "text/x-python",
   "name": "python",
   "nbconvert_exporter": "python",
   "pygments_lexer": "ipython3",
   "version": "3.10.0"
  }
 },
 "nbformat": 4,
 "nbformat_minor": 5
}