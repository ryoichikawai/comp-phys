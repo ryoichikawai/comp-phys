{
 "cells": [
  {
   "cell_type": "markdown",
   "id": "0d661bdc-3016-4d16-bfac-b6c331f29a89",
   "metadata": {},
   "source": [
    "# Bits"
   ]
  },
  {
   "cell_type": "markdown",
   "id": "115ba8c4-5d42-48d1-a0c3-1fd3550a1bc1",
   "metadata": {
    "tags": []
   },
   "source": [
    "The current digital computers are mostly binary machines\\footnote{We don't consider q-bit used in quantum computers.} and use a bit $b$ as the smallest unit of information where $b=0$ or $1$ (or we write it equivalently as $b=\\{0,1\\}$). Inside a computer,  information is generally encoded in a string of bits such as $01100101000101100\\cdots$.  The number of unique expressions depends on the length of the string, which is measured as the number of bits. An $N$-bit string\n",
    "\n",
    "$$\n",
    "N\\text{-bit string} = b_{N-1} b_{N-2} \\cdots b_2 b_1 b_0\n",
    "$$\n",
    "\n",
    "can express $2^N$ different values.  For instance, there are only four possible realizations of a 2-bit string: $00$, $01$, $10$, $11$.  $N$ can be very large but always finite and limited by the size of hardware.[^note-brain]\n",
    "The common lengths of the binary string in the present computers are $8$, $16$, $32$, and $64$.   The string of 8 bit is called a byte.  The number of different expressions these strings can have is shown in {numref}`table-binary-sizes`.\n",
    "\n",
    "```{table} Common binary strings and their capacity\n",
    ":name: table-binary-sizes\n",
    "\n",
    "| size in bits | size in bytes | # of expressions |\n",
    "| ---: | ---: | ---: |\n",
    "| 8    | 1    | $2^8=256$ |\n",
    "| 16   | 2    | $2^{16}=65536$ |\n",
    "| 32   | 4    | $2^{32}=4,294,967,296$ |\n",
    "| 64   | 8    | $2^{64}=18,446,744,073,709,551,616$|\n",
    "```\n",
    "\n",
    "\n",
    "We *encode* numbers and characters in binary strings and *decode* binary strings to get human-readable information.  Encoding/decoding is not a one-to-one map.  \n",
    "The same one byte of string may correspond to multiple different things, integer, character, and others as shown in the following sections. For example, $01000001$ can be character 'A' or integer $65$.  Some computer languages (dynamical language) such as python choose an appropriate encoding scheme based on the context but in compiler-based languages, programmers must declare the type of each variable before using it or otherwise the computer issues an error message.\n",
    "\n",
    "[^note-brain]: Our brain also consists of a finite number of neurons but it is huge (about $10^{11}$). Despite of that, humans are able to develop the concept of infinity and continuous numbers!"
   ]
  },
  {
   "cell_type": "markdown",
   "id": "810b668c-2a9e-4edd-a0cb-acc59c7b892d",
   "metadata": {},
   "source": [
    "\n",
    "---\n",
    "Last modified on 02/09/2024 by R. Kawai."
   ]
  },
  {
   "cell_type": "code",
   "execution_count": null,
   "id": "bcaa1373-70d0-4dd9-be65-40a232c65a25",
   "metadata": {},
   "outputs": [],
   "source": []
  }
 ],
 "metadata": {
  "kernelspec": {
   "display_name": "Python 3 (ipykernel)",
   "language": "python",
   "name": "python3"
  },
  "language_info": {
   "codemirror_mode": {
    "name": "ipython",
    "version": 3
   },
   "file_extension": ".py",
   "mimetype": "text/x-python",
   "name": "python",
   "nbconvert_exporter": "python",
   "pygments_lexer": "ipython3",
   "version": "3.10.13"
  }
 },
 "nbformat": 4,
 "nbformat_minor": 5
}
