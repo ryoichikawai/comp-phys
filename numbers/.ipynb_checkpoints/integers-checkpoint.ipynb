{
 "cells": [
  {
   "cell_type": "markdown",
   "id": "5bb7670f-757d-4003-a48d-45034613bfa2",
   "metadata": {},
   "source": [
    "(sec-integers)=\n",
    "# Integers\n"
   ]
  },
  {
   "cell_type": "markdown",
   "id": "3996b0b1-ac62-40a4-a6c4-a420d6c5c1b2",
   "metadata": {
    "editable": true,
    "slideshow": {
     "slide_type": ""
    },
    "tags": []
   },
   "source": [
    "## Imprementation of Integers\n",
    "\n",
    "Digital computers express everything as bit strings as discussed in the previous section.  Encoding an integer in a bit string is simple. Just interpret the string as a binary number. Consider a bit string $b_{N-1} \\cdots b_2 b_1 b_0$.  Then, the corresponding integer in the binary form is $I = \\sum_{k=0}^{N-1} 2^k b_k$. For example, bit string $101$ corresponds to integer $1\\times 1+ 2 \\times 0 + 4 \\times 1 =5$.  If $\\ell$ is the length of a bit string, we can express integers up to $2^\\ell$.  For example, three bits can encode $2^3=8$ integers, $0,1,2,\\cdots, 7$.\n",
    "\n",
    "In principle, huge integers can be implemented as long as there is enough memory. In principle Python allows us to use any integers.  When we use an integer, sufficient number of bits are automatically allocated to it. \n",
    "\n",
    "This feature is rather unique to python and most of common computer languages such as C++ and Fortran use several fixed length of integers, known as `int8`, `int16`, `int32`, and `int64` where the numbers indicate the length of bit strings.  Therefore, only integers in a limited range are available.  Moreover, the type of variable must be declared in advance in these language. Python allocates an appropriate size automatically and increases it dynamically when needed. Python is far more flexible in handling integer numbers than other languages.\n",
    "\n",
    "Although the python core does not have the size limitation, we still have to worry about it in scientific computation. Since Python lacks mathematical functions, it relies on third-party packages. Moreover, python is an interpreter programming language, its computing speed is rather slow and thus python core alone is not suitable for large scale computation and it again relies on third-party packages.  For scientific computation we commonly use `numpy` and `scipy` packages which use C++ in backend. In other words, when we use routines in the `numpy` package, routines written in C++ are called for faster computation.  Hence, `numpy` internally uses the same size of integers as C++.  Integers prepared in the python core may not be compatible with integers used in `numpy`.  If so, `numpy` attempts to convert the python integer to a `numpy` integer.  If python integer is too large for `numpy`, then overflow error occurs.  Therefore, we need to know the range of integers we can use with `numpy` and `scipy`.\n",
    "\n",
    "Consider unsigned integer type `uint8` stored in an 8-bit string.  A binary string of 8 bits can express 256 (=$2^8$) integers, ranging from 0 to 255.  Signed integer `int8` uses one bit for sign, 0 for $+$ and 1 for $-$,  and the remaining 7 bits for absolute value. Hence, a half of 256 is negative and the other half is positive. The resulting range is from -128 to +127. Notice that the upper limit is 127 instead of 128 because 0 is a part of $+$ number in this encoding scheme.\n",
    "\n",
    "Table {numref}`table-int-range` shows the range of other signed integer types.  The default size of signed integer is 32 bit in most computer languages.  However, 64-bit integer can be used for large scale calculation.  Common hardware cannot handle integers larger than 64 bit. If more than 64 bit is needed, you must use a special numerical library.  "
   ]
  },
  {
   "cell_type": "markdown",
   "id": "0f6e99c5-7fe4-486c-8992-109b12c4fe16",
   "metadata": {},
   "source": [
    "```{table} The range of signed integers\n",
    ":name: table-int-range\n",
    "\n",
    "|dtype|bits| min | max |\n",
    "|:---:|:---:|---:|---:|\n",
    "|int8|8|-128|+127|\n",
    "|int16|16|-32768|+32767|\n",
    "|int32|32|-2147483648|+2147483647|\n",
    "|int64|64|-9223372036854775808|+9223372036854775807|\n",
    "\n",
    "```"
   ]
  },
  {
   "cell_type": "markdown",
   "id": "d2bef076-6df6-43dd-a4ef-6187a354b601",
   "metadata": {},
   "source": [
    "You can ask `numpy` what is the range of integer using `iinfo`. "
   ]
  },
  {
   "cell_type": "code",
   "execution_count": 13,
   "id": "320283b6-931d-4f79-b979-64e2253757cb",
   "metadata": {},
   "outputs": [
    {
     "name": "stdout",
     "output_type": "stream",
     "text": [
      "max of int64 = 9223372036854775807\n",
      "min of int64 = -9223372036854775808\n"
     ]
    }
   ],
   "source": [
    "import numpy as np\n",
    "\n",
    "print('max of int64 =',np.iinfo('int64').max)\n",
    "print('min of int64 =',np.iinfo('int64').min)"
   ]
  },
  {
   "cell_type": "markdown",
   "id": "64126850-3558-403d-8ab5-4f82ceabb485",
   "metadata": {},
   "source": [
    "In the following example code, x and y are the same integer 123.  However, their type is different. x is python integer and y is `numpy` integer `int32`."
   ]
  },
  {
   "cell_type": "code",
   "execution_count": 1,
   "id": "11dcbe12-0594-4b82-b589-d8dd2561db37",
   "metadata": {},
   "outputs": [
    {
     "name": "stdout",
     "output_type": "stream",
     "text": [
      "x = 123  type= <class 'int'>\n",
      "y = 123  type= <class 'numpy.int32'>\n"
     ]
    }
   ],
   "source": [
    "import numpy as np\n",
    "\n",
    "# using integer type in python\n",
    "x = 123\n",
    "print('x =',x,' type=',type(x))\n",
    "\n",
    "# using numpy integer\n",
    "y = np.int32(123)\n",
    "print('y =',y,' type=',type(y))"
   ]
  },
  {
   "cell_type": "markdown",
   "id": "307e9cff-bd3c-4d18-9686-1f97a616792c",
   "metadata": {
    "editable": true,
    "slideshow": {
     "slide_type": ""
    },
    "tags": []
   },
   "source": [
    "\n",
    "\n",
    "**Example 1.3.1**: Huge integer: Exponential  \n",
    "\n",
    "Python can handle even $2 \\times 10^{100}$.  However, it does not work in `numpy` as integer. The error message indicates that Overflow error occurred."
   ]
  },
  {
   "cell_type": "code",
   "execution_count": 4,
   "id": "cce765ec-f9b9-4754-a92e-c2f4686054d7",
   "metadata": {
    "editable": true,
    "slideshow": {
     "slide_type": ""
    },
    "tags": []
   },
   "outputs": [
    {
     "name": "stdout",
     "output_type": "stream",
     "text": [
      "20000000000000000000000000000000000000000000000000000000000000000000000000000000000000000000000000000\n"
     ]
    },
    {
     "ename": "OverflowError",
     "evalue": "Python int too large to convert to C long",
     "output_type": "error",
     "traceback": [
      "\u001b[31m---------------------------------------------------------------------------\u001b[39m",
      "\u001b[31mOverflowError\u001b[39m                             Traceback (most recent call last)",
      "\u001b[36mCell\u001b[39m\u001b[36m \u001b[39m\u001b[32mIn[4]\u001b[39m\u001b[32m, line 3\u001b[39m\n\u001b[32m      1\u001b[39m x=\u001b[32m2\u001b[39m * \u001b[32m10\u001b[39m**\u001b[32m100\u001b[39m\n\u001b[32m      2\u001b[39m \u001b[38;5;28mprint\u001b[39m(x)\n\u001b[32m----> \u001b[39m\u001b[32m3\u001b[39m y=\u001b[43mnp\u001b[49m\u001b[43m.\u001b[49m\u001b[43mint64\u001b[49m\u001b[43m(\u001b[49m\u001b[43mx\u001b[49m\u001b[43m)\u001b[49m\n\u001b[32m      4\u001b[39m \u001b[38;5;28mprint\u001b[39m(y)\n",
      "\u001b[31mOverflowError\u001b[39m: Python int too large to convert to C long"
     ]
    }
   ],
   "source": [
    "x=2 * 10**100\n",
    "print(x)\n",
    "y=np.int64(x)\n",
    "print(y)"
   ]
  },
  {
   "cell_type": "markdown",
   "id": "4b172150-ec80-4f4e-a3c6-82cd7c4618a9",
   "metadata": {
    "editable": true,
    "slideshow": {
     "slide_type": ""
    },
    "tags": []
   },
   "source": [
    "**Example 1.3.2** Huge integer: Factorial\n",
    "\n",
    "Factorial $N!$ grows quickly as $N$ increases.  The python core can't calculate factorial. ```math``` package understands python integer and thus can handle huge integers.  Function math.factorial() returns integer in python integer type. Let us try 1000! Can you imagine how big it is?  Numpy can't deal with it."
   ]
  },
  {
   "cell_type": "code",
   "execution_count": 19,
   "id": "55d73ddb-dafd-4a52-900f-cf615c988e00",
   "metadata": {},
   "outputs": [
    {
     "name": "stdout",
     "output_type": "stream",
     "text": [
      "<class 'int'>   This is NOT int64\n",
      "1000! = 402387260077093773543702433923003985719374864210714632543799910429938512398629020592044208486969404800479988610197196058631666872994808558901323829669944590997424504087073759918823627727188732519779505950995276120874975462497043601418278094646496291056393887437886487337119181045825783647849977012476632889835955735432513185323958463075557409114262417474349347553428646576611667797396668820291207379143853719588249808126867838374559731746136085379534524221586593201928090878297308431392844403281231558611036976801357304216168747609675871348312025478589320767169132448426236131412508780208000261683151027341827977704784635868170164365024153691398281264810213092761244896359928705114964975419909342221566832572080821333186116811553615836546984046708975602900950537616475847728421889679646244945160765353408198901385442487984959953319101723355556602139450399736280750137837615307127761926849034352625200015888535147331611702103968175921510907788019393178114194545257223865541461062892187960223838971476088506276862967146674697562911234082439208160153780889893964518263243671616762179168909779911903754031274622289988005195444414282012187361745992642956581746628302955570299024324153181617210465832036786906117260158783520751516284225540265170483304226143974286933061690897968482590125458327168226458066526769958652682272807075781391858178889652208164348344825993266043367660176999612831860788386150279465955131156552036093988180612138558600301435694527224206344631797460594682573103790084024432438465657245014402821885252470935190620929023136493273497565513958720559654228749774011413346962715422845862377387538230483865688976461927383814900140767310446640259899490222221765904339901886018566526485061799702356193897017860040811889729918311021171229845901641921068884387121855646124960798722908519296819372388642614839657382291123125024186649353143970137428531926649875337218940694281434118520158014123344828015051399694290153483077644569099073152433278288269864602789864321139083506217095002597389863554277196742822248757586765752344220207573630569498825087968928162753848863396909959826280956121450994871701244516461260379029309120889086942028510640182154399457156805941872748998094254742173582401063677404595741785160829230135358081840096996372524230560855903700624271243416909004153690105933983835777939410970027753472000000000000000000000000000000000000000000000000000000000000000000000000000000000000000000000000000000000000000000000000000000000000000000000000000000000000000000000000000000000000000000000000000000000000000000000000000000000000000000000000000000000\n"
     ]
    }
   ],
   "source": [
    "import math\n",
    "\n",
    "x=math.factorial(1000)\n",
    "\n",
    "print(type(x),'  This is NOT int64')\n",
    "\n",
    "print('1000! =',x)\n"
   ]
  },
  {
   "cell_type": "markdown",
   "id": "51dcb719-1169-497f-b740-6e877f25252f",
   "metadata": {},
   "source": [
    "`scipy` has factorial function.  It says 1000! = inf, meaning it is infinity. It returns the result in type `float64` instead of integer type, which we discuss in next section."
   ]
  },
  {
   "cell_type": "code",
   "execution_count": 25,
   "id": "c470c5ff-2137-4a17-aef5-8c984b75eae6",
   "metadata": {},
   "outputs": [
    {
     "name": "stdout",
     "output_type": "stream",
     "text": [
      "<class 'numpy.float64'>\n",
      "1000! = inf\n"
     ]
    }
   ],
   "source": [
    "import scipy.special as ss\n",
    "\n",
    "x=ss.factorial(1000)\n",
    "print(type(x))\n",
    "print('1000! =',x)"
   ]
  },
  {
   "cell_type": "markdown",
   "id": "544451bf-2d72-4dae-be20-77fbfa929346",
   "metadata": {
    "editable": true,
    "slideshow": {
     "slide_type": ""
    },
    "tags": []
   },
   "source": [
    "## Arithmetic operations between integers\n",
    "\n",
    "Python core provides basic arithmetic operations between integers.  The result is python integer except for division whose result is python float (float is discussed in the following section.)\n",
    "\n",
    "* Addition (+): Adds two operands.\n",
    "* Subtraction (-): Subtracts the second operand from the first.\n",
    "* Multiplication (*): Multiplies two operands.\n",
    "* Division (/): Divides the first operand by the second, always returning a float result.\n",
    "* Floor Division (//): Divides the first operand by the second and returns the integer part of the quotient (rounds down to the nearest whole number).\n",
    "* Modulo (%): Returns the remainder of the division of the first operand by the second.\n",
    "* Exponentiation (**): Raises the first operand to the power of the second operand. \n",
    "\n",
    "Python adheres to the standard order of operations. \n",
    "1. parentheses are evaluated first\n",
    "2. followed by exponents,\n",
    "3. then multiplication and division (from left to right),\n",
    "4. finally addition and subtraction (from left to right)."
   ]
  },
  {
   "cell_type": "markdown",
   "id": "d246e979-a411-42bc-8926-acbee1d35b12",
   "metadata": {
    "editable": true,
    "slideshow": {
     "slide_type": ""
    },
    "tags": []
   },
   "source": [
    "**Example 1.3.3** Floor and Modulo"
   ]
  },
  {
   "cell_type": "code",
   "execution_count": 35,
   "id": "2b8e5067-8777-4c48-81ce-61ebce21bc1e",
   "metadata": {
    "editable": true,
    "slideshow": {
     "slide_type": ""
    },
    "tags": []
   },
   "outputs": [
    {
     "name": "stdout",
     "output_type": "stream",
     "text": [
      " floor of 10/3 = 3\n",
      "modulo of 10/3 = 1\n"
     ]
    }
   ],
   "source": [
    "print(' floor of 10/3 =',10//3)\n",
    "print('modulo of 10/3 =',10%3)\n"
   ]
  },
  {
   "cell_type": "markdown",
   "id": "c294a734-161c-470b-91a0-e36b21a13fc8",
   "metadata": {
    "editable": true,
    "slideshow": {
     "slide_type": ""
    },
    "tags": []
   },
   "source": [
    "\n",
    "---\n",
    "Last modified on 08/04/2025 by R. Kawai."
   ]
  }
 ],
 "metadata": {
  "kernelspec": {
   "display_name": "book",
   "language": "python",
   "name": "book"
  },
  "language_info": {
   "codemirror_mode": {
    "name": "ipython",
    "version": 3
   },
   "file_extension": ".py",
   "mimetype": "text/x-python",
   "name": "python",
   "nbconvert_exporter": "python",
   "pygments_lexer": "ipython3",
   "version": "3.12.11"
  }
 },
 "nbformat": 4,
 "nbformat_minor": 5
}
