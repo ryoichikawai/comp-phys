{
 "cells": [
  {
   "cell_type": "markdown",
   "id": "41722e95-5b65-4e53-8419-948dd7674c9b",
   "metadata": {
    "editable": true,
    "slideshow": {
     "slide_type": ""
    },
    "tags": []
   },
   "source": [
    "(sec-floating-point)=\n",
    "# Floating Point Numbers"
   ]
  },
  {
   "cell_type": "markdown",
   "id": "9dcff76b-ceed-46a5-9836-5c373c171b45",
   "metadata": {
    "editable": true,
    "slideshow": {
     "slide_type": ""
    },
    "tags": []
   },
   "source": [
    "Mathematically, real numbers are continuous and there are uncountablly many of them. There is no way to express real numbers in discrete systems. Therefore, it is quite challenging to express real numbers accurately in computers. A clever method known as _floating point arithmetic_ was developed and it is now a standard method to implement real numbers in modern computers.[^1]  Since scientific computation relies on the properties of floating point, we need to understand them.{cite}`Goldberg1991`\n",
    "\n",
    "[^1]: The latest standard is published in 2019, which is known as IEEE754-2019 standard.\n",
    "\n",
    "In the floating point arithmetic, a real number is expressed in \n",
    "scientific notation such as $1325.67 \\times 10^{12}$.  In computer languages, it is usually expressed as 1325.67E12 or 1325.67e12.  The idea is simple. The mantissa and exponent of scientific notation are treated separately as two integers. For example, 1325.67E12 = 132567E10 can be expressed with two integers 132567 and 10.  The significant figure is determined by the size of integer expressing the mantissa.\n",
    "\n",
    "Real numbers stored in a 32-bit string is known as type `float32` or _single precision_. It uses 24 bits for mantissa and 8 bits for exponent.  One bit is used to specify $\\pm$ sign.  The corresponding significant figure is $\\log_{10} 2^{23} \\approx 7$.  The exponent part is $2^{2^7}=2^{-128}$ to $2^{2^7-1}=2^{127}$ which is approximately $10^{-38}$ to $10^{+38}$. A strange feature of the standard floating point arithmetic is that there are two different zeroes, $+0.0$ and $-0.0$.  This is not a bug. Inside the computers, they are treated as two different numbers.  \n",
    "\n",
    "Real numbers stored in a 64-bit string is known as type `float64` (simply `float` in python) or _double precision_. It uses 54 bits for mantissa and 10 bits for exponent as shown in {numref}`fig-double-float`.  The largest value the mantissa can express  is $2^{53} = 9007,199,254,740,992$, which corresponds to significant figure 16.  The maximum exponent part is between $2^{-2^9} = 2^{-512} \\approx 10^{-308}$ and $2^{2^9-1} = 2^{511} \\approx 10^{308}$.[^2][^3] \n",
    "\n",
    "\n",
    "\n",
    "Usually, the single precision (`float32`) is not accurate enough for computational physics and thus we should use the double precision (`float64`).  In python core the double precision (`python float`) is default. The `math` package uses the python float. The double precision (`float64`) is default in `numpy`.[^4][^5]  Unlike integer type, python float and `numpy` float are the same and thus we don;t worry about conversion from python to `numpy`.\n",
    "\n",
    "[^2]: There is a slightly better enconding known as *denormalized float*.  The smallest value in the denormalized float method is $4.9406564584124654 \\times 10^{-324}$ for double and $1.401298 \\times 10^{-45}$ for single  which is smaller than the smallest value in the standard floating point method.  Most of modern computer programming language use denormalized float for very small number.  However, if the smallest possible value is asked, the system still returns the value in the standard floating point. \n",
    "\n",
    "[^3]: Modern CPUs used in desktop and laptop computers are capable of 80 bits floating point arithmetic which is more accurate than `float64`.  C/C++ offeres `long double` type for it.  Similarly, Fortran allows `REAL*10` which utilizes the 80 bits floating point processor.  However, they are not a standard size in the current computational environment.\n",
    "\n",
    "Some advanced computers are equipped with special arithmetic engine capable of 128-bits floating point arithmetic. The default size of floating point in python is 64 and its type is just `float`, which is good enough for most of numerical calculation in physics.  In `numpy`, we can use both `float32` and `float64` (default is `float64`). [^2]\n",
    "\n",
    "[^4]:`numpy` also offers `float128` but it is not true `float128` and not reliable at the present.\n",
    "\n",
    "[^5]: Some advanced computers are equipped with a special arithmetic engine capable of 128-bits floating point arithmetic. \n",
    "\n",
    "```{figure} double-float.png\n",
    "---\n",
    "name: fig-double-float\n",
    "---\n",
    "64-bit string for floating point expression.  The last bit is used for the sign and 11 bits from $b_{52}$ to $b_{62}$ express the exponent.  The remaining 52 bits express the mantissa.\n",
    "```"
   ]
  },
  {
   "cell_type": "markdown",
   "id": "c9763042-eb3e-432f-a5ac-66dd52e7f5d1",
   "metadata": {
    "editable": true,
    "slideshow": {
     "slide_type": ""
    },
    "tags": []
   },
   "source": [
    "## The range of floating points\n",
    "\n",
    "As discussed above, floating point has a finite range based on the size of bit string.  In most computers, the range is\n",
    "\n",
    "|  Type  | Minimum value   |  Maximum value |\n",
    "| ------ | -------------   | -------------- |\n",
    "| single | 1.175494351E-38 | 3.402823466E+38|\n",
    "| double | 2.2250738585072014E-308 | 1.7976931348623158E+308|\n",
    "\n",
    "You don't have to memorize these numbers since pythonknows them.  The follwoing example extract those information from python. \n"
   ]
  },
  {
   "cell_type": "markdown",
   "id": "4144f4e5-0315-47a5-8681-73fe423a5b6b",
   "metadata": {
    "editable": true,
    "slideshow": {
     "slide_type": ""
    },
    "tags": []
   },
   "source": [
    "\n",
    "---\n",
    "\n",
    "**Example 1.4.1**: Range of floating point numbers\n",
    "\n",
    "Let us try to find the largest and smallest *positive* numbers in your computer system.  `float_info` class in `sys` package tells the range of python float and the same information in `numpy` can be obtained with `np.finfo.  The both should output the same value."
   ]
  },
  {
   "cell_type": "code",
   "execution_count": 20,
   "id": "a3ab7c08-3979-494d-bf95-3e092cce76cc",
   "metadata": {
    "editable": true,
    "slideshow": {
     "slide_type": ""
    },
    "tags": []
   },
   "outputs": [
    {
     "name": "stdout",
     "output_type": "stream",
     "text": [
      "python float type = <class 'float'>\n",
      " numpy float type = <class 'numpy.float64'>\n",
      "\n",
      "python smallest positive float = 2.2250738585072014e-308\n",
      " numpy smallest positive float = 2.2250738585072014e-308\n",
      "\n",
      "python largest float = 1.7976931348623157e+308\n",
      " numpy largest float = 1.7976931348623157e+308\n"
     ]
    }
   ],
   "source": [
    "# float in python core\n",
    "import sys\n",
    "\n",
    "python_fmin = sys.float_info.min\n",
    "python_fmax = sys.float_info.max\n",
    "\n",
    "# float in numpy\n",
    "import numpy as np\n",
    "\n",
    "numpy_fmin = np.finfo(np.float64).tiny\n",
    "numpy_fmax = np.finfo(np.float64).max\n",
    "\n",
    "print(\"python float type =\",type(python_fmax))\n",
    "print(\" numpy float type =\",type(numpy_fmax))\n",
    "print()\n",
    "print(\"python smallest positive float =\",python_fmin)\n",
    "print(\" numpy smallest positive float =\",numpy_fmin)\n",
    "print()\n",
    "print(\"python largest float =\",python_fmax)\n",
    "print(\" numpy largest float =\",numpy_fmax)\n"
   ]
  },
  {
   "cell_type": "markdown",
   "id": "f7b88b12-2c18-490b-ac51-3cb82772aff5",
   "metadata": {
    "editable": true,
    "slideshow": {
     "slide_type": ""
    },
    "tags": []
   },
   "source": [
    "## Special value \"inf\"\n",
    "\n",
    "If the value exceeds the max, python outputs \"inf\".  Although it is not real infinity, python thinks it is.  Getting inf means your calculation failed due to *overflow error*."
   ]
  },
  {
   "cell_type": "markdown",
   "id": "2f948224-306d-49f5-ab07-b00f53bbf6ca",
   "metadata": {
    "editable": true,
    "slideshow": {
     "slide_type": ""
    },
    "tags": []
   },
   "source": [
    "\n",
    "---\n",
    "**Example 1.4.2**: number above fmax\n",
    "\n",
    "Find what is the outcome of a number larger than the maximum or smaller than minimum."
   ]
  },
  {
   "cell_type": "code",
   "execution_count": 2,
   "id": "6b97e458-f9d8-4f8f-8cbc-8f90b43ea7eb",
   "metadata": {
    "editable": true,
    "slideshow": {
     "slide_type": ""
    },
    "tags": []
   },
   "outputs": [
    {
     "name": "stdout",
     "output_type": "stream",
     "text": [
      "2 x fmax = inf\n"
     ]
    }
   ],
   "source": [
    "print(\"2 x fmax =\", 2*fmax)"
   ]
  },
  {
   "cell_type": "markdown",
   "id": "19b62848-8527-4d04-8294-4d0f2e6a37f7",
   "metadata": {
    "editable": true,
    "slideshow": {
     "slide_type": ""
    },
    "tags": []
   },
   "source": [
    "## Special value \"nan\"\n",
    "\n",
    "If mathematical operation is undefined, python just outputs \"nan\" whcih stands for \"not a number\".\n"
   ]
  },
  {
   "cell_type": "markdown",
   "id": "cea57a7e-a559-426a-b7f0-fec9a1e79c3b",
   "metadata": {
    "editable": true,
    "slideshow": {
     "slide_type": ""
    },
    "tags": []
   },
   "source": [
    "\n",
    "---\n",
    "**Example 1.4.3**: Infinity - Infinity\n",
    "\n",
    "$\\infty - \\infty$ is not zero.  The result is undefined.  If the result of a mathematical operation is undefined, python declares it is not a number or `nan`.  Let us computer $2 \\times \\infty - \\infty$.  The floating point expression of $\\infty$ is given by `float('inf')` which is _a number_ `inf`.  However, `float('inf')*2 - float('inf')` is `nan`, which is _not a number_."
   ]
  },
  {
   "cell_type": "code",
   "execution_count": 25,
   "id": "3b3516fe-55b4-43aa-a65f-6c27d59b005d",
   "metadata": {
    "editable": true,
    "slideshow": {
     "slide_type": ""
    },
    "tags": []
   },
   "outputs": [
    {
     "name": "stdout",
     "output_type": "stream",
     "text": [
      "x = inf\n",
      "x*2-x = nan\n"
     ]
    }
   ],
   "source": [
    "x = float('inf')\n",
    "print('x =',x)\n",
    "print('x*2-x =',x*2-x)"
   ]
  },
  {
   "cell_type": "markdown",
   "id": "f16c84aa-549d-4ea5-b455-14328aa682d8",
   "metadata": {
    "editable": true,
    "slideshow": {
     "slide_type": ""
    },
    "tags": []
   },
   "source": [
    "## Overflow errors\n",
    "\n",
    "When the output of a calculation exceeds the maximum of floating point (fmax), normally you get `inf`. In som cases, python issues `overflow` error instead.  Usually, overflow error happens when you enter too large value into a function.  For example `exp(1000)` causes overflow error.  `inf` is just a _number_ and not an error, the computation is not interupted. However, overflow error is serious and the compuation stops there.  There is no universal mitigation of overflow error.  You need to find a better algorithm to compute it. \n",
    "The following example explains how to evaluate factorial of a large integer."
   ]
  },
  {
   "cell_type": "markdown",
   "id": "fa6e638d-da0f-4f31-bc8f-36b72f441d85",
   "metadata": {
    "editable": true,
    "slideshow": {
     "slide_type": ""
    },
    "tags": []
   },
   "source": [
    "\n",
    "---\n",
    "**Example 1.4.4**: Factorial\n",
    "\n",
    "Factorial of a large integer is astronomically large. For example, 1000!.  Let try to compute 100! first.  While the paython core can deal with arbitrary large integer numbers. It does not provide mathematical functions.  For mathematical computation, ```numpy``` package is a common choice but it can't deal with a huge integer beyond we discussed in Section {numref}`sec-integers`.  Now we resort to ```math``` package which can handle arbitrary large integer number in mathetical computation. "
   ]
  },
  {
   "cell_type": "code",
   "execution_count": 19,
   "id": "013e3b2b-2912-47bd-8367-5842a623289a",
   "metadata": {
    "editable": true,
    "slideshow": {
     "slide_type": ""
    },
    "tags": []
   },
   "outputs": [
    {
     "name": "stdout",
     "output_type": "stream",
     "text": [
      "100! = 93326215443944152681699238856266700490715968264381621468592963895217599993229915608941463976156518286253697920827223758251185210916864000000000000000000000000\n"
     ]
    }
   ],
   "source": [
    "# Here we use math package to compute a large factorial.\n",
    "import math\n",
    "\n",
    "# 100! using math factorial function\n",
    "\n",
    "x=math.factorial(100)\n",
    "print('100! =',x)\n"
   ]
  },
  {
   "cell_type": "markdown",
   "id": "5c2efe19-33e8-4d5f-bf36-d82258c3269f",
   "metadata": {},
   "source": [
    "It is too large to store in 64-bit string discussed in Section {numref}`sec-integers`. Our brain cannot comprehend such value.  It is better to express it approximaltely in scientific notation.  In phython, that is floating point expression.\n"
   ]
  },
  {
   "cell_type": "code",
   "execution_count": 14,
   "id": "bc829397-3817-4513-bda6-a43ed29c698c",
   "metadata": {
    "tags": []
   },
   "outputs": [
    {
     "name": "stdout",
     "output_type": "stream",
     "text": [
      "Approxiamate value in float = 9.332621544394415e+157\n"
     ]
    }
   ],
   "source": [
    "# converting x=100! to float\n",
    "\n",
    "print('Approxiamate value in float =',float(x))"
   ]
  },
  {
   "cell_type": "markdown",
   "id": "815809cf-1b01-4928-989f-81f5c7d3a615",
   "metadata": {},
   "source": [
    "So, $100! \\approx 9.33 \\times 10^{157}$. It fits to 64bit floating point expression.  Now, try 1000!"
   ]
  },
  {
   "cell_type": "code",
   "execution_count": 15,
   "id": "de866d44-90ff-4f1b-ab03-20fcb131ba16",
   "metadata": {
    "tags": []
   },
   "outputs": [
    {
     "name": "stdout",
     "output_type": "stream",
     "text": [
      "1000! = 402387260077093773543702433923003985719374864210714632543799910429938512398629020592044208486969404800479988610197196058631666872994808558901323829669944590997424504087073759918823627727188732519779505950995276120874975462497043601418278094646496291056393887437886487337119181045825783647849977012476632889835955735432513185323958463075557409114262417474349347553428646576611667797396668820291207379143853719588249808126867838374559731746136085379534524221586593201928090878297308431392844403281231558611036976801357304216168747609675871348312025478589320767169132448426236131412508780208000261683151027341827977704784635868170164365024153691398281264810213092761244896359928705114964975419909342221566832572080821333186116811553615836546984046708975602900950537616475847728421889679646244945160765353408198901385442487984959953319101723355556602139450399736280750137837615307127761926849034352625200015888535147331611702103968175921510907788019393178114194545257223865541461062892187960223838971476088506276862967146674697562911234082439208160153780889893964518263243671616762179168909779911903754031274622289988005195444414282012187361745992642956581746628302955570299024324153181617210465832036786906117260158783520751516284225540265170483304226143974286933061690897968482590125458327168226458066526769958652682272807075781391858178889652208164348344825993266043367660176999612831860788386150279465955131156552036093988180612138558600301435694527224206344631797460594682573103790084024432438465657245014402821885252470935190620929023136493273497565513958720559654228749774011413346962715422845862377387538230483865688976461927383814900140767310446640259899490222221765904339901886018566526485061799702356193897017860040811889729918311021171229845901641921068884387121855646124960798722908519296819372388642614839657382291123125024186649353143970137428531926649875337218940694281434118520158014123344828015051399694290153483077644569099073152433278288269864602789864321139083506217095002597389863554277196742822248757586765752344220207573630569498825087968928162753848863396909959826280956121450994871701244516461260379029309120889086942028510640182154399457156805941872748998094254742173582401063677404595741785160829230135358081840096996372524230560855903700624271243416909004153690105933983835777939410970027753472000000000000000000000000000000000000000000000000000000000000000000000000000000000000000000000000000000000000000000000000000000000000000000000000000000000000000000000000000000000000000000000000000000000000000000000000000000000000000000000000000000000\n"
     ]
    }
   ],
   "source": [
    "x=math.factorial(1000)\n",
    "print('1000! =',x)"
   ]
  },
  {
   "cell_type": "markdown",
   "id": "66bb3b1c-7096-472c-9ee7-547ccb8ba448",
   "metadata": {},
   "source": [
    "which is hugh and practically useless.  Let us convert it to float."
   ]
  },
  {
   "cell_type": "code",
   "execution_count": 19,
   "id": "40d10b76-2fab-434e-9ac2-b6fbfb67bd16",
   "metadata": {
    "editable": true,
    "slideshow": {
     "slide_type": ""
    },
    "tags": []
   },
   "outputs": [
    {
     "ename": "NameError",
     "evalue": "name 'math' is not defined",
     "output_type": "error",
     "traceback": [
      "\u001b[31m---------------------------------------------------------------------------\u001b[39m",
      "\u001b[31mNameError\u001b[39m                                 Traceback (most recent call last)",
      "\u001b[36mCell\u001b[39m\u001b[36m \u001b[39m\u001b[32mIn[19]\u001b[39m\u001b[32m, line 1\u001b[39m\n\u001b[32m----> \u001b[39m\u001b[32m1\u001b[39m \u001b[38;5;28mprint\u001b[39m(\u001b[33m'\u001b[39m\u001b[33mApproxiamate value in float =\u001b[39m\u001b[33m'\u001b[39m,\u001b[43mmath\u001b[49m.float(x))\n",
      "\u001b[31mNameError\u001b[39m: name 'math' is not defined"
     ]
    }
   ],
   "source": [
    "print('Approxiamate value in float =',float(x))"
   ]
  },
  {
   "cell_type": "markdown",
   "id": "417be944-5912-4d60-8dc8-48cbb409b114",
   "metadata": {
    "editable": true,
    "slideshow": {
     "slide_type": ""
    },
    "tags": []
   },
   "source": [
    "The direct evaluation of 1000! seems hopeless.  We need to find a manual way to find its scientific notation\n",
    " $1000! \\approx a \\times 10^{b}$.  In order to find the mantissa $a$ and exponent $b$, first we evaluate $\\log N!$ as follows.\n",
    "\n",
    "$$\n",
    "\\begin{eqnarray}\n",
    "y &=& \\log(N!) = \\log(1 \\cdot 2 \\cdot 3 \\cdots N-1 \\cdot N) \\\\\n",
    "&=& \\log(1)+\\log(2)+\\log(3)+\\cdots + \\log(N-1)+\\log(N)\n",
    "\\end{eqnarray}\n",
    "$$\n",
    "\n",
    "where we assume the base is 10, that is  $\\log = \\log_{10}$\n",
    "Notice that $\\log 1000 = 3$.  Hence, $\\log N!$ is just a sum of small number.  Once we found $y$, the factorial can be obtained by $n! = 10^y$. \n",
    "Next we split $y$ to the whole number k=$\\lfloor y \\rfloor$ and the residual $\\delta=y - \\lfloor y \\rfloor$.\n",
    "Now, we have $n! = 10^{k+\\delta} = 10^\\delta \\times 10^k$ and thus the mantissa is $10^\\delta$ and power is $k$.  "
   ]
  },
  {
   "cell_type": "code",
   "execution_count": 27,
   "id": "948d9e62-251f-436c-888a-92542cf25161",
   "metadata": {
    "editable": true,
    "slideshow": {
     "slide_type": ""
    },
    "tags": []
   },
   "outputs": [
    {
     "name": "stdout",
     "output_type": "stream",
     "text": [
      "power= 2567\n",
      "mantissa= 4.023872600773956\n"
     ]
    }
   ],
   "source": [
    "import math\n",
    "x = math.factorial(1000)\n",
    "y = math.log10(x)\n",
    "b = math.floor(y)\n",
    "a = 10**(y-b)\n",
    "\n",
    "print(\"power=\",b)\n",
    "print(\"mantissa=\",a)"
   ]
  },
  {
   "cell_type": "markdown",
   "id": "aa582c74-6ab8-4718-9662-a25bbe9fa993",
   "metadata": {
    "editable": true,
    "slideshow": {
     "slide_type": ""
    },
    "tags": []
   },
   "source": [
    "which tells that $1000! \\approx 4.0239 \\times 10^{2567}$.  You can see that the number is far bigger the maximum of `float64`."
   ]
  },
  {
   "cell_type": "markdown",
   "id": "3e25562a-7b91-4659-a348-b49fa898817e",
   "metadata": {
    "editable": true,
    "slideshow": {
     "slide_type": ""
    },
    "tags": []
   },
   "source": [
    "\n",
    "---\n",
    "Last modified on 02/09/2024 by R. Kawai."
   ]
  }
 ],
 "metadata": {
  "kernelspec": {
   "display_name": "book",
   "language": "python",
   "name": "book"
  },
  "language_info": {
   "codemirror_mode": {
    "name": "ipython",
    "version": 3
   },
   "file_extension": ".py",
   "mimetype": "text/x-python",
   "name": "python",
   "nbconvert_exporter": "python",
   "pygments_lexer": "ipython3",
   "version": "3.12.11"
  }
 },
 "nbformat": 4,
 "nbformat_minor": 5
}
