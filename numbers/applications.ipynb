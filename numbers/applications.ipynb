{
 "cells": [
  {
   "cell_type": "markdown",
   "id": "0e40fa36-c1ed-4010-9254-b1bd93f387c9",
   "metadata": {},
   "source": [
    "(sec-numbers-app)=\n",
    "# Applications"
   ]
  },
  {
   "cell_type": "markdown",
   "id": "0eab45e7-6b45-40fc-9d57-629fc450c455",
   "metadata": {},
   "source": [
    "(sec_roots_quadratic)=\n",
    "## Roots of quadratic equations\n",
    "\n",
    "Many physics applications such as molecular dynamics simulation need to solve quadratic equations: \n",
    "$a x^2 + b x + c = 0$. Its solitions are well known.  If $a\\ne 0$, we have the standard formula:\n",
    "\n",
    "$$\n",
    "x_+ = \\frac{-b + \\sqrt{b^2 - 4 a c}}{2 a}, \\qquad x_- = \\frac{-b - \\sqrt{b^2 - 4 a c}}{2 a}\n",
    "$$(eq-quadratic-standard)\n",
    "\n",
    "When $a=0$, we have only one solution $x_0=-c/b$.  There seems no problem evaluating these solutions.  However, in some cases, computers give us wrong answers.\n",
    "\n",
    "The coefficients, $a$, $b$, and $c$ change as the computation proceeds.  Think what will happen to the two solution when $a$ becomes very small.  One solution should be close to $x_0$.  How about the other?   A bad thing happens to the other solution.  To seee that, let assume $a>0$ and $b>0$ for moment.  Take a look at the numerator of $x_+$. $\\sqrt{b-4ac}$ is only slightly smaller than $b$.  Recall that computers are not good at evaluating the difference between two similar values. \n",
    "\n",
    "Fortunately, there is a simple way to avoid the loss of significant figures:\n",
    "\n",
    "$$\n",
    "x_+ = \\frac{-b + \\sqrt{b^2 - 4 a c}}{2 a} = \\frac{2c}{-b+\\sqrt{b^2 - 4 a c}} = \\frac{c}{a x_-}\n",
    "$$\n",
    "\n",
    "which does not involve the severe substraction."
   ]
  },
  {
   "cell_type": "markdown",
   "id": "29834f4a-ef85-4022-940c-9d50881b42f1",
   "metadata": {},
   "source": [
    ">**Algorithm 1.6.1** Roots of quadratic equations\n",
    "> Roots of $a x^2 + b x + c = 0$ ($a\\ne 0$ and $b\\ne 0$) are given by\n",
    ">\n",
    ">$$\n",
    "\\begin{eqnarray}\n",
    "x_1 &=& \\frac{-b - \\text{sign}(b)\\sqrt{b^2 - 4 a c}}{2a}  \\\\\n",
    "x_2 &=& \\frac{c}{a x_1}\n",
    "\\end{eqnarray}\n",
    "$$(eq-quadratic-smart)\n",
    ">\n",
    ">where the signum function $\\text{sign}(x)$ is defined by\n",
    ">\n",
    ">$$\n",
    "\\text{sign}(x) = \\begin{cases} +1 & x>0 \\\\ -1 & x<0 \\end{cases}\n",
    "$$"
   ]
  },
  {
   "cell_type": "code",
   "execution_count": 19,
   "id": "17f3c569-be0b-465a-b414-be6fc667c9f7",
   "metadata": {
    "tags": []
   },
   "outputs": [
    {
     "name": "stdout",
     "output_type": "stream",
     "text": [
      "a=1.00e+00, regular=-5.0000000000000000e-01, smart=-5.0000000000000000e-01\n",
      "a=1.00e-01, regular=-2.5658350974743116e-01, smart=-2.5658350974743099e-01\n",
      "a=1.00e-02, regular=-2.5062814466900174e-01, smart=-2.5062814466900230e-01\n",
      "a=1.00e-03, regular=-2.5006253126952371e-01, smart=-2.5006253126954492e-01\n",
      "a=1.00e-04, regular=-2.5000625031246226e-01, smart=-2.5000625031251955e-01\n",
      "a=1.00e-05, regular=-2.5000062500168951e-01, smart=-2.5000062500312503e-01\n",
      "a=1.00e-06, regular=-2.5000006248498957e-01, smart=-2.5000006250003121e-01\n",
      "a=1.00e-07, regular=-2.5000000625219337e-01, smart=-2.5000000625000030e-01\n",
      "a=1.00e-08, regular=-2.5000000403174732e-01, smart=-2.5000000062500000e-01\n",
      "a=1.00e-09, regular=-2.5000002068509269e-01, smart=-2.5000000006250001e-01\n",
      "a=1.00e-10, regular=-2.5000002068509269e-01, smart=-2.5000000000625000e-01\n",
      "a=1.00e-11, regular=-2.5000002068509269e-01, smart=-2.5000000000062500e-01\n",
      "a=1.00e-12, regular=-2.5002222514558520e-01, smart=-2.5000000000006251e-01\n",
      "a=1.00e-13, regular=-2.5035529205297274e-01, smart=-2.5000000000000627e-01\n",
      "a=1.00e-14, regular=-2.4980018054066019e-01, smart=-2.5000000000000061e-01\n",
      "a=1.00e-15, regular=-2.7755575615628914e-01, smart=-2.5000000000000006e-01\n"
     ]
    },
    {
     "data": {
      "image/png": "[encoded data removed]",
      "text/plain": [
       "<Figure size 600x500 with 1 Axes>"
      ]
     },
     "metadata": {},
     "output_type": "display_data"
    }
   ],
   "source": [
    "import numpy as np\n",
    "import matplotlib.pyplot as plt\n",
    "\n",
    "b=1.0\n",
    "c=0.25\n",
    "a=1.0\n",
    "x=np.zeros(50)\n",
    "y1=np.zeros(50)\n",
    "y2=np.zeros(50)\n",
    "n=0\n",
    "while a > np.finfo(float).eps:\n",
    "    x[n]=a\n",
    "    d=b**2-4*a*c\n",
    "    y1[n]=(-b+np.sqrt(d))/(2.0*a)\n",
    "    y2[n]=-2*c/(b+np.sqrt(d))\n",
    "    print(\"a={0:8.2e}, regular={1:22.16e}, smart={2:22.16e}\"\n",
    "          .format(x[n],y1[n],y2[n]))\n",
    "    n+=1\n",
    "    a=a/10.\n",
    "\n",
    "plt.ioff()\n",
    "plt.figure(figsize=(6,5))\n",
    "plt.loglog(x[0:n],abs(y2[0:n]+0.25), 'ob', label='smart')\n",
    "plt.loglog(x[0:n],abs(y1[0:n]+0.25), 'or', label='regular')\n",
    "plt.legend(loc=4)\n",
    "plt.xlabel('a')\n",
    "plt.ylabel('$|x-x_0|$')\n",
    "plt.show()"
   ]
  },
  {
   "cell_type": "markdown",
   "id": "dcce43f3-8637-43c2-aa98-f291dbf45561",
   "metadata": {},
   "source": [
    "The result of smart formular Eq. {eq}`eq-quadratic-smart` approaches the correct limit as $a \\rightarrow 0$.  On the other hand, standard formular {eq}`eq-quadratic-standard` becomes errorneous for $a<10^{-7}$.  In fact, a graduate student who was investing non-equilibrium thermal processes using hard disc molecular dynamics suffered from this error."
   ]
  },
  {
   "cell_type": "markdown",
   "id": "757bd226-d015-4c60-b31b-2f4c755d00cc",
   "metadata": {},
   "source": [
    "\n",
    "---\n",
    "Last modified on 2/12/2024 by R. Kawai."
   ]
  },
  {
   "cell_type": "code",
   "execution_count": null,
   "id": "1a7f43cd-6597-4a60-8190-ce0b506e59bd",
   "metadata": {},
   "outputs": [],
   "source": []
  },
  {
   "cell_type": "code",
   "execution_count": null,
   "id": "3cd1996e-d5fc-49aa-b380-c72aabb0eb0b",
   "metadata": {},
   "outputs": [],
   "source": []
  },
  {
   "cell_type": "code",
   "execution_count": null,
   "id": "54a1a25d-a7fb-4cef-9524-0fb9956a0087",
   "metadata": {},
   "outputs": [],
   "source": []
  }
 ],
 "metadata": {
  "kernelspec": {
   "display_name": "jbook",
   "language": "python",
   "name": "jbook"
  },
  "language_info": {
   "codemirror_mode": {
    "name": "ipython",
    "version": 3
   },
   "file_extension": ".py",
   "mimetype": "text/x-python",
   "name": "python",
   "nbconvert_exporter": "python",
   "pygments_lexer": "ipython3",
   "version": "3.10.0"
  }
 },
 "nbformat": 4,
 "nbformat_minor": 5
}
