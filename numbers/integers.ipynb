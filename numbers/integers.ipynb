{
 "cells": [
  {
   "cell_type": "markdown",
   "id": "5bb7670f-757d-4003-a48d-45034613bfa2",
   "metadata": {},
   "source": [
    "(sec-integers)=\n",
    "# Integers\n"
   ]
  },
  {
   "cell_type": "markdown",
   "id": "038e6152-8795-404f-8fa0-19b9ff0f9a64",
   "metadata": {},
   "source": [
    "Digital computers express everything as bit strings, which are discrete.  Hence, it is not possible to express continuous numbers.\n",
    "Integers are discrete and their exact enumeration is possible.  In principle, huge integer can be implemented as long as there is enough memory.   Since version 3, the python platform  does not have a limit of integer and it dynamically changes the size of integer  as needed.  However, this feature is rather unique to python and most of common computer languages such as C++ allow several fized length of integers, known as `int8`, `int16`, `int32`, and `int64` where the numbers indicate the size of bit strings. Commonly used python numerical packages such as `numpy` use C++ in backend. If we want to write a transportable code, we need to use  standard sizes used by common programming languages.  We will disucss them in  section of numpy.\n",
    "\n",
    "Encoding integers are relatively simple. First, we express them in binary form $I = \\sum_{k=0}^{N-1} 2^k b_k$.\n",
    "Then the corresponding binary string $b_{N-1} \\cdots b_2 b_1 b_0$ is uniquely express the integer.\n",
    "For example, binary number $101$ corresponds to integer $1\\times 1+ 2 \\times 0 + 4 \\times 1 =5$.   Noting that an 8-bit binary string can express $256$ different integers, it expresses integers from 0 to 255. In general, an $N$-bit string encodes integers from 0 to $2^N-1$.  Since negative integer is not included, this type of integer is called *unsigned integer*.\n",
    "\n",
    "If a *signed integer* is needed, one bit of the binary string is used to specifies the sign, 0 for $+$ and 1 for $-$, and remaining bits are used for the magnitude. An 8-bit binary string spans from $-128$ to $+127$.  {numref}`table-int-range` shows the range of other integer types.  The default size of signed integer is 32 bit in most computer languages.  However, 64-bit integer can be used for large scale calculation.  Common hardware cannot handle integers larger than 64 bit. If more than 64 bit is needed, you must use a special numerical library.  "
   ]
  },
  {
   "cell_type": "markdown",
   "id": "0f6e99c5-7fe4-486c-8992-109b12c4fe16",
   "metadata": {},
   "source": [
    "```{table} The range of unsigned and signed integers\n",
    ":name: table-int-range\n",
    "\n",
    "|bit size| min | max |\n",
    "|:---:|---:|---:|\n",
    "|8|-128|+127|\n",
    "|16|-32768|+32767|\n",
    "|32|-2147483648|+2147483647|\n",
    "|64|-9223372036854775808|+9223372036854775807|\n",
    "\n",
    "```"
   ]
  },
  {
   "cell_type": "markdown",
   "id": "307e9cff-bd3c-4d18-9686-1f97a616792c",
   "metadata": {},
   "source": [
    "\n",
    "**Example 1.3.1**:  Huge intgers.  \n",
    "\n",
    "Python can handle even $2 \\times 10^{100}$.  However, it does not work in `numpy` as integer.  We will discuss how to handle a huge integer in numpy when we need it.\n"
   ]
  },
  {
   "cell_type": "code",
   "execution_count": 7,
   "id": "cce765ec-f9b9-4754-a92e-c2f4686054d7",
   "metadata": {},
   "outputs": [
    {
     "name": "stdout",
     "output_type": "stream",
     "text": [
      "20000000000000000000000000000000000000000000000000000000000000000000000000000000000000000000000000000\n"
     ]
    }
   ],
   "source": [
    "x=2 * 10**100\n",
    "print(x)"
   ]
  },
  {
   "cell_type": "markdown",
   "id": "21f7b924-8f15-4fc6-8475-166234947e6c",
   "metadata": {},
   "source": [
    "While such a huge integers are supported at the software level, hardware (cpu) can't handle large binary strings at each cycle of computation.  The limit can be obtained by `sys.maxsize`."
   ]
  },
  {
   "cell_type": "markdown",
   "id": "1afb7585-a011-45fa-952a-574eb4834999",
   "metadata": {},
   "source": [
    "---\n",
    "\n",
    "**Example 1.3.2**\n",
    "\n",
    "Let's us try to find the max size of the hardware."
   ]
  },
  {
   "cell_type": "code",
   "execution_count": 33,
   "id": "ecb0eca0-57a9-405a-ba33-e878b170aef9",
   "metadata": {
    "tags": []
   },
   "outputs": [
    {
     "name": "stdout",
     "output_type": "stream",
     "text": [
      "9223372036854775807\n"
     ]
    }
   ],
   "source": [
    "import sys\n",
    "print(sys.maxsize)"
   ]
  },
  {
   "cell_type": "markdown",
   "id": "fe1e9577-8fa6-494e-9c54-905d6124a007",
   "metadata": {},
   "source": [
    "which corresponds to 64 bits."
   ]
  },
  {
   "cell_type": "markdown",
   "id": "c294a734-161c-470b-91a0-e36b21a13fc8",
   "metadata": {},
   "source": [
    "\n",
    "---\n",
    "Last modified on 09/08/2022 by R. Kawai."
   ]
  },
  {
   "cell_type": "code",
   "execution_count": 9,
   "id": "a4ce473c-8d73-4ca8-b0a1-23be997b25da",
   "metadata": {},
   "outputs": [
    {
     "name": "stdout",
     "output_type": "stream",
     "text": [
      "10000000000000000000000000000000000000000000000000000000000000000000000000000000000000000000000000000\n",
      "20000000000000000000000000000000000000000000000000000000000000000000000000000000000000000000000000000\n"
     ]
    }
   ],
   "source": [
    "import numpy as np\n",
    "x=np.dtype(object)\n",
    "x=10**100\n",
    "print(x)\n",
    "y=2*x\n",
    "print(y)"
   ]
  },
  {
   "cell_type": "markdown",
   "id": "c862b517-fa55-4263-8edb-210028b415dd",
   "metadata": {},
   "source": [
    "\n",
    "---\n",
    "Last modified on 02/09/2024 by R. Kawai."
   ]
  }
 ],
 "metadata": {
  "kernelspec": {
   "display_name": "Python 3 (ipykernel)",
   "language": "python",
   "name": "python3"
  },
  "language_info": {
   "codemirror_mode": {
    "name": "ipython",
    "version": 3
   },
   "file_extension": ".py",
   "mimetype": "text/x-python",
   "name": "python",
   "nbconvert_exporter": "python",
   "pygments_lexer": "ipython3",
   "version": "3.10.13"
  }
 },
 "nbformat": 4,
 "nbformat_minor": 5
}
