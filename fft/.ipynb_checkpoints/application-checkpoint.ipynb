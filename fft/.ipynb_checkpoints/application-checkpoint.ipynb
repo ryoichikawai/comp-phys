{
 "cells": [
  {
   "cell_type": "markdown",
   "id": "82290e40-4678-4080-b8f5-2250d941ffd4",
   "metadata": {},
   "source": [
    "=(sec:application-fft)\n",
    "# Applications"
   ]
  },
  {
   "cell_type": "markdown",
   "id": "3c256867-1ddd-4748-a80b-fc2de87b9bc2",
   "metadata": {},
   "source": [
    "FFT is widely used in science and engineering.  In this section, we introduce a few of applications related to physics.\n",
    "\n",
    "* **Laplacian Operator (one-dimensional)**\n",
    "* **Wavefunction in the momentum space**\n",
    "* **Convolution and correlation functions**\n",
    "* **Spectral analysis**\n",
    "* **Chaotic motion**"
   ]
  }
 ],
 "metadata": {
  "kernelspec": {
   "display_name": "book",
   "language": "python",
   "name": "book"
  },
  "language_info": {
   "codemirror_mode": {
    "name": "ipython",
    "version": 3
   },
   "file_extension": ".py",
   "mimetype": "text/x-python",
   "name": "python",
   "nbconvert_exporter": "python",
   "pygments_lexer": "ipython3",
   "version": "3.12.11"
  }
 },
 "nbformat": 4,
 "nbformat_minor": 5
}
