{
 "cells": [
  {
   "cell_type": "markdown",
   "id": "82290e40-4678-4080-b8f5-2250d941ffd4",
   "metadata": {},
   "source": [
    "=(sec:application-fft)\n",
    "# Applications"
   ]
  },
  {
   "cell_type": "markdown",
   "id": "3c256867-1ddd-4748-a80b-fc2de87b9bc2",
   "metadata": {},
   "source": [
    "FFT is widely used in science and enginering.  In this section, we itroduce a few of appl;ications related to physics.\n",
    "\n",
    "* **Laplacian Operator (one-dimensional)**\n",
    "* **Convolution and correlation functions**\n",
    "* **Spectral analysis**\n",
    "* **Wavefunction in the momentum space**\n",
    "* "
   ]
  }
 ],
 "metadata": {
  "kernelspec": {
   "display_name": "jbook",
   "language": "python",
   "name": "jbook"
  },
  "language_info": {
   "codemirror_mode": {
    "name": "ipython",
    "version": 3
   },
   "file_extension": ".py",
   "mimetype": "text/x-python",
   "name": "python",
   "nbconvert_exporter": "python",
   "pygments_lexer": "ipython3",
   "version": "3.11.9"
  }
 },
 "nbformat": 4,
 "nbformat_minor": 5
}
