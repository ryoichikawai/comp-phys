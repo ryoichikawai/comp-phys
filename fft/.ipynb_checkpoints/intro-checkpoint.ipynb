{
 "cells": [
  {
   "cell_type": "markdown",
   "id": "eb92ca95-1c0f-494b-b0dc-7e1429c48833",
   "metadata": {},
   "source": [
    "# Fourier Transformation"
   ]
  },
  {
   "cell_type": "markdown",
   "id": "ea234cee-4c4e-4f2b-8b2a-d213fff727e9",
   "metadata": {},
   "source": [
    "Suppose that we have a time-dependent signal $s(t)$ where $t$ is time.  We wwant to analyze the signal and find a characteristic feature.  Fourier analysis is one of the most popular mathematical approach.  It has been widely used in engineering, science, mathematics, information theory, image processing, stock market, and more. The analysis is based on Fourier transform, which we study in this chapter.\n",
    "\n",
    "As usual, we begin with some mathematical preperation. First, we review Fourier theorem, on which the Fourier analysis based.  In the folloing secvtion, we develop a discrete version of Fourier theorem suitable for digital computation. Then, we introduce a very efficient numerical algorithm to compute the discrete Fourier transform known as Fast Fourier Transform (FFT)."
   ]
  },
  {
   "cell_type": "markdown",
   "id": "f9e31143-7844-405c-ba34-2b5c22bb43bc",
   "metadata": {},
   "source": [
    "\n",
    "---\n",
    "Written on 9/23/2024 by Ryoichi Kawai."
   ]
  },
  {
   "cell_type": "code",
   "execution_count": null,
   "id": "0e7824ab-25ef-4cc0-b5cb-25398e458f40",
   "metadata": {},
   "outputs": [],
   "source": []
  }
 ],
 "metadata": {
  "kernelspec": {
   "display_name": "book",
   "language": "python",
   "name": "book"
  },
  "language_info": {
   "codemirror_mode": {
    "name": "ipython",
    "version": 3
   },
   "file_extension": ".py",
   "mimetype": "text/x-python",
   "name": "python",
   "nbconvert_exporter": "python",
   "pygments_lexer": "ipython3",
   "version": "3.12.11"
  }
 },
 "nbformat": 4,
 "nbformat_minor": 5
}
