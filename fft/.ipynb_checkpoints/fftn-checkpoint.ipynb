{
 "cells": [
  {
   "cell_type": "markdown",
   "id": "b944bc10-c23a-4cbb-9395-7d38082e6203",
   "metadata": {},
   "source": [
    "=(sec:FFTn)\n",
    "# Multi-dimensional FFT"
   ]
  },
  {
   "cell_type": "markdown",
   "id": "427ac6a1-163e-470d-ad85-ed9afcc19c30",
   "metadata": {},
   "source": [
    "Fourier transform can be defined for a multi-dimensional function.  FOr example, consider two-dimensional function $f(x,y)$.  Its Fourier transform is defined as\n",
    "\n",
    "$$\n",
    "\\tilde{f}(k_x,k_y) = \\int_{-\\infty}^\\infty dx \\int_{-\\infty}^\\infty dy \\, f(x,y) e^{ik_x x} e^{i k_y y}\n",
    "$$\n",
    "\n",
    "We can apply one-dimensional FFT for each axis, which is done by ```fftn``` in ```numpy.fft```.\n"
   ]
  },
  {
   "cell_type": "markdown",
   "id": "0854d182-35e5-4e9b-a5a3-7c6e271b7166",
   "metadata": {},
   "source": [
    "Example %s.1 Foureir Transform of a Gaussian Function]"
   ]
  }
 ],
 "metadata": {
  "kernelspec": {
   "display_name": "book",
   "language": "python",
   "name": "book"
  },
  "language_info": {
   "codemirror_mode": {
    "name": "ipython",
    "version": 3
   },
   "file_extension": ".py",
   "mimetype": "text/x-python",
   "name": "python",
   "nbconvert_exporter": "python",
   "pygments_lexer": "ipython3",
   "version": "3.12.11"
  }
 },
 "nbformat": 4,
 "nbformat_minor": 5
}
