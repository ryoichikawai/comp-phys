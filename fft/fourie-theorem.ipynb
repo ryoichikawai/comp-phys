{
 "cells": [
  {
   "cell_type": "markdown",
   "id": "f6cf8c51-f357-41d2-b276-470ce206e831",
   "metadata": {},
   "source": [
    "# Fourier Theorem and Fourier Transformation"
   ]
  },
  {
   "cell_type": "markdown",
   "id": "657dca13-283e-4d28-81d8-4d687e1e278f",
   "metadata": {},
   "source": [
    "To begin with, let us review the definition and some properties of Fourier transform.\n",
    "The Fourier theorem states that\n",
    "\n",
    "$$\n",
    "f(t) = \\frac{1}{2\\pi} \\int_{-\\infty}^\\infty \\int_{-\\infty}^{\\infty} f(t^\\prime)\\, e^{i\\omega(t^\\prime-t)} dt^\\prime  d\\omega .\n",
    "$$(eq:fourier_theorem)\n",
    "\n",
    "where the function $f(\\cdot)$ in the right hand sides is the same function in the left hand side.  You can express this theorem in two separate integrals.  First, we extract the integral with respect to $t^\\prime$ from Eq. {eq}`eq:fourier_theorem` and define  a new function\n",
    "\n",
    "$$\n",
    "\\tilde{f}(\\omega) = \\int_{-\\infty}^{\\infty} f(t^\\prime)\\, e^{i \\omega t^\\prime}\\, d{t}^\\prime\n",
    "$$(eq:fourier_fwd)\n",
    "\n",
    "and then we write the theorem  as \n",
    "\n",
    "$$\n",
    "f(t) = \\frac{1}{2\\pi} \\int_{-\\infty}^\\infty \\tilde{f}(\\omega)\\, e^{-i\\omega t}\\, d{\\omega} .\n",
    "$$(eq:fourier_inv)\n",
    "\n",
    "Equations {eq}`eq:fourier_fwd` and {eq}`eq:fourier_inv` are commonly called forward and inverse Fourier transform, respectively.\n",
    "In Physics $t$ and $\\omega$ indicate time and angular frequency.  The forward transformation changes the function from the time domain to the frequency domain. There is some confusion regarding the sign on the exponential function.  If $\\omega$ in Eq {eq}`eq:fourier_theorem` is replaced with $-\\omega$, the theorem still holds.  That means we could call Eq.{eq}`eq:fourier_inv` forward transformation and Eq. {eq}`eq:fourier_fwd` inverse transformation.  In fact,\n",
    "when we use position $x$ in place of $t$ and wave number $k$ in place of $\\omega$, we use the opposite convention of the sign\n",
    "  \n",
    "$$\n",
    "\\begin{eqnarray}\n",
    "\\tilde{f}(k)&=&  \\int_{-\\infty}^{\\infty} f(x)\\, e^{- i k x}\\, d{x} \\\\\n",
    "f(x)&=&\\frac{1}{2\\pi} \\int_{-\\infty}^\\infty \\tilde{f}(k)\\, e^{i k x}\\, d{k}\\,.\n",
    "\\end{eqnarray}\n",
    "$$\n",
    "\n",
    "This expression is more convenient in physics because a traveling wave is mathematically expressed by  $e^{i(k x - \\omega t)}$ where spacial and time domains have the opposite sign.\n",
    "\n",
    "Mathematically speaking, however, $t$ and $\\omega$ are just two different variables.  Apart from the prefactor $1/2\\pi$ and the sign of $\\omega$ in the exponential function, the two integrals have the identical form. $\\tilde{f}(\\omega)$ is  Fourier transform of $f(t)$ and in turn $f(t)$ is Fourier transform of $\\tilde{f}(\\omega)$.  It does not make a sense to call one as forward and the other as inverse. \n",
    "\n",
    "Furthermore, there is no reason to place prefactor $1/2\\pi$ in one transformation.   The following symmetric expression is mathematically more preferred:\n",
    "\n",
    "$$\n",
    "\\begin{eqnarray}\n",
    "\\tilde{f}(\\omega)&=& \\frac{1}{\\sqrt{2\\pi}} \\int_{-\\infty}^{\\infty} f(t)\\, e^{i \\omega t}\\, dt \\\\\n",
    "f(t)&=&\\frac{1}{\\sqrt{2\\pi}} \\int_{-\\infty}^\\infty \\tilde{f}(\\omega)\\, e^{-i\\omega t}\\, d\\omega\\,.\n",
    "\\end{eqnarray}\n",
    "$$(eq:fourier_symmetric)\n",
    "\n",
    "Note that the same prefactor appears in both transformation and yet this definition still satisfies the Fourier theorem {eq}`eq:fourier_theorem`.\n",
    "\n",
    "In some communities, yet another expression  \n",
    "\n",
    "$$\n",
    "\\tilde{f}(\\omega) = \\int_{-\\infty}^{\\infty} f(t^\\prime)\\, e^{2 \\pi i f t^\\prime}\\, dt^\\prime\n",
    "$$(eq:fourier_fwd_f)\n",
    "\n",
    "is used. Then we write the inverse transformation  as\n",
    "\n",
    "$$\n",
    "f(t) =  \\int_{-\\infty}^\\infty \\tilde{f}(\\omega)\\, e^{-2 \\pi i f t}\\, d{f} .\n",
    "$$(eq:fourier_inv_f)\n",
    "\n",
    "where $f=\\omega/2\\pi$ is regular frequency.\n",
    "\n",
    "As you can see different definitions are used in different communities.  Accordingly, Fourier transform programs provided by a computational software package use a different sign convention and a prefactor.  You must check the definition used by the package carefully. \n"
   ]
  },
  {
   "cell_type": "markdown",
   "id": "f9e31143-7844-405c-ba34-2b5c22bb43bc",
   "metadata": {},
   "source": [
    "\n",
    "---\n",
    "Written on 9/23/2024 by Ryoichi Kawai."
   ]
  },
  {
   "cell_type": "code",
   "execution_count": null,
   "id": "0e7824ab-25ef-4cc0-b5cb-25398e458f40",
   "metadata": {},
   "outputs": [],
   "source": []
  }
 ],
 "metadata": {
  "kernelspec": {
   "display_name": "jbook",
   "language": "python",
   "name": "jbook"
  },
  "language_info": {
   "codemirror_mode": {
    "name": "ipython",
    "version": 3
   },
   "file_extension": ".py",
   "mimetype": "text/x-python",
   "name": "python",
   "nbconvert_exporter": "python",
   "pygments_lexer": "ipython3",
   "version": "3.10.13"
  }
 },
 "nbformat": 4,
 "nbformat_minor": 5
}
