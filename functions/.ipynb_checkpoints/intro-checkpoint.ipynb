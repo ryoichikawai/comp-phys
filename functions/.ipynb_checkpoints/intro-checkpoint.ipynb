{
 "cells": [
  {
   "cell_type": "markdown",
   "id": "3a4b43b8-e217-41a1-a314-4e96b0eebbac",
   "metadata": {},
   "source": [
    "(ch_functions)=\n",
    "# Functions"
   ]
  },
  {
   "cell_type": "markdown",
   "id": "1ab8b4c9-d30e-427f-914b-519a9b3997ac",
   "metadata": {},
   "source": [
    "Mathematical expressions often involves predefined functions, from elementary functions such as $\\sin(x)$ to special functions such as $H_n(x)$ (Hermite polynomials).  Such functions are not a part of python core.  Many mathematical packages provides them and you have to pick one suitable for your application. In this chapter, the packages used in this lecutre, `math`, `numpy`, `scipy`, `sympy`, and `mpmath` are introduced.\n",
    "\n",
    "Visualizing mathematical expressions is very important not only for showing the results but also for understanding the problems.  Visualization package `matplotlib` is very powerful and we will be using it throughout the lecture."
   ]
  }
 ],
 "metadata": {
  "kernelspec": {
   "display_name": "jbook",
   "language": "python",
   "name": "jbook"
  },
  "language_info": {
   "codemirror_mode": {
    "name": "ipython",
    "version": 3
   },
   "file_extension": ".py",
   "mimetype": "text/x-python",
   "name": "python",
   "nbconvert_exporter": "python",
   "pygments_lexer": "ipython3",
   "version": "3.10.13"
  }
 },
 "nbformat": 4,
 "nbformat_minor": 5
}
