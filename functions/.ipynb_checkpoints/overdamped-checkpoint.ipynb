{
 "cells": [
  {
   "cell_type": "markdown",
   "id": "7ee44c7c-97cd-4985-b373-9fb3288152ad",
   "metadata": {},
   "source": [
    "(sec_overdumped)=\n",
    "# An Overdamped Motion"
   ]
  },
  {
   "cell_type": "markdown",
   "id": "6a851252-9c7f-4ab4-80d6-80ef2a828148",
   "metadata": {},
   "source": [
    "A classical particle of mass $m$ is in a periodic potential field $U(x) = U_0 \\cos(2\\pi x/\\lambda)$ where $U_0 > 0$ is a strength of the potential and $\\lambda > 0$ is the wave length.  The space is filled with a viscous fluid and thus a strong friction force acts on the particle when it moves.  Its motion is determined by the Newton's equation of motion:\n",
    "\n",
    "$$\n",
    "m \\ddot{x} = - \\gamma \\dot{x} + \\frac{2\\pi U_0}{\\lambda} \\sin\\left(\\frac{2\\pi x}{\\lambda}\\right)\n",
    "$$\n",
    "\n",
    "where $\\gamma>0$ is the friction constant.  The friction is so strong that the inertial term $m \\ddot{x}$ can be neglected (overdupmed).  Using the normalized coordinate $\\xi =\\displaystyle\\frac{2\\pi x}{\\lambda}$ and time $\\tau = \\displaystyle\\frac{U_0}{\\gamma} \\left(\\displaystyle\\frac{2\\pi}{\\lambda}\\right)^2 t$, the equation of motion becomes \n",
    "\n",
    "$$\n",
    "\\frac{d}{d\\tau} \\xi = \\sin(\\xi)\n",
    "$$\n",
    "\n",
    "The solution to this differential equation is given by {cite}`Strogatz2024`\n",
    "\n",
    "$$\n",
    "\\tau = \\ln \\left|\\frac{\\csc \\xi_0+\\cot \\xi_0}{\\csc \\xi + \\cot \\xi} \\right|\n",
    "$$\n",
    "\n",
    "where $\\xi_0$ is the initial position. While this is exact, it is very difficult to interpret.  We want to know the position of the particle as a function of time, that is $\\xi(\\tau)$. Instead we have $\\tau(\\xi)$.  It seems impossible to invert the above expression.  So, we resort to a numerical method. Inverting a function on the graph is simple.  Just swap the vertical and the horizontal axes. We calculate $\\tau(\\xi)$ and plot the curve with the horizontal axis as $\\tau$ and the vertical axis as $\\xi$.  To do so, we need to know the range of $\\xi$. What we are sure is that the particle moves toward the nearest potential minimum and it does not move once it reaches the minimum, which is $(2n+1)\\pi$ where $n$ is an integer.  So, the range of $\\xi$ is $[\\xi_0, (2n+1) \\pi]$ if $2\\pi n < \\xi_0 < (2n+1)\\pi$ and $[(2n-1)\\pi, \\xi_0]$ if $(2n-1)\\pi < \\xi_0 < 2n \\pi$."
   ]
  },
  {
   "cell_type": "code",
   "execution_count": null,
   "id": "51b96787-d7b0-4a85-bd0e-9ac56270e0a5",
   "metadata": {},
   "outputs": [],
   "source": [
    "\n",
    "import numpy as np\n",
    "import matplotlib.pyplot as plt\n",
    "\n",
    "def f(x,x0):\n",
    "\n",
    "    y = np.log((1/np.sin(x0)+1/np.tan(x0))/(1/np.sin(x)+1/np.tan(x)))\n",
    "    return y\n",
    "    \n",
    "# chose the initial position between 0 and pi/2\n",
    "x0 = 0.1\n",
    "\n",
    "# the nearest potential minimum\n",
    "x1 = np.pi\n",
    "\n",
    "# the grid point between x0 and x1\n",
    "# the final point is slightly before the minimum\n",
    "x = np.linspace(x0,x1-1e-5,101)\n",
    "\n",
    "t = f(x,x0)\n",
    "\n",
    "plt.plot(t,x,'-k')\n",
    "plt.axhline(y = x1, color = '0.8', linestyle = '--') \n",
    "plt.ylim([x0-0.5,x1+0.5])\n",
    "plt.xlabel(r\"$\\tau$\")\n",
    "plt.ylabel(r\"$\\xi(\\tau)$\")\n",
    "plt.text(0,x1+0.1,r\"$\\xi=\\pi$ (potential minimum)\")\n",
    "plt.show()"
   ]
  },
  {
   "cell_type": "markdown",
   "id": "c2c59480-7970-4d20-9b44-398ef1f0f696",
   "metadata": {},
   "source": [
    "The plot indicates that the particle initially accelerates toward the destination but slows down after $\\xi=\\pi/2$.  By $\\tau=7$, the particle is almost at the minimum.  After that the particle moves very slowly and seems never reach the minimum.  Mathematically, it can be shown that the the particle approaches the minimum asymptotically and never arrives the exact minimum. {cite}`Strogatz2024`"
   ]
  },
  {
   "cell_type": "markdown",
   "id": "76473e66-3880-4198-bc4b-6e64e1d3e7b6",
   "metadata": {},
   "source": [
    "___\n",
    "\n",
    "Last modified on 3/10/2024 by R. Kawai."
   ]
  }
 ],
 "metadata": {
  "kernelspec": {
   "display_name": "book",
   "language": "python",
   "name": "book"
  },
  "language_info": {
   "codemirror_mode": {
    "name": "ipython",
    "version": 3
   },
   "file_extension": ".py",
   "mimetype": "text/x-python",
   "name": "python",
   "nbconvert_exporter": "python",
   "pygments_lexer": "ipython3",
   "version": "3.12.11"
  }
 },
 "nbformat": 4,
 "nbformat_minor": 5
}
