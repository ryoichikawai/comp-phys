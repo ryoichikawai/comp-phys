{
 "cells": [
  {
   "cell_type": "markdown",
   "id": "4ae1f164-69bd-4a4c-84df-3e358ca4effa",
   "metadata": {},
   "source": [
    "(sec-jupyter)=\n",
    "# JupyterLab\n"
   ]
  },
  {
   "cell_type": "markdown",
   "id": "d0209622-44f9-4eb8-b405-0253304bac53",
   "metadata": {},
   "source": [
    "Jupyter is a project to develop an interactive environment for data science and scientific computing. (See [jupyter.org](https://jupyter.org/).)  It provides a popular web-based interactive development environment (IDE), *Jupyter Notebook*.  We use a next-generation of notebook called *JupyterLab* in this book.  With JupyterLab, you can create an interactive document consisting of texts written in *Markdown* and Python codes.  In fact, this book is entirely written in JupyterLab. Since it runs in a web browser, you can use JupyterLab running on remote computers.  There are free online services that allow anyone to use their JupyterLab.  However, it is convenient to have it on your own computer since we use some extensions which may not be available at the free services.  "
   ]
  },
  {
   "cell_type": "markdown",
   "id": "4597b8ba-c793-42de-b7d3-e7b2e243f906",
   "metadata": {},
   "source": [
    "## Installation  [^skip-jupyter-installation]\n",
    "\n",
    "Anaconda install JupyterLab by default.  However, certain extensions used in this book are not automatically installed.  To install them, open an Anaconda terminal window and install them as shown below.\n",
    "\n",
    "* nbextensions\n",
    "\n",
    "```\n",
    "pip install jupyter-contrib-nbextensions\n",
    "jupyter contrib nbextension install --user\n",
    "```\n",
    "\n",
    "* spellchecker\n",
    "```\n",
    "pip install jupyterlab-spellchecker\n",
    "```\n",
    "\n",
    "* mathjax\n",
    "```\n",
    "pip install jupyter-serever-mathjax\n",
    "pip install jupyterlab-mathjax3\n",
    "```"
   ]
  },
  {
   "cell_type": "markdown",
   "id": "d28c15c7-bebc-430a-9c69-6acbe856fe70",
   "metadata": {},
   "source": [
    "## Launching \n",
    "\n",
    "There are several different ways to launch JupyterLab depending on the OS.  On any OS, you can launch it from the Anaconda terminal:\n",
    "```\n",
    "jupyter-lab\n",
    "```\n",
    "This opens an default web browser and JupyterLab appears in it.  If the web browser is already opened, it appears in a new tab.\n",
    "\n",
    "On MS Windows, you can start Anaconda Navigator from Start Menu.  It takes a minute to launch the navigator.  Just click JupyterLab shown inside the navigator.  Anaconda does not provide an icon to launch JupyterLab but you find one for Jupyter Notebook in Start Menu.  You can copy it to desktop and modify it.  Simply replace notebook with lab in the target.\n",
    "\n",
    "On Linux, you can create a desktop application file easily.  The actual name of executable is jupyter-lab and it is located in ~/anaconda3/bin.  Depending on the Linux distribution, notebook files with \".ipynb\" extension is associated with jupyter-lab.  If you click a notebook file in a file manager,  jupyter-lab is automatically launched. (It seems difficult to do it on MS Windows.)\n"
   ]
  },
  {
   "cell_type": "markdown",
   "id": "cd9cb47e-098f-44ad-813d-b9213954e69a",
   "metadata": {},
   "source": [
    "## Usage\n",
    "\n",
    "JupyterLab create a notebook consisting of three types of blocks, Markdown block, input code block, and output code block.  In a Markdown block, you write texts, tables, images, and equations using Markdown. Markdown is used in many other applications such as wikipedia and github. Most of formatting methods used in github also work in JupyterLab.  See [writing-on-github](https://docs.github.com/en/get-started/writing-on-github) for the formatting syntax. \n",
    "\n",
    "In a code block, you write python codes. They are computed right a way. Right now, I am in Markdown block.  The next block is an input code block.  You see a python code in it and its output appears in output block right below the input code block."
   ]
  },
  {
   "cell_type": "code",
   "execution_count": 5,
   "id": "65326e51-67e3-4484-b206-94fb34e1e5e3",
   "metadata": {},
   "outputs": [
    {
     "name": "stdout",
     "output_type": "stream",
     "text": [
      "x^2+y^2= 13\n"
     ]
    }
   ],
   "source": [
    "x=2\n",
    "y=3\n",
    "print(\"x^2+y^2=\",x**2+y**2)"
   ]
  },
  {
   "cell_type": "markdown",
   "id": "47992925-f336-4d52-b57c-697170095510",
   "metadata": {},
   "source": [
    "## Mathematical expression\n",
    "\n",
    "For us, ability to write mathematical expression is important.  Here are examples.  You can write mathematical equation using LaTeX.  An in-line equation start with `$` and another `$` after the equation. For example,\n",
    "\n",
    "```\n",
    "$ \\int \\cos x dx = \\sin x$\n",
    "```\n",
    "is rendered as $ \\int \\cos x dx = \\sin x$.\n",
    "\n",
    "A display equation begins with `$$` which start a equation environment.  In a new line, you write an equation.  Then, another `$$` closes the environment.  For example,\n",
    "```\n",
    "$$\n",
    "\\int_0^\\infty e^{-x} dx = 1\n",
    "$$\n",
    "```\n",
    "becomes\n",
    "\n",
    "$$\n",
    "\\int_0^\\infty e^{-x} dx = 1\n",
    "$$\n"
   ]
  },
  {
   "cell_type": "markdown",
   "id": "3e25690b-fedc-48f7-af89-aeeb8b3b343e",
   "metadata": {},
   "source": [
    "## Closing JupyterLab  \n",
    "\n",
    "Just closing web browser does not stop JupyterLab.  It is still running in the background.  To close JupyterLab, use \"shutdown\" in \"File\"."
   ]
  },
  {
   "cell_type": "markdown",
   "id": "0113aa3e-3a48-45af-9510-bd6989c2d566",
   "metadata": {},
   "source": [
    "[^skip-jupyter-installation]: If your computer does not have enough storage or power to run Python and JupyterLab, skip Installation.  Use an online IDE introduced in section Colab."
   ]
  }
 ],
 "metadata": {
  "kernelspec": {
   "display_name": "book",
   "language": "python",
   "name": "book"
  },
  "language_info": {
   "codemirror_mode": {
    "name": "ipython",
    "version": 3
   },
   "file_extension": ".py",
   "mimetype": "text/x-python",
   "name": "python",
   "nbconvert_exporter": "python",
   "pygments_lexer": "ipython3",
   "version": "3.12.11"
  }
 },
 "nbformat": 4,
 "nbformat_minor": 5
}
